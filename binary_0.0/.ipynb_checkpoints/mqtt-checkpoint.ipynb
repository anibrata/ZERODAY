{
 "cells": [
  {
   "cell_type": "code",
   "execution_count": 248,
   "id": "2f5f6d15",
   "metadata": {},
   "outputs": [],
   "source": [
    "#################################################################\n",
    "# Import libraries\n",
    "#################################################################\n",
    "import random\n",
    "import string\n",
    "\n",
    "# Modelling\n",
    "from sklearn.ensemble import RandomForestClassifier, AdaBoostClassifier, ExtraTreesClassifier\n",
    "from sklearn.metrics import accuracy_score, confusion_matrix, precision_score, recall_score, ConfusionMatrixDisplay\n",
    "from sklearn.model_selection import RandomizedSearchCV, train_test_split\n",
    "from scipy.stats import randint\n",
    "\n",
    "# Tree Visualisation\n",
    "from sklearn.tree import export_graphviz\n",
    "from IPython.display import Image\n",
    "# import graphviz\n",
    "\n",
    "import matplotlib.pyplot as plt\n",
    "import numpy as np\n",
    "import pandas as pd\n",
    "from pathlib import Path\n",
    "import os\n",
    "import re\n",
    "import sys\n",
    "from sklearn.svm import SVC\n",
    "from sklearn.cluster import SpectralClustering\n",
    "from sklearn.metrics import normalized_mutual_info_score\n",
    "from sklearn.decomposition import PCA\n",
    "from sklearn.preprocessing import MinMaxScaler\n",
    "from qboost.qboost import QBoostClassifier\n",
    "from dwave.system.samplers import DWaveSampler\n",
    "import time\n",
    "from sklearn.pipeline import make_pipeline\n",
    "from sklearn.preprocessing import StandardScaler\n",
    "from dwave.system.composites import EmbeddingComposite\n",
    "import time\n",
    "from sklearn.pipeline import make_pipeline\n",
    "from sklearn.preprocessing import StandardScaler\n",
    "from datetime import datetime\n",
    "from sklearn.metrics import classification_report\n",
    "from sklearn import metrics\n",
    "\n",
    "# import psycopg2\n",
    "# from psycopg2.extras import RealDictCursor\n",
    "from imblearn.under_sampling import RandomUnderSampler\n",
    "from timeit import default_timer as timer\n",
    "from datetime import *\n",
    "from collections import Counter\n",
    "from connect import connect\n",
    "\n",
    "# Garbage collection\n",
    "import gc\n",
    "\n",
    "from sklearn.model_selection import cross_val_score\n",
    "from sklearn.model_selection import RepeatedStratifiedKFold\n",
    "from sklearn.tree import DecisionTreeClassifier\n",
    "from imblearn.pipeline import Pipeline\n",
    "from imblearn.over_sampling import SMOTE\n",
    "from imblearn.under_sampling import RandomUnderSampler\n",
    "from numpy import mean\n",
    "\n",
    "from sklearn.model_selection import KFold\n",
    "from sklearn.metrics import precision_score, recall_score, f1_score\n",
    "from collections import Counter\n",
    "\n",
    "\n",
    "#################################################################\n",
    "# Import libraries\n",
    "#################################################################\n",
    "import random\n",
    "import string\n",
    "\n",
    "# Modelling\n",
    "from sklearn.ensemble import RandomForestClassifier, AdaBoostClassifier, ExtraTreesClassifier\n",
    "from sklearn.metrics import accuracy_score, confusion_matrix, precision_score, recall_score, ConfusionMatrixDisplay\n",
    "from sklearn.model_selection import RandomizedSearchCV, train_test_split\n",
    "from scipy.stats import randint\n",
    "\n",
    "# Tree Visualisation\n",
    "from sklearn.tree import export_graphviz\n",
    "from IPython.display import Image\n",
    "from IPython.display import clear_output\n",
    "# import graphviz\n",
    "\n",
    "import matplotlib.pyplot as plt\n",
    "import numpy as np\n",
    "import pandas as pd\n",
    "from pathlib import Path\n",
    "import os\n",
    "import re\n",
    "import sys\n",
    "from sklearn.svm import SVC\n",
    "from sklearn.cluster import SpectralClustering\n",
    "from sklearn.metrics import normalized_mutual_info_score\n",
    "from sklearn.decomposition import PCA\n",
    "from sklearn.preprocessing import MinMaxScaler\n",
    "from qboost.qboost import QBoostClassifier\n",
    "from dwave.system.samplers import DWaveSampler\n",
    "import time\n",
    "from sklearn.pipeline import make_pipeline\n",
    "from sklearn.preprocessing import StandardScaler\n",
    "from dwave.system.composites import EmbeddingComposite\n",
    "import time\n",
    "from sklearn.pipeline import make_pipeline\n",
    "from sklearn.preprocessing import StandardScaler\n",
    "from datetime import datetime\n",
    "from sklearn.metrics import classification_report\n",
    "from sklearn import metrics\n",
    "\n",
    "# import psycopg2\n",
    "# from psycopg2.extras import RealDictCursor\n",
    "from timeit import default_timer as timer\n",
    "from datetime import *\n",
    "from collections import Counter\n",
    "from connect import connect\n",
    "\n",
    "# Garbage collection\n",
    "import gc\n",
    "\n",
    "from sklearn.model_selection import cross_val_score\n",
    "from sklearn.model_selection import RepeatedStratifiedKFold\n",
    "from sklearn.tree import DecisionTreeClassifier\n",
    "from imblearn.pipeline import Pipeline\n",
    "from imblearn.over_sampling import SMOTE\n",
    "from imblearn.under_sampling import RandomUnderSampler\n",
    "from numpy import mean\n",
    "\n",
    "from sklearn.model_selection import KFold\n",
    "from sklearn.metrics import precision_score, recall_score, f1_score\n",
    "from collections import Counter\n"
   ]
  },
  {
   "cell_type": "code",
   "execution_count": 254,
   "id": "26b4c2a1",
   "metadata": {},
   "outputs": [],
   "source": [
    "# Import Qiskit libraries\n",
    "from qiskit import QuantumCircuit\n",
    "from qiskit.algorithms.optimizers import COBYLA, L_BFGS_B\n",
    "from qiskit.circuit import Parameter\n",
    "from qiskit.circuit.library import RealAmplitudes, ZZFeatureMap\n",
    "from qiskit.utils import algorithm_globals\n",
    "from qiskit_machine_learning.algorithms.classifiers import NeuralNetworkClassifier, VQC\n",
    "from qiskit_machine_learning.algorithms.regressors import NeuralNetworkRegressor, VQR\n",
    "from qiskit_machine_learning.neural_networks import SamplerQNN, EstimatorQNN\n",
    "from qiskit.circuit.library import EfficientSU2\n",
    "\n",
    "from qiskit.circuit.library import ZFeatureMap\n",
    "from qiskit.utils import algorithm_globals\n",
    "from qiskit_machine_learning.kernels import FidelityQuantumKernel\n",
    "from qiskit_machine_learning.algorithms import PegasosQSVC"
   ]
  },
  {
   "cell_type": "code",
   "execution_count": 251,
   "id": "18cbc48f",
   "metadata": {},
   "outputs": [
    {
     "name": "stdout",
     "output_type": "stream",
     "text": [
      "Collecting qiskit\n",
      "  Downloading qiskit-0.43.2.tar.gz (9.1 kB)\n",
      "  Installing build dependencies ... \u001b[?25ldone\n",
      "\u001b[?25h  Getting requirements to build wheel ... \u001b[?25ldone\n",
      "\u001b[?25h  Installing backend dependencies ... \u001b[?25ldone\n",
      "\u001b[?25h    Preparing wheel metadata ... \u001b[?25ldone\n",
      "\u001b[?25hCollecting qiskit-terra==0.24.1\n",
      "  Downloading qiskit_terra-0.24.1-cp39-cp39-manylinux_2_17_x86_64.manylinux2014_x86_64.whl (5.9 MB)\n",
      "\u001b[K     |████████████████████████████████| 5.9 MB 128 kB/s eta 0:00:01\n",
      "\u001b[?25hCollecting qiskit-ibmq-provider==0.20.2\n",
      "  Using cached qiskit_ibmq_provider-0.20.2-py3-none-any.whl (241 kB)\n",
      "Collecting qiskit-aer==0.12.1\n",
      "  Downloading qiskit_aer-0.12.1-cp39-cp39-manylinux_2_17_x86_64.manylinux2014_x86_64.whl (12.8 MB)\n",
      "\u001b[K     |████████████████████████████████| 12.8 MB 98 kB/s eta 0:00:014\n",
      "\u001b[?25hRequirement already satisfied: numpy>=1.16.3 in /home/anibrata/anaconda3/lib/python3.9/site-packages (from qiskit-aer==0.12.1->qiskit) (1.21.5)\n",
      "Requirement already satisfied: scipy>=1.0 in /home/anibrata/anaconda3/lib/python3.9/site-packages (from qiskit-aer==0.12.1->qiskit) (1.7.3)\n",
      "Collecting requests-ntlm<=1.1.0\n",
      "  Downloading requests_ntlm-1.1.0-py2.py3-none-any.whl (5.7 kB)\n",
      "Collecting websocket-client>=1.5.1\n",
      "  Downloading websocket_client-1.6.1-py3-none-any.whl (56 kB)\n",
      "\u001b[K     |████████████████████████████████| 56 kB 2.2 MB/s eta 0:00:01\n",
      "\u001b[?25hRequirement already satisfied: python-dateutil>=2.8.0 in /home/anibrata/anaconda3/lib/python3.9/site-packages (from qiskit-ibmq-provider==0.20.2->qiskit) (2.8.2)\n",
      "Requirement already satisfied: urllib3>=1.21.1 in /home/anibrata/anaconda3/lib/python3.9/site-packages (from qiskit-ibmq-provider==0.20.2->qiskit) (1.26.9)\n",
      "Requirement already satisfied: websockets>=10.0 in /home/anibrata/anaconda3/lib/python3.9/site-packages (from qiskit-ibmq-provider==0.20.2->qiskit) (10.3)\n",
      "Requirement already satisfied: requests>=2.19 in /home/anibrata/anaconda3/lib/python3.9/site-packages (from qiskit-ibmq-provider==0.20.2->qiskit) (2.27.1)\n",
      "Collecting dill>=0.3\n",
      "  Using cached dill-0.3.6-py3-none-any.whl (110 kB)\n",
      "Requirement already satisfied: sympy>=1.3 in /home/anibrata/anaconda3/lib/python3.9/site-packages (from qiskit-terra==0.24.1->qiskit) (1.10.1)\n",
      "Collecting stevedore>=3.0.0\n",
      "  Downloading stevedore-5.1.0-py3-none-any.whl (49 kB)\n",
      "\u001b[K     |████████████████████████████████| 49 kB 2.8 MB/s eta 0:00:01\n",
      "\u001b[?25hRequirement already satisfied: psutil>=5 in /home/anibrata/anaconda3/lib/python3.9/site-packages (from qiskit-terra==0.24.1->qiskit) (5.8.0)\n",
      "Collecting ply>=3.10\n",
      "  Using cached ply-3.11-py2.py3-none-any.whl (49 kB)\n",
      "Collecting rustworkx>=0.12.0\n",
      "  Downloading rustworkx-0.13.0-cp39-cp39-manylinux_2_17_x86_64.manylinux2014_x86_64.whl (1.9 MB)\n",
      "\u001b[K     |████████████████████████████████| 1.9 MB 2.3 MB/s eta 0:00:01\n",
      "\u001b[?25hCollecting symengine<0.10,>=0.9\n",
      "  Downloading symengine-0.9.2-cp39-cp39-manylinux2010_x86_64.whl (37.5 MB)\n",
      "\u001b[K     |████████████████████████████████| 37.5 MB 2.3 MB/s eta 0:00:01\n",
      "\u001b[?25hRequirement already satisfied: six>=1.5 in /home/anibrata/anaconda3/lib/python3.9/site-packages (from python-dateutil>=2.8.0->qiskit-ibmq-provider==0.20.2->qiskit) (1.16.0)\n",
      "Requirement already satisfied: idna<4,>=2.5 in /home/anibrata/anaconda3/lib/python3.9/site-packages (from requests>=2.19->qiskit-ibmq-provider==0.20.2->qiskit) (3.3)\n",
      "Requirement already satisfied: certifi>=2017.4.17 in /home/anibrata/anaconda3/lib/python3.9/site-packages (from requests>=2.19->qiskit-ibmq-provider==0.20.2->qiskit) (2023.5.7)\n",
      "Requirement already satisfied: charset-normalizer~=2.0.0 in /home/anibrata/anaconda3/lib/python3.9/site-packages (from requests>=2.19->qiskit-ibmq-provider==0.20.2->qiskit) (2.0.4)\n",
      "Requirement already satisfied: cryptography>=1.3 in /home/anibrata/anaconda3/lib/python3.9/site-packages (from requests-ntlm<=1.1.0->qiskit-ibmq-provider==0.20.2->qiskit) (3.4.8)\n",
      "Collecting ntlm-auth>=1.0.2\n",
      "  Downloading ntlm_auth-1.5.0-py2.py3-none-any.whl (29 kB)\n",
      "Requirement already satisfied: cffi>=1.12 in /home/anibrata/anaconda3/lib/python3.9/site-packages (from cryptography>=1.3->requests-ntlm<=1.1.0->qiskit-ibmq-provider==0.20.2->qiskit) (1.15.0)\n",
      "Requirement already satisfied: pycparser in /home/anibrata/anaconda3/lib/python3.9/site-packages (from cffi>=1.12->cryptography>=1.3->requests-ntlm<=1.1.0->qiskit-ibmq-provider==0.20.2->qiskit) (2.21)\n",
      "Collecting pbr!=2.1.0,>=2.0.0\n",
      "  Using cached pbr-5.11.1-py2.py3-none-any.whl (112 kB)\n",
      "Requirement already satisfied: mpmath>=0.19 in /home/anibrata/anaconda3/lib/python3.9/site-packages (from sympy>=1.3->qiskit-terra==0.24.1->qiskit) (1.2.1)\n",
      "Building wheels for collected packages: qiskit\n",
      "  Building wheel for qiskit (PEP 517) ... \u001b[?25ldone\n",
      "\u001b[?25h  Created wheel for qiskit: filename=qiskit-0.43.2-py3-none-any.whl size=7640 sha256=513259309da3634cb541639ed1aae22c7dfed2c7a218eea728ebf423d4d8dfcc\n",
      "  Stored in directory: /home/anibrata/.cache/pip/wheels/8d/4c/3f/708a0060a64724b19e15b1cfedf4b005d24d4038462d8b19b5\n",
      "Successfully built qiskit\n",
      "Installing collected packages: pbr, symengine, stevedore, rustworkx, ply, ntlm-auth, dill, websocket-client, requests-ntlm, qiskit-terra, qiskit-ibmq-provider, qiskit-aer, qiskit\n",
      "  Attempting uninstall: websocket-client\n",
      "    Found existing installation: websocket-client 0.58.0\n",
      "    Uninstalling websocket-client-0.58.0:\n",
      "      Successfully uninstalled websocket-client-0.58.0\n",
      "Successfully installed dill-0.3.6 ntlm-auth-1.5.0 pbr-5.11.1 ply-3.11 qiskit-0.43.2 qiskit-aer-0.12.1 qiskit-ibmq-provider-0.20.2 qiskit-terra-0.24.1 requests-ntlm-1.1.0 rustworkx-0.13.0 stevedore-5.1.0 symengine-0.9.2 websocket-client-1.6.1\n"
     ]
    }
   ],
   "source": [
    "!pip3 install qiskit"
   ]
  },
  {
   "cell_type": "code",
   "execution_count": 253,
   "id": "9788e190",
   "metadata": {},
   "outputs": [
    {
     "name": "stdout",
     "output_type": "stream",
     "text": [
      "Collecting qiskit_machine_learning\n",
      "  Using cached qiskit_machine_learning-0.6.1-py3-none-any.whl (148 kB)\n",
      "Requirement already satisfied: dill>=0.3.4 in /home/anibrata/anaconda3/lib/python3.9/site-packages (from qiskit_machine_learning) (0.3.6)\n",
      "Requirement already satisfied: psutil>=5 in /home/anibrata/anaconda3/lib/python3.9/site-packages (from qiskit_machine_learning) (5.8.0)\n",
      "Requirement already satisfied: numpy>=1.17 in /home/anibrata/anaconda3/lib/python3.9/site-packages (from qiskit_machine_learning) (1.21.5)\n",
      "Requirement already satisfied: setuptools>=40.1.0 in /home/anibrata/anaconda3/lib/python3.9/site-packages (from qiskit_machine_learning) (61.2.0)\n",
      "Collecting fastdtw\n",
      "  Using cached fastdtw-0.3.4.tar.gz (133 kB)\n",
      "Requirement already satisfied: scikit-learn>=0.20.0 in /home/anibrata/anaconda3/lib/python3.9/site-packages (from qiskit_machine_learning) (1.0.2)\n",
      "Requirement already satisfied: qiskit-terra>=0.22.2 in /home/anibrata/anaconda3/lib/python3.9/site-packages (from qiskit_machine_learning) (0.24.1)\n",
      "Requirement already satisfied: scipy>=1.4 in /home/anibrata/anaconda3/lib/python3.9/site-packages (from qiskit_machine_learning) (1.7.3)\n",
      "Requirement already satisfied: symengine<0.10,>=0.9 in /home/anibrata/anaconda3/lib/python3.9/site-packages (from qiskit-terra>=0.22.2->qiskit_machine_learning) (0.9.2)\n",
      "Requirement already satisfied: python-dateutil>=2.8.0 in /home/anibrata/anaconda3/lib/python3.9/site-packages (from qiskit-terra>=0.22.2->qiskit_machine_learning) (2.8.2)\n",
      "Requirement already satisfied: ply>=3.10 in /home/anibrata/anaconda3/lib/python3.9/site-packages (from qiskit-terra>=0.22.2->qiskit_machine_learning) (3.11)\n",
      "Requirement already satisfied: stevedore>=3.0.0 in /home/anibrata/anaconda3/lib/python3.9/site-packages (from qiskit-terra>=0.22.2->qiskit_machine_learning) (5.1.0)\n",
      "Requirement already satisfied: rustworkx>=0.12.0 in /home/anibrata/anaconda3/lib/python3.9/site-packages (from qiskit-terra>=0.22.2->qiskit_machine_learning) (0.13.0)\n",
      "Requirement already satisfied: sympy>=1.3 in /home/anibrata/anaconda3/lib/python3.9/site-packages (from qiskit-terra>=0.22.2->qiskit_machine_learning) (1.10.1)\n",
      "Requirement already satisfied: six>=1.5 in /home/anibrata/anaconda3/lib/python3.9/site-packages (from python-dateutil>=2.8.0->qiskit-terra>=0.22.2->qiskit_machine_learning) (1.16.0)\n",
      "Requirement already satisfied: threadpoolctl>=2.0.0 in /home/anibrata/anaconda3/lib/python3.9/site-packages (from scikit-learn>=0.20.0->qiskit_machine_learning) (2.2.0)\n",
      "Requirement already satisfied: joblib>=0.11 in /home/anibrata/anaconda3/lib/python3.9/site-packages (from scikit-learn>=0.20.0->qiskit_machine_learning) (1.2.0)\n",
      "Requirement already satisfied: pbr!=2.1.0,>=2.0.0 in /home/anibrata/anaconda3/lib/python3.9/site-packages (from stevedore>=3.0.0->qiskit-terra>=0.22.2->qiskit_machine_learning) (5.11.1)\n",
      "Requirement already satisfied: mpmath>=0.19 in /home/anibrata/anaconda3/lib/python3.9/site-packages (from sympy>=1.3->qiskit-terra>=0.22.2->qiskit_machine_learning) (1.2.1)\n",
      "Building wheels for collected packages: fastdtw\n",
      "  Building wheel for fastdtw (setup.py) ... \u001b[?25ldone\n",
      "\u001b[?25h  Created wheel for fastdtw: filename=fastdtw-0.3.4-cp39-cp39-linux_x86_64.whl size=114939 sha256=b90be05fec60d1c778b7a6e5983f80d35e324e45f9b84813fdb24a124478aa29\n",
      "  Stored in directory: /home/anibrata/.cache/pip/wheels/1f/a1/63/bfd0fddb5bf0b59f564872e29272cee8a2de0cd745d88fede5\n",
      "Successfully built fastdtw\n",
      "Installing collected packages: fastdtw, qiskit-machine-learning\n",
      "Successfully installed fastdtw-0.3.4 qiskit-machine-learning-0.6.1\n"
     ]
    }
   ],
   "source": [
    "!pip3 install qiskit_machine_learning"
   ]
  },
  {
   "cell_type": "code",
   "execution_count": 250,
   "id": "06b886fb",
   "metadata": {},
   "outputs": [
    {
     "name": "stdout",
     "output_type": "stream",
     "text": [
      "Collecting graphviz\n",
      "  Using cached graphviz-0.20.1-py3-none-any.whl (47 kB)\n",
      "Installing collected packages: graphviz\n",
      "Successfully installed graphviz-0.20.1\n"
     ]
    }
   ],
   "source": [
    "!pip3 install graphviz"
   ]
  },
  {
   "cell_type": "code",
   "execution_count": 84,
   "id": "454f3fa0",
   "metadata": {},
   "outputs": [],
   "source": [
    "pd.set_option(\"display.max_columns\", 50)\n",
    "pd.set_option(\"display.max_rows\", 50)"
   ]
  },
  {
   "cell_type": "code",
   "execution_count": 3,
   "id": "b276142c",
   "metadata": {},
   "outputs": [],
   "source": [
    "import seaborn as sns"
   ]
  },
  {
   "cell_type": "code",
   "execution_count": 247,
   "id": "4f2d4408",
   "metadata": {},
   "outputs": [
    {
     "data": {
      "text/plain": [
       "1117"
      ]
     },
     "execution_count": 247,
     "metadata": {},
     "output_type": "execute_result"
    }
   ],
   "source": [
    "gc.collect()"
   ]
  },
  {
   "cell_type": "code",
   "execution_count": 5,
   "id": "01b5ef42",
   "metadata": {},
   "outputs": [],
   "source": [
    "def loadData(path):\n",
    "    data = pd.read_csv(path)\n",
    "    # print(data)\n",
    "    return data"
   ]
  },
  {
   "cell_type": "code",
   "execution_count": 7,
   "id": "d235d489",
   "metadata": {},
   "outputs": [],
   "source": [
    "# path = '../../../Dataset/IoT Intrusion Dataset/IoT Network Intrusion Dataset.csv'\n",
    "path = '../data/mqtt_train70_reduced.csv'"
   ]
  },
  {
   "cell_type": "code",
   "execution_count": 130,
   "id": "4fc3f4f6",
   "metadata": {},
   "outputs": [],
   "source": [
    "tpath = '../data/mqtt_test30_reduced.csv'"
   ]
  },
  {
   "cell_type": "code",
   "execution_count": 8,
   "id": "d136d8f9",
   "metadata": {},
   "outputs": [],
   "source": [
    "dataframe =  loadData(path)"
   ]
  },
  {
   "cell_type": "code",
   "execution_count": 132,
   "id": "fec732a7",
   "metadata": {},
   "outputs": [],
   "source": [
    "df1 = loadData(tpath)"
   ]
  },
  {
   "cell_type": "code",
   "execution_count": 9,
   "id": "d7e924b5",
   "metadata": {},
   "outputs": [],
   "source": [
    "df = dataframe"
   ]
  },
  {
   "cell_type": "code",
   "execution_count": 133,
   "id": "481ff21f",
   "metadata": {},
   "outputs": [],
   "source": [
    "df = pd.concat([dataframe, df1])"
   ]
  },
  {
   "cell_type": "markdown",
   "id": "0970df73",
   "metadata": {},
   "source": [
    "### Data cleaning\n",
    "#### 1. Remove all columns which have more than 75% data missing. Check against NaN values.\n",
    "#### 2. Remove all columns which have (-)ve correlation with the target value\n",
    "#### 3. Remove all columns which have 0 correlation\n",
    "#### 4. Remove all columns which have corellation at the 1000th position"
   ]
  },
  {
   "cell_type": "markdown",
   "id": "8afd8039",
   "metadata": {},
   "source": [
    "#### Find non-numeric features"
   ]
  },
  {
   "cell_type": "code",
   "execution_count": 134,
   "id": "dbc3c252",
   "metadata": {},
   "outputs": [
    {
     "data": {
      "text/html": [
       "<div>\n",
       "<style scoped>\n",
       "    .dataframe tbody tr th:only-of-type {\n",
       "        vertical-align: middle;\n",
       "    }\n",
       "\n",
       "    .dataframe tbody tr th {\n",
       "        vertical-align: top;\n",
       "    }\n",
       "\n",
       "    .dataframe thead th {\n",
       "        text-align: right;\n",
       "    }\n",
       "</style>\n",
       "<table border=\"1\" class=\"dataframe\">\n",
       "  <thead>\n",
       "    <tr style=\"text-align: right;\">\n",
       "      <th></th>\n",
       "      <th>tcp.flags</th>\n",
       "      <th>tcp.time_delta</th>\n",
       "      <th>tcp.len</th>\n",
       "      <th>mqtt.conack.flags</th>\n",
       "      <th>mqtt.conack.flags.reserved</th>\n",
       "      <th>mqtt.conack.flags.sp</th>\n",
       "      <th>mqtt.conack.val</th>\n",
       "      <th>mqtt.conflag.cleansess</th>\n",
       "      <th>mqtt.conflag.passwd</th>\n",
       "      <th>mqtt.conflag.qos</th>\n",
       "      <th>mqtt.conflag.reserved</th>\n",
       "      <th>mqtt.conflag.retain</th>\n",
       "      <th>mqtt.conflag.uname</th>\n",
       "      <th>mqtt.conflag.willflag</th>\n",
       "      <th>mqtt.conflags</th>\n",
       "      <th>mqtt.dupflag</th>\n",
       "      <th>mqtt.hdrflags</th>\n",
       "      <th>mqtt.kalive</th>\n",
       "      <th>mqtt.len</th>\n",
       "      <th>mqtt.msg</th>\n",
       "      <th>mqtt.msgid</th>\n",
       "      <th>mqtt.msgtype</th>\n",
       "      <th>mqtt.proto_len</th>\n",
       "      <th>mqtt.protoname</th>\n",
       "      <th>mqtt.qos</th>\n",
       "      <th>mqtt.retain</th>\n",
       "      <th>mqtt.sub.qos</th>\n",
       "      <th>mqtt.suback.qos</th>\n",
       "      <th>mqtt.ver</th>\n",
       "      <th>mqtt.willmsg</th>\n",
       "      <th>mqtt.willmsg_len</th>\n",
       "      <th>mqtt.willtopic</th>\n",
       "      <th>mqtt.willtopic_len</th>\n",
       "      <th>target</th>\n",
       "    </tr>\n",
       "  </thead>\n",
       "  <tbody>\n",
       "    <tr>\n",
       "      <th>0</th>\n",
       "      <td>0x00000018</td>\n",
       "      <td>0.998867</td>\n",
       "      <td>10</td>\n",
       "      <td>0</td>\n",
       "      <td>0.0</td>\n",
       "      <td>0.0</td>\n",
       "      <td>0.0</td>\n",
       "      <td>0.0</td>\n",
       "      <td>0.0</td>\n",
       "      <td>0.0</td>\n",
       "      <td>0.0</td>\n",
       "      <td>0.0</td>\n",
       "      <td>0.0</td>\n",
       "      <td>0.0</td>\n",
       "      <td>0</td>\n",
       "      <td>0.0</td>\n",
       "      <td>0x00000030</td>\n",
       "      <td>0.0</td>\n",
       "      <td>8.0</td>\n",
       "      <td>32</td>\n",
       "      <td>0.0</td>\n",
       "      <td>3.0</td>\n",
       "      <td>0.0</td>\n",
       "      <td>0</td>\n",
       "      <td>0.0</td>\n",
       "      <td>0.0</td>\n",
       "      <td>0.0</td>\n",
       "      <td>0.0</td>\n",
       "      <td>0.0</td>\n",
       "      <td>0.0</td>\n",
       "      <td>0.0</td>\n",
       "      <td>0.0</td>\n",
       "      <td>0.0</td>\n",
       "      <td>legitimate</td>\n",
       "    </tr>\n",
       "    <tr>\n",
       "      <th>1</th>\n",
       "      <td>0x00000010</td>\n",
       "      <td>0.000067</td>\n",
       "      <td>1460</td>\n",
       "      <td>0</td>\n",
       "      <td>0.0</td>\n",
       "      <td>0.0</td>\n",
       "      <td>0.0</td>\n",
       "      <td>0.0</td>\n",
       "      <td>0.0</td>\n",
       "      <td>0.0</td>\n",
       "      <td>0.0</td>\n",
       "      <td>0.0</td>\n",
       "      <td>0.0</td>\n",
       "      <td>0.0</td>\n",
       "      <td>0</td>\n",
       "      <td>0.0</td>\n",
       "      <td>0x00000032</td>\n",
       "      <td>0.0</td>\n",
       "      <td>169.0</td>\n",
       "      <td>6361653943666144654266454162444634326230633041...</td>\n",
       "      <td>2714.0</td>\n",
       "      <td>3.0</td>\n",
       "      <td>0.0</td>\n",
       "      <td>0</td>\n",
       "      <td>1.0</td>\n",
       "      <td>0.0</td>\n",
       "      <td>0.0</td>\n",
       "      <td>0.0</td>\n",
       "      <td>0.0</td>\n",
       "      <td>0.0</td>\n",
       "      <td>0.0</td>\n",
       "      <td>0.0</td>\n",
       "      <td>0.0</td>\n",
       "      <td>dos</td>\n",
       "    </tr>\n",
       "    <tr>\n",
       "      <th>2</th>\n",
       "      <td>0x00000010</td>\n",
       "      <td>0.000058</td>\n",
       "      <td>1460</td>\n",
       "      <td>0</td>\n",
       "      <td>0.0</td>\n",
       "      <td>0.0</td>\n",
       "      <td>0.0</td>\n",
       "      <td>0.0</td>\n",
       "      <td>0.0</td>\n",
       "      <td>0.0</td>\n",
       "      <td>0.0</td>\n",
       "      <td>0.0</td>\n",
       "      <td>0.0</td>\n",
       "      <td>0.0</td>\n",
       "      <td>0</td>\n",
       "      <td>0.0</td>\n",
       "      <td>0x00000032</td>\n",
       "      <td>0.0</td>\n",
       "      <td>163.0</td>\n",
       "      <td>4232646141394333463334613232626446326646383446...</td>\n",
       "      <td>1548.0</td>\n",
       "      <td>3.0</td>\n",
       "      <td>0.0</td>\n",
       "      <td>0</td>\n",
       "      <td>1.0</td>\n",
       "      <td>0.0</td>\n",
       "      <td>0.0</td>\n",
       "      <td>0.0</td>\n",
       "      <td>0.0</td>\n",
       "      <td>0.0</td>\n",
       "      <td>0.0</td>\n",
       "      <td>0.0</td>\n",
       "      <td>0.0</td>\n",
       "      <td>dos</td>\n",
       "    </tr>\n",
       "    <tr>\n",
       "      <th>3</th>\n",
       "      <td>0x00000018</td>\n",
       "      <td>0.000227</td>\n",
       "      <td>10</td>\n",
       "      <td>0</td>\n",
       "      <td>0.0</td>\n",
       "      <td>0.0</td>\n",
       "      <td>0.0</td>\n",
       "      <td>0.0</td>\n",
       "      <td>0.0</td>\n",
       "      <td>0.0</td>\n",
       "      <td>0.0</td>\n",
       "      <td>0.0</td>\n",
       "      <td>0.0</td>\n",
       "      <td>0.0</td>\n",
       "      <td>0</td>\n",
       "      <td>0.0</td>\n",
       "      <td>0x00000030</td>\n",
       "      <td>0.0</td>\n",
       "      <td>8.0</td>\n",
       "      <td>32</td>\n",
       "      <td>0.0</td>\n",
       "      <td>3.0</td>\n",
       "      <td>0.0</td>\n",
       "      <td>0</td>\n",
       "      <td>0.0</td>\n",
       "      <td>0.0</td>\n",
       "      <td>0.0</td>\n",
       "      <td>0.0</td>\n",
       "      <td>0.0</td>\n",
       "      <td>0.0</td>\n",
       "      <td>0.0</td>\n",
       "      <td>0.0</td>\n",
       "      <td>0.0</td>\n",
       "      <td>legitimate</td>\n",
       "    </tr>\n",
       "    <tr>\n",
       "      <th>4</th>\n",
       "      <td>0x00000018</td>\n",
       "      <td>0.000236</td>\n",
       "      <td>16</td>\n",
       "      <td>0</td>\n",
       "      <td>0.0</td>\n",
       "      <td>0.0</td>\n",
       "      <td>0.0</td>\n",
       "      <td>0.0</td>\n",
       "      <td>0.0</td>\n",
       "      <td>0.0</td>\n",
       "      <td>0.0</td>\n",
       "      <td>0.0</td>\n",
       "      <td>0.0</td>\n",
       "      <td>0.0</td>\n",
       "      <td>0</td>\n",
       "      <td>0.0</td>\n",
       "      <td>0x00000040</td>\n",
       "      <td>0.0</td>\n",
       "      <td>2.0</td>\n",
       "      <td>0</td>\n",
       "      <td>2800.0</td>\n",
       "      <td>4.0</td>\n",
       "      <td>0.0</td>\n",
       "      <td>0</td>\n",
       "      <td>0.0</td>\n",
       "      <td>0.0</td>\n",
       "      <td>0.0</td>\n",
       "      <td>0.0</td>\n",
       "      <td>0.0</td>\n",
       "      <td>0.0</td>\n",
       "      <td>0.0</td>\n",
       "      <td>0.0</td>\n",
       "      <td>0.0</td>\n",
       "      <td>dos</td>\n",
       "    </tr>\n",
       "  </tbody>\n",
       "</table>\n",
       "</div>"
      ],
      "text/plain": [
       "    tcp.flags  tcp.time_delta  tcp.len mqtt.conack.flags  \\\n",
       "0  0x00000018        0.998867       10                 0   \n",
       "1  0x00000010        0.000067     1460                 0   \n",
       "2  0x00000010        0.000058     1460                 0   \n",
       "3  0x00000018        0.000227       10                 0   \n",
       "4  0x00000018        0.000236       16                 0   \n",
       "\n",
       "   mqtt.conack.flags.reserved  mqtt.conack.flags.sp  mqtt.conack.val  \\\n",
       "0                         0.0                   0.0              0.0   \n",
       "1                         0.0                   0.0              0.0   \n",
       "2                         0.0                   0.0              0.0   \n",
       "3                         0.0                   0.0              0.0   \n",
       "4                         0.0                   0.0              0.0   \n",
       "\n",
       "   mqtt.conflag.cleansess  mqtt.conflag.passwd  mqtt.conflag.qos  \\\n",
       "0                     0.0                  0.0               0.0   \n",
       "1                     0.0                  0.0               0.0   \n",
       "2                     0.0                  0.0               0.0   \n",
       "3                     0.0                  0.0               0.0   \n",
       "4                     0.0                  0.0               0.0   \n",
       "\n",
       "   mqtt.conflag.reserved  mqtt.conflag.retain  mqtt.conflag.uname  \\\n",
       "0                    0.0                  0.0                 0.0   \n",
       "1                    0.0                  0.0                 0.0   \n",
       "2                    0.0                  0.0                 0.0   \n",
       "3                    0.0                  0.0                 0.0   \n",
       "4                    0.0                  0.0                 0.0   \n",
       "\n",
       "   mqtt.conflag.willflag mqtt.conflags  mqtt.dupflag mqtt.hdrflags  \\\n",
       "0                    0.0             0           0.0    0x00000030   \n",
       "1                    0.0             0           0.0    0x00000032   \n",
       "2                    0.0             0           0.0    0x00000032   \n",
       "3                    0.0             0           0.0    0x00000030   \n",
       "4                    0.0             0           0.0    0x00000040   \n",
       "\n",
       "   mqtt.kalive  mqtt.len                                           mqtt.msg  \\\n",
       "0          0.0       8.0                                                 32   \n",
       "1          0.0     169.0  6361653943666144654266454162444634326230633041...   \n",
       "2          0.0     163.0  4232646141394333463334613232626446326646383446...   \n",
       "3          0.0       8.0                                                 32   \n",
       "4          0.0       2.0                                                  0   \n",
       "\n",
       "   mqtt.msgid  mqtt.msgtype  mqtt.proto_len mqtt.protoname  mqtt.qos  \\\n",
       "0         0.0           3.0             0.0              0       0.0   \n",
       "1      2714.0           3.0             0.0              0       1.0   \n",
       "2      1548.0           3.0             0.0              0       1.0   \n",
       "3         0.0           3.0             0.0              0       0.0   \n",
       "4      2800.0           4.0             0.0              0       0.0   \n",
       "\n",
       "   mqtt.retain  mqtt.sub.qos  mqtt.suback.qos  mqtt.ver  mqtt.willmsg  \\\n",
       "0          0.0           0.0              0.0       0.0           0.0   \n",
       "1          0.0           0.0              0.0       0.0           0.0   \n",
       "2          0.0           0.0              0.0       0.0           0.0   \n",
       "3          0.0           0.0              0.0       0.0           0.0   \n",
       "4          0.0           0.0              0.0       0.0           0.0   \n",
       "\n",
       "   mqtt.willmsg_len  mqtt.willtopic  mqtt.willtopic_len      target  \n",
       "0               0.0             0.0                 0.0  legitimate  \n",
       "1               0.0             0.0                 0.0         dos  \n",
       "2               0.0             0.0                 0.0         dos  \n",
       "3               0.0             0.0                 0.0  legitimate  \n",
       "4               0.0             0.0                 0.0         dos  "
      ]
     },
     "execution_count": 134,
     "metadata": {},
     "output_type": "execute_result"
    }
   ],
   "source": [
    "df.head()"
   ]
  },
  {
   "cell_type": "code",
   "execution_count": 135,
   "id": "ed73c875",
   "metadata": {},
   "outputs": [
    {
     "data": {
      "text/plain": [
       "(330936, 34)"
      ]
     },
     "execution_count": 135,
     "metadata": {},
     "output_type": "execute_result"
    }
   ],
   "source": [
    "df.shape"
   ]
  },
  {
   "cell_type": "markdown",
   "id": "fe7f8a82",
   "metadata": {},
   "source": [
    "### Studying the dataset"
   ]
  },
  {
   "cell_type": "code",
   "execution_count": 136,
   "id": "97e487a1",
   "metadata": {},
   "outputs": [
    {
     "name": "stdout",
     "output_type": "stream",
     "text": [
      "['tcp.flags', 'mqtt.conack.flags', 'mqtt.conflags', 'mqtt.hdrflags', 'mqtt.msg', 'mqtt.protoname', 'target']\n"
     ]
    }
   ],
   "source": [
    "non_numeric_columns = df.select_dtypes(exclude=[int, float]).columns.tolist()\n",
    "print(non_numeric_columns)"
   ]
  },
  {
   "cell_type": "code",
   "execution_count": 137,
   "id": "96f54d97",
   "metadata": {},
   "outputs": [
    {
     "data": {
      "text/plain": [
       "array(['0x00000018', '0x00000010', '0x00000004', '0x00000012',\n",
       "       '0x00000002', '0x00000011', '0x00000019', '0x00000014'],\n",
       "      dtype=object)"
      ]
     },
     "execution_count": 137,
     "metadata": {},
     "output_type": "execute_result"
    }
   ],
   "source": [
    "df['tcp.flags'].unique()"
   ]
  },
  {
   "cell_type": "code",
   "execution_count": 138,
   "id": "43e7d21f",
   "metadata": {},
   "outputs": [
    {
     "data": {
      "text/plain": [
       "array(['0', '0x00000000'], dtype=object)"
      ]
     },
     "execution_count": 138,
     "metadata": {},
     "output_type": "execute_result"
    }
   ],
   "source": [
    "df['mqtt.conack.flags'].unique()"
   ]
  },
  {
   "cell_type": "code",
   "execution_count": 139,
   "id": "401bb13d",
   "metadata": {},
   "outputs": [
    {
     "data": {
      "text/plain": [
       "array(['0', '0x000000c2', '0x00000002', '0x00000082'], dtype=object)"
      ]
     },
     "execution_count": 139,
     "metadata": {},
     "output_type": "execute_result"
    }
   ],
   "source": [
    "df['mqtt.conflags'].unique()"
   ]
  },
  {
   "cell_type": "code",
   "execution_count": 140,
   "id": "b33e9cb3",
   "metadata": {},
   "outputs": [
    {
     "data": {
      "text/plain": [
       "array(['32',\n",
       "       '63616539436661446542664541624446343262306330416366456435634239346437304441373463314639303642313246323430466537444238333743644242443841613435344442436545313436314634454166366136304166306632366141386161',\n",
       "       '42326461413943334633346132326264463266463834464137316661343864343545446144353841304633314536463531353765636439666631313366634430313538443065414565343531363442623632333330666237446645396644',\n",
       "       ...,\n",
       "       '61623041364444326342334234443942466164353362413461613531423843363266446332413261613131354361426639383831464343663364424364626146623839354365666645613138353543353464453433424143313363634346444641434461',\n",
       "       '3064623035384238463337336162664263313645386132646233614264463133433434353441446237394142444136446537454239453630393131654636304439666265386641333845353735386465616166363335343236644544454546323061374144',\n",
       "       '36326335464234306232326642396242666239416541614162336539393434613237363262433863356141393841323035624344434233343643384165383937423337393743333436396666353361383530453964334464456441353532643361643539'],\n",
       "      dtype=object)"
      ]
     },
     "execution_count": 140,
     "metadata": {},
     "output_type": "execute_result"
    }
   ],
   "source": [
    "df['mqtt.msg'].unique()"
   ]
  },
  {
   "cell_type": "code",
   "execution_count": 29,
   "id": "9410b1dd",
   "metadata": {},
   "outputs": [
    {
     "data": {
      "text/plain": [
       "array(['0', 'MQTT'], dtype=object)"
      ]
     },
     "execution_count": 29,
     "metadata": {},
     "output_type": "execute_result"
    }
   ],
   "source": [
    "df['mqtt.protoname'].unique()"
   ]
  },
  {
   "cell_type": "code",
   "execution_count": 30,
   "id": "3a6999dd",
   "metadata": {},
   "outputs": [
    {
     "data": {
      "text/plain": [
       "array(['legitimate', 'dos', 'malformed', 'bruteforce', 'slowite', 'flood'],\n",
       "      dtype=object)"
      ]
     },
     "execution_count": 30,
     "metadata": {},
     "output_type": "execute_result"
    }
   ],
   "source": [
    "df['target'].unique()"
   ]
  },
  {
   "cell_type": "code",
   "execution_count": 32,
   "id": "1839c08c",
   "metadata": {},
   "outputs": [
    {
     "data": {
      "text/plain": [
       "115824"
      ]
     },
     "execution_count": 32,
     "metadata": {},
     "output_type": "execute_result"
    }
   ],
   "source": [
    "df['target'].value_counts()['legitimate']"
   ]
  },
  {
   "cell_type": "code",
   "execution_count": 39,
   "id": "f4663399",
   "metadata": {},
   "outputs": [
    {
     "data": {
      "text/plain": [
       "115822"
      ]
     },
     "execution_count": 39,
     "metadata": {},
     "output_type": "execute_result"
    }
   ],
   "source": [
    "df['target'].value_counts()['dos'] + df['target'].value_counts()['malformed'] + df['target'].value_counts()['bruteforce'] + df['target'].value_counts()['slowite'] + df['target'].value_counts()['flood']"
   ]
  },
  {
   "cell_type": "code",
   "execution_count": 141,
   "id": "7ddb731c",
   "metadata": {},
   "outputs": [
    {
     "data": {
      "text/html": [
       "<div>\n",
       "<style scoped>\n",
       "    .dataframe tbody tr th:only-of-type {\n",
       "        vertical-align: middle;\n",
       "    }\n",
       "\n",
       "    .dataframe tbody tr th {\n",
       "        vertical-align: top;\n",
       "    }\n",
       "\n",
       "    .dataframe thead th {\n",
       "        text-align: right;\n",
       "    }\n",
       "</style>\n",
       "<table border=\"1\" class=\"dataframe\">\n",
       "  <thead>\n",
       "    <tr style=\"text-align: right;\">\n",
       "      <th></th>\n",
       "      <th>tcp.flags</th>\n",
       "      <th>tcp.time_delta</th>\n",
       "      <th>tcp.len</th>\n",
       "      <th>mqtt.conack.flags</th>\n",
       "      <th>mqtt.conack.flags.reserved</th>\n",
       "      <th>mqtt.conack.flags.sp</th>\n",
       "      <th>mqtt.conack.val</th>\n",
       "      <th>mqtt.conflag.cleansess</th>\n",
       "      <th>mqtt.conflag.passwd</th>\n",
       "      <th>mqtt.conflag.qos</th>\n",
       "      <th>mqtt.conflag.reserved</th>\n",
       "      <th>mqtt.conflag.retain</th>\n",
       "      <th>mqtt.conflag.uname</th>\n",
       "      <th>mqtt.conflag.willflag</th>\n",
       "      <th>mqtt.conflags</th>\n",
       "      <th>mqtt.dupflag</th>\n",
       "      <th>mqtt.hdrflags</th>\n",
       "      <th>mqtt.kalive</th>\n",
       "      <th>mqtt.len</th>\n",
       "      <th>mqtt.msg</th>\n",
       "      <th>mqtt.msgid</th>\n",
       "      <th>mqtt.msgtype</th>\n",
       "      <th>mqtt.proto_len</th>\n",
       "      <th>mqtt.protoname</th>\n",
       "      <th>mqtt.qos</th>\n",
       "      <th>mqtt.retain</th>\n",
       "      <th>mqtt.sub.qos</th>\n",
       "      <th>mqtt.suback.qos</th>\n",
       "      <th>mqtt.ver</th>\n",
       "      <th>mqtt.willmsg</th>\n",
       "      <th>mqtt.willmsg_len</th>\n",
       "      <th>mqtt.willtopic</th>\n",
       "      <th>mqtt.willtopic_len</th>\n",
       "      <th>target</th>\n",
       "    </tr>\n",
       "  </thead>\n",
       "  <tbody>\n",
       "    <tr>\n",
       "      <th>0</th>\n",
       "      <td>0x00000018</td>\n",
       "      <td>0.998867</td>\n",
       "      <td>10</td>\n",
       "      <td>0</td>\n",
       "      <td>0.0</td>\n",
       "      <td>0.0</td>\n",
       "      <td>0.0</td>\n",
       "      <td>0.0</td>\n",
       "      <td>0.0</td>\n",
       "      <td>0.0</td>\n",
       "      <td>0.0</td>\n",
       "      <td>0.0</td>\n",
       "      <td>0.0</td>\n",
       "      <td>0.0</td>\n",
       "      <td>0</td>\n",
       "      <td>0.0</td>\n",
       "      <td>0x00000030</td>\n",
       "      <td>0.0</td>\n",
       "      <td>8.0</td>\n",
       "      <td>32</td>\n",
       "      <td>0.0</td>\n",
       "      <td>3.0</td>\n",
       "      <td>0.0</td>\n",
       "      <td>0</td>\n",
       "      <td>0.0</td>\n",
       "      <td>0.0</td>\n",
       "      <td>0.0</td>\n",
       "      <td>0.0</td>\n",
       "      <td>0.0</td>\n",
       "      <td>0.0</td>\n",
       "      <td>0.0</td>\n",
       "      <td>0.0</td>\n",
       "      <td>0.0</td>\n",
       "      <td>legitimate</td>\n",
       "    </tr>\n",
       "    <tr>\n",
       "      <th>1</th>\n",
       "      <td>0x00000010</td>\n",
       "      <td>0.000067</td>\n",
       "      <td>1460</td>\n",
       "      <td>0</td>\n",
       "      <td>0.0</td>\n",
       "      <td>0.0</td>\n",
       "      <td>0.0</td>\n",
       "      <td>0.0</td>\n",
       "      <td>0.0</td>\n",
       "      <td>0.0</td>\n",
       "      <td>0.0</td>\n",
       "      <td>0.0</td>\n",
       "      <td>0.0</td>\n",
       "      <td>0.0</td>\n",
       "      <td>0</td>\n",
       "      <td>0.0</td>\n",
       "      <td>0x00000032</td>\n",
       "      <td>0.0</td>\n",
       "      <td>169.0</td>\n",
       "      <td>6361653943666144654266454162444634326230633041...</td>\n",
       "      <td>2714.0</td>\n",
       "      <td>3.0</td>\n",
       "      <td>0.0</td>\n",
       "      <td>0</td>\n",
       "      <td>1.0</td>\n",
       "      <td>0.0</td>\n",
       "      <td>0.0</td>\n",
       "      <td>0.0</td>\n",
       "      <td>0.0</td>\n",
       "      <td>0.0</td>\n",
       "      <td>0.0</td>\n",
       "      <td>0.0</td>\n",
       "      <td>0.0</td>\n",
       "      <td>dos</td>\n",
       "    </tr>\n",
       "    <tr>\n",
       "      <th>2</th>\n",
       "      <td>0x00000010</td>\n",
       "      <td>0.000058</td>\n",
       "      <td>1460</td>\n",
       "      <td>0</td>\n",
       "      <td>0.0</td>\n",
       "      <td>0.0</td>\n",
       "      <td>0.0</td>\n",
       "      <td>0.0</td>\n",
       "      <td>0.0</td>\n",
       "      <td>0.0</td>\n",
       "      <td>0.0</td>\n",
       "      <td>0.0</td>\n",
       "      <td>0.0</td>\n",
       "      <td>0.0</td>\n",
       "      <td>0</td>\n",
       "      <td>0.0</td>\n",
       "      <td>0x00000032</td>\n",
       "      <td>0.0</td>\n",
       "      <td>163.0</td>\n",
       "      <td>4232646141394333463334613232626446326646383446...</td>\n",
       "      <td>1548.0</td>\n",
       "      <td>3.0</td>\n",
       "      <td>0.0</td>\n",
       "      <td>0</td>\n",
       "      <td>1.0</td>\n",
       "      <td>0.0</td>\n",
       "      <td>0.0</td>\n",
       "      <td>0.0</td>\n",
       "      <td>0.0</td>\n",
       "      <td>0.0</td>\n",
       "      <td>0.0</td>\n",
       "      <td>0.0</td>\n",
       "      <td>0.0</td>\n",
       "      <td>dos</td>\n",
       "    </tr>\n",
       "    <tr>\n",
       "      <th>3</th>\n",
       "      <td>0x00000018</td>\n",
       "      <td>0.000227</td>\n",
       "      <td>10</td>\n",
       "      <td>0</td>\n",
       "      <td>0.0</td>\n",
       "      <td>0.0</td>\n",
       "      <td>0.0</td>\n",
       "      <td>0.0</td>\n",
       "      <td>0.0</td>\n",
       "      <td>0.0</td>\n",
       "      <td>0.0</td>\n",
       "      <td>0.0</td>\n",
       "      <td>0.0</td>\n",
       "      <td>0.0</td>\n",
       "      <td>0</td>\n",
       "      <td>0.0</td>\n",
       "      <td>0x00000030</td>\n",
       "      <td>0.0</td>\n",
       "      <td>8.0</td>\n",
       "      <td>32</td>\n",
       "      <td>0.0</td>\n",
       "      <td>3.0</td>\n",
       "      <td>0.0</td>\n",
       "      <td>0</td>\n",
       "      <td>0.0</td>\n",
       "      <td>0.0</td>\n",
       "      <td>0.0</td>\n",
       "      <td>0.0</td>\n",
       "      <td>0.0</td>\n",
       "      <td>0.0</td>\n",
       "      <td>0.0</td>\n",
       "      <td>0.0</td>\n",
       "      <td>0.0</td>\n",
       "      <td>legitimate</td>\n",
       "    </tr>\n",
       "    <tr>\n",
       "      <th>4</th>\n",
       "      <td>0x00000018</td>\n",
       "      <td>0.000236</td>\n",
       "      <td>16</td>\n",
       "      <td>0</td>\n",
       "      <td>0.0</td>\n",
       "      <td>0.0</td>\n",
       "      <td>0.0</td>\n",
       "      <td>0.0</td>\n",
       "      <td>0.0</td>\n",
       "      <td>0.0</td>\n",
       "      <td>0.0</td>\n",
       "      <td>0.0</td>\n",
       "      <td>0.0</td>\n",
       "      <td>0.0</td>\n",
       "      <td>0</td>\n",
       "      <td>0.0</td>\n",
       "      <td>0x00000040</td>\n",
       "      <td>0.0</td>\n",
       "      <td>2.0</td>\n",
       "      <td>0</td>\n",
       "      <td>2800.0</td>\n",
       "      <td>4.0</td>\n",
       "      <td>0.0</td>\n",
       "      <td>0</td>\n",
       "      <td>0.0</td>\n",
       "      <td>0.0</td>\n",
       "      <td>0.0</td>\n",
       "      <td>0.0</td>\n",
       "      <td>0.0</td>\n",
       "      <td>0.0</td>\n",
       "      <td>0.0</td>\n",
       "      <td>0.0</td>\n",
       "      <td>0.0</td>\n",
       "      <td>dos</td>\n",
       "    </tr>\n",
       "  </tbody>\n",
       "</table>\n",
       "</div>"
      ],
      "text/plain": [
       "    tcp.flags  tcp.time_delta  tcp.len mqtt.conack.flags  \\\n",
       "0  0x00000018        0.998867       10                 0   \n",
       "1  0x00000010        0.000067     1460                 0   \n",
       "2  0x00000010        0.000058     1460                 0   \n",
       "3  0x00000018        0.000227       10                 0   \n",
       "4  0x00000018        0.000236       16                 0   \n",
       "\n",
       "   mqtt.conack.flags.reserved  mqtt.conack.flags.sp  mqtt.conack.val  \\\n",
       "0                         0.0                   0.0              0.0   \n",
       "1                         0.0                   0.0              0.0   \n",
       "2                         0.0                   0.0              0.0   \n",
       "3                         0.0                   0.0              0.0   \n",
       "4                         0.0                   0.0              0.0   \n",
       "\n",
       "   mqtt.conflag.cleansess  mqtt.conflag.passwd  mqtt.conflag.qos  \\\n",
       "0                     0.0                  0.0               0.0   \n",
       "1                     0.0                  0.0               0.0   \n",
       "2                     0.0                  0.0               0.0   \n",
       "3                     0.0                  0.0               0.0   \n",
       "4                     0.0                  0.0               0.0   \n",
       "\n",
       "   mqtt.conflag.reserved  mqtt.conflag.retain  mqtt.conflag.uname  \\\n",
       "0                    0.0                  0.0                 0.0   \n",
       "1                    0.0                  0.0                 0.0   \n",
       "2                    0.0                  0.0                 0.0   \n",
       "3                    0.0                  0.0                 0.0   \n",
       "4                    0.0                  0.0                 0.0   \n",
       "\n",
       "   mqtt.conflag.willflag mqtt.conflags  mqtt.dupflag mqtt.hdrflags  \\\n",
       "0                    0.0             0           0.0    0x00000030   \n",
       "1                    0.0             0           0.0    0x00000032   \n",
       "2                    0.0             0           0.0    0x00000032   \n",
       "3                    0.0             0           0.0    0x00000030   \n",
       "4                    0.0             0           0.0    0x00000040   \n",
       "\n",
       "   mqtt.kalive  mqtt.len                                           mqtt.msg  \\\n",
       "0          0.0       8.0                                                 32   \n",
       "1          0.0     169.0  6361653943666144654266454162444634326230633041...   \n",
       "2          0.0     163.0  4232646141394333463334613232626446326646383446...   \n",
       "3          0.0       8.0                                                 32   \n",
       "4          0.0       2.0                                                  0   \n",
       "\n",
       "   mqtt.msgid  mqtt.msgtype  mqtt.proto_len mqtt.protoname  mqtt.qos  \\\n",
       "0         0.0           3.0             0.0              0       0.0   \n",
       "1      2714.0           3.0             0.0              0       1.0   \n",
       "2      1548.0           3.0             0.0              0       1.0   \n",
       "3         0.0           3.0             0.0              0       0.0   \n",
       "4      2800.0           4.0             0.0              0       0.0   \n",
       "\n",
       "   mqtt.retain  mqtt.sub.qos  mqtt.suback.qos  mqtt.ver  mqtt.willmsg  \\\n",
       "0          0.0           0.0              0.0       0.0           0.0   \n",
       "1          0.0           0.0              0.0       0.0           0.0   \n",
       "2          0.0           0.0              0.0       0.0           0.0   \n",
       "3          0.0           0.0              0.0       0.0           0.0   \n",
       "4          0.0           0.0              0.0       0.0           0.0   \n",
       "\n",
       "   mqtt.willmsg_len  mqtt.willtopic  mqtt.willtopic_len      target  \n",
       "0               0.0             0.0                 0.0  legitimate  \n",
       "1               0.0             0.0                 0.0         dos  \n",
       "2               0.0             0.0                 0.0         dos  \n",
       "3               0.0             0.0                 0.0  legitimate  \n",
       "4               0.0             0.0                 0.0         dos  "
      ]
     },
     "execution_count": 141,
     "metadata": {},
     "output_type": "execute_result"
    }
   ],
   "source": [
    "df.head()"
   ]
  },
  {
   "cell_type": "markdown",
   "id": "93f18de8",
   "metadata": {},
   "source": [
    "#### Remove the Target Variable / Dependent Variable from the non-numeric columns list"
   ]
  },
  {
   "cell_type": "code",
   "execution_count": 142,
   "id": "d0939f70",
   "metadata": {},
   "outputs": [],
   "source": [
    "# Label is non numeric but it is the dependent variable; \n",
    "# need for future data processing, remove it from the non numeric column list\n",
    "non_numeric_columns.remove('target')"
   ]
  },
  {
   "cell_type": "code",
   "execution_count": 145,
   "id": "b673cf19",
   "metadata": {},
   "outputs": [
    {
     "data": {
      "text/plain": [
       "['tcp.flags',\n",
       " 'mqtt.conack.flags',\n",
       " 'mqtt.conflags',\n",
       " 'mqtt.hdrflags',\n",
       " 'mqtt.msg',\n",
       " 'mqtt.protoname']"
      ]
     },
     "execution_count": 145,
     "metadata": {},
     "output_type": "execute_result"
    }
   ],
   "source": [
    "non_numeric_columns"
   ]
  },
  {
   "cell_type": "markdown",
   "id": "212dc52c",
   "metadata": {},
   "source": [
    "#### Remove non numeric columns from the dataset, but keeping the 'Label'"
   ]
  },
  {
   "cell_type": "code",
   "execution_count": 146,
   "id": "cf2a1519",
   "metadata": {},
   "outputs": [
    {
     "ename": "KeyError",
     "evalue": "\"['tcp.flags', 'mqtt.conack.flags', 'mqtt.conflags', 'mqtt.hdrflags', 'mqtt.msg', 'mqtt.protoname'] not found in axis\"",
     "output_type": "error",
     "traceback": [
      "\u001b[0;31m---------------------------------------------------------------------------\u001b[0m",
      "\u001b[0;31mKeyError\u001b[0m                                  Traceback (most recent call last)",
      "Input \u001b[0;32mIn [146]\u001b[0m, in \u001b[0;36m<cell line: 1>\u001b[0;34m()\u001b[0m\n\u001b[0;32m----> 1\u001b[0m df \u001b[38;5;241m=\u001b[39m \u001b[43mdf\u001b[49m\u001b[38;5;241;43m.\u001b[39;49m\u001b[43mdrop\u001b[49m\u001b[43m(\u001b[49m\u001b[43mcolumns\u001b[49m\u001b[38;5;241;43m=\u001b[39;49m\u001b[43mnon_numeric_columns\u001b[49m\u001b[43m)\u001b[49m\n",
      "File \u001b[0;32m~/anaconda3/lib/python3.9/site-packages/pandas/util/_decorators.py:311\u001b[0m, in \u001b[0;36mdeprecate_nonkeyword_arguments.<locals>.decorate.<locals>.wrapper\u001b[0;34m(*args, **kwargs)\u001b[0m\n\u001b[1;32m    305\u001b[0m \u001b[38;5;28;01mif\u001b[39;00m \u001b[38;5;28mlen\u001b[39m(args) \u001b[38;5;241m>\u001b[39m num_allow_args:\n\u001b[1;32m    306\u001b[0m     warnings\u001b[38;5;241m.\u001b[39mwarn(\n\u001b[1;32m    307\u001b[0m         msg\u001b[38;5;241m.\u001b[39mformat(arguments\u001b[38;5;241m=\u001b[39marguments),\n\u001b[1;32m    308\u001b[0m         \u001b[38;5;167;01mFutureWarning\u001b[39;00m,\n\u001b[1;32m    309\u001b[0m         stacklevel\u001b[38;5;241m=\u001b[39mstacklevel,\n\u001b[1;32m    310\u001b[0m     )\n\u001b[0;32m--> 311\u001b[0m \u001b[38;5;28;01mreturn\u001b[39;00m \u001b[43mfunc\u001b[49m\u001b[43m(\u001b[49m\u001b[38;5;241;43m*\u001b[39;49m\u001b[43margs\u001b[49m\u001b[43m,\u001b[49m\u001b[43m \u001b[49m\u001b[38;5;241;43m*\u001b[39;49m\u001b[38;5;241;43m*\u001b[39;49m\u001b[43mkwargs\u001b[49m\u001b[43m)\u001b[49m\n",
      "File \u001b[0;32m~/anaconda3/lib/python3.9/site-packages/pandas/core/frame.py:4954\u001b[0m, in \u001b[0;36mDataFrame.drop\u001b[0;34m(self, labels, axis, index, columns, level, inplace, errors)\u001b[0m\n\u001b[1;32m   4806\u001b[0m \u001b[38;5;129m@deprecate_nonkeyword_arguments\u001b[39m(version\u001b[38;5;241m=\u001b[39m\u001b[38;5;28;01mNone\u001b[39;00m, allowed_args\u001b[38;5;241m=\u001b[39m[\u001b[38;5;124m\"\u001b[39m\u001b[38;5;124mself\u001b[39m\u001b[38;5;124m\"\u001b[39m, \u001b[38;5;124m\"\u001b[39m\u001b[38;5;124mlabels\u001b[39m\u001b[38;5;124m\"\u001b[39m])\n\u001b[1;32m   4807\u001b[0m \u001b[38;5;28;01mdef\u001b[39;00m \u001b[38;5;21mdrop\u001b[39m(\n\u001b[1;32m   4808\u001b[0m     \u001b[38;5;28mself\u001b[39m,\n\u001b[0;32m   (...)\u001b[0m\n\u001b[1;32m   4815\u001b[0m     errors: \u001b[38;5;28mstr\u001b[39m \u001b[38;5;241m=\u001b[39m \u001b[38;5;124m\"\u001b[39m\u001b[38;5;124mraise\u001b[39m\u001b[38;5;124m\"\u001b[39m,\n\u001b[1;32m   4816\u001b[0m ):\n\u001b[1;32m   4817\u001b[0m     \u001b[38;5;124;03m\"\"\"\u001b[39;00m\n\u001b[1;32m   4818\u001b[0m \u001b[38;5;124;03m    Drop specified labels from rows or columns.\u001b[39;00m\n\u001b[1;32m   4819\u001b[0m \n\u001b[0;32m   (...)\u001b[0m\n\u001b[1;32m   4952\u001b[0m \u001b[38;5;124;03m            weight  1.0     0.8\u001b[39;00m\n\u001b[1;32m   4953\u001b[0m \u001b[38;5;124;03m    \"\"\"\u001b[39;00m\n\u001b[0;32m-> 4954\u001b[0m     \u001b[38;5;28;01mreturn\u001b[39;00m \u001b[38;5;28;43msuper\u001b[39;49m\u001b[43m(\u001b[49m\u001b[43m)\u001b[49m\u001b[38;5;241;43m.\u001b[39;49m\u001b[43mdrop\u001b[49m\u001b[43m(\u001b[49m\n\u001b[1;32m   4955\u001b[0m \u001b[43m        \u001b[49m\u001b[43mlabels\u001b[49m\u001b[38;5;241;43m=\u001b[39;49m\u001b[43mlabels\u001b[49m\u001b[43m,\u001b[49m\n\u001b[1;32m   4956\u001b[0m \u001b[43m        \u001b[49m\u001b[43maxis\u001b[49m\u001b[38;5;241;43m=\u001b[39;49m\u001b[43maxis\u001b[49m\u001b[43m,\u001b[49m\n\u001b[1;32m   4957\u001b[0m \u001b[43m        \u001b[49m\u001b[43mindex\u001b[49m\u001b[38;5;241;43m=\u001b[39;49m\u001b[43mindex\u001b[49m\u001b[43m,\u001b[49m\n\u001b[1;32m   4958\u001b[0m \u001b[43m        \u001b[49m\u001b[43mcolumns\u001b[49m\u001b[38;5;241;43m=\u001b[39;49m\u001b[43mcolumns\u001b[49m\u001b[43m,\u001b[49m\n\u001b[1;32m   4959\u001b[0m \u001b[43m        \u001b[49m\u001b[43mlevel\u001b[49m\u001b[38;5;241;43m=\u001b[39;49m\u001b[43mlevel\u001b[49m\u001b[43m,\u001b[49m\n\u001b[1;32m   4960\u001b[0m \u001b[43m        \u001b[49m\u001b[43minplace\u001b[49m\u001b[38;5;241;43m=\u001b[39;49m\u001b[43minplace\u001b[49m\u001b[43m,\u001b[49m\n\u001b[1;32m   4961\u001b[0m \u001b[43m        \u001b[49m\u001b[43merrors\u001b[49m\u001b[38;5;241;43m=\u001b[39;49m\u001b[43merrors\u001b[49m\u001b[43m,\u001b[49m\n\u001b[1;32m   4962\u001b[0m \u001b[43m    \u001b[49m\u001b[43m)\u001b[49m\n",
      "File \u001b[0;32m~/anaconda3/lib/python3.9/site-packages/pandas/core/generic.py:4267\u001b[0m, in \u001b[0;36mNDFrame.drop\u001b[0;34m(self, labels, axis, index, columns, level, inplace, errors)\u001b[0m\n\u001b[1;32m   4265\u001b[0m \u001b[38;5;28;01mfor\u001b[39;00m axis, labels \u001b[38;5;129;01min\u001b[39;00m axes\u001b[38;5;241m.\u001b[39mitems():\n\u001b[1;32m   4266\u001b[0m     \u001b[38;5;28;01mif\u001b[39;00m labels \u001b[38;5;129;01mis\u001b[39;00m \u001b[38;5;129;01mnot\u001b[39;00m \u001b[38;5;28;01mNone\u001b[39;00m:\n\u001b[0;32m-> 4267\u001b[0m         obj \u001b[38;5;241m=\u001b[39m \u001b[43mobj\u001b[49m\u001b[38;5;241;43m.\u001b[39;49m\u001b[43m_drop_axis\u001b[49m\u001b[43m(\u001b[49m\u001b[43mlabels\u001b[49m\u001b[43m,\u001b[49m\u001b[43m \u001b[49m\u001b[43maxis\u001b[49m\u001b[43m,\u001b[49m\u001b[43m \u001b[49m\u001b[43mlevel\u001b[49m\u001b[38;5;241;43m=\u001b[39;49m\u001b[43mlevel\u001b[49m\u001b[43m,\u001b[49m\u001b[43m \u001b[49m\u001b[43merrors\u001b[49m\u001b[38;5;241;43m=\u001b[39;49m\u001b[43merrors\u001b[49m\u001b[43m)\u001b[49m\n\u001b[1;32m   4269\u001b[0m \u001b[38;5;28;01mif\u001b[39;00m inplace:\n\u001b[1;32m   4270\u001b[0m     \u001b[38;5;28mself\u001b[39m\u001b[38;5;241m.\u001b[39m_update_inplace(obj)\n",
      "File \u001b[0;32m~/anaconda3/lib/python3.9/site-packages/pandas/core/generic.py:4311\u001b[0m, in \u001b[0;36mNDFrame._drop_axis\u001b[0;34m(self, labels, axis, level, errors, consolidate, only_slice)\u001b[0m\n\u001b[1;32m   4309\u001b[0m         new_axis \u001b[38;5;241m=\u001b[39m axis\u001b[38;5;241m.\u001b[39mdrop(labels, level\u001b[38;5;241m=\u001b[39mlevel, errors\u001b[38;5;241m=\u001b[39merrors)\n\u001b[1;32m   4310\u001b[0m     \u001b[38;5;28;01melse\u001b[39;00m:\n\u001b[0;32m-> 4311\u001b[0m         new_axis \u001b[38;5;241m=\u001b[39m \u001b[43maxis\u001b[49m\u001b[38;5;241;43m.\u001b[39;49m\u001b[43mdrop\u001b[49m\u001b[43m(\u001b[49m\u001b[43mlabels\u001b[49m\u001b[43m,\u001b[49m\u001b[43m \u001b[49m\u001b[43merrors\u001b[49m\u001b[38;5;241;43m=\u001b[39;49m\u001b[43merrors\u001b[49m\u001b[43m)\u001b[49m\n\u001b[1;32m   4312\u001b[0m     indexer \u001b[38;5;241m=\u001b[39m axis\u001b[38;5;241m.\u001b[39mget_indexer(new_axis)\n\u001b[1;32m   4314\u001b[0m \u001b[38;5;66;03m# Case for non-unique axis\u001b[39;00m\n\u001b[1;32m   4315\u001b[0m \u001b[38;5;28;01melse\u001b[39;00m:\n",
      "File \u001b[0;32m~/anaconda3/lib/python3.9/site-packages/pandas/core/indexes/base.py:6644\u001b[0m, in \u001b[0;36mIndex.drop\u001b[0;34m(self, labels, errors)\u001b[0m\n\u001b[1;32m   6642\u001b[0m \u001b[38;5;28;01mif\u001b[39;00m mask\u001b[38;5;241m.\u001b[39many():\n\u001b[1;32m   6643\u001b[0m     \u001b[38;5;28;01mif\u001b[39;00m errors \u001b[38;5;241m!=\u001b[39m \u001b[38;5;124m\"\u001b[39m\u001b[38;5;124mignore\u001b[39m\u001b[38;5;124m\"\u001b[39m:\n\u001b[0;32m-> 6644\u001b[0m         \u001b[38;5;28;01mraise\u001b[39;00m \u001b[38;5;167;01mKeyError\u001b[39;00m(\u001b[38;5;124mf\u001b[39m\u001b[38;5;124m\"\u001b[39m\u001b[38;5;132;01m{\u001b[39;00m\u001b[38;5;28mlist\u001b[39m(labels[mask])\u001b[38;5;132;01m}\u001b[39;00m\u001b[38;5;124m not found in axis\u001b[39m\u001b[38;5;124m\"\u001b[39m)\n\u001b[1;32m   6645\u001b[0m     indexer \u001b[38;5;241m=\u001b[39m indexer[\u001b[38;5;241m~\u001b[39mmask]\n\u001b[1;32m   6646\u001b[0m \u001b[38;5;28;01mreturn\u001b[39;00m \u001b[38;5;28mself\u001b[39m\u001b[38;5;241m.\u001b[39mdelete(indexer)\n",
      "\u001b[0;31mKeyError\u001b[0m: \"['tcp.flags', 'mqtt.conack.flags', 'mqtt.conflags', 'mqtt.hdrflags', 'mqtt.msg', 'mqtt.protoname'] not found in axis\""
     ]
    }
   ],
   "source": [
    "df = df.drop(columns=non_numeric_columns)"
   ]
  },
  {
   "cell_type": "markdown",
   "id": "ab6afc23",
   "metadata": {},
   "source": [
    "#### Change \"Label\" from text to numbers"
   ]
  },
  {
   "cell_type": "code",
   "execution_count": 147,
   "id": "ee5ed8e0",
   "metadata": {},
   "outputs": [],
   "source": [
    "df['target'] = df['target'].replace('legitimate', -1).replace('dos', 1).replace('malformed', 1).replace('bruteforce', 1). replace('slowite', 1). replace('flood', 1)"
   ]
  },
  {
   "cell_type": "code",
   "execution_count": 148,
   "id": "19f7acbc",
   "metadata": {},
   "outputs": [
    {
     "data": {
      "text/plain": [
       "array([-1,  1])"
      ]
     },
     "execution_count": 148,
     "metadata": {},
     "output_type": "execute_result"
    }
   ],
   "source": [
    "df['target'].unique()"
   ]
  },
  {
   "cell_type": "markdown",
   "id": "1ee2ce62",
   "metadata": {},
   "source": [
    "#### Find out the datatypes of the columns in the dataframe"
   ]
  },
  {
   "cell_type": "code",
   "execution_count": 149,
   "id": "1ba3d431",
   "metadata": {},
   "outputs": [
    {
     "name": "stdout",
     "output_type": "stream",
     "text": [
      "tcp.time_delta                float64\n",
      "tcp.len                         int64\n",
      "mqtt.conack.flags.reserved    float64\n",
      "mqtt.conack.flags.sp          float64\n",
      "mqtt.conack.val               float64\n",
      "mqtt.conflag.cleansess        float64\n",
      "mqtt.conflag.passwd           float64\n",
      "mqtt.conflag.qos              float64\n",
      "mqtt.conflag.reserved         float64\n",
      "mqtt.conflag.retain           float64\n",
      "mqtt.conflag.uname            float64\n",
      "mqtt.conflag.willflag         float64\n",
      "mqtt.dupflag                  float64\n",
      "mqtt.kalive                   float64\n",
      "mqtt.len                      float64\n",
      "mqtt.msgid                    float64\n",
      "mqtt.msgtype                  float64\n",
      "mqtt.proto_len                float64\n",
      "mqtt.qos                      float64\n",
      "mqtt.retain                   float64\n",
      "mqtt.sub.qos                  float64\n",
      "mqtt.suback.qos               float64\n",
      "mqtt.ver                      float64\n",
      "mqtt.willmsg                  float64\n",
      "mqtt.willmsg_len              float64\n",
      "mqtt.willtopic                float64\n",
      "mqtt.willtopic_len            float64\n",
      "target                          int64\n",
      "dtype: object\n"
     ]
    }
   ],
   "source": [
    "column_info = df.dtypes\n",
    "print(column_info)"
   ]
  },
  {
   "cell_type": "markdown",
   "id": "233c4aa0",
   "metadata": {},
   "source": [
    "#### Find out the columns which have NaN / Missing values - None here"
   ]
  },
  {
   "cell_type": "code",
   "execution_count": 150,
   "id": "46fede18",
   "metadata": {},
   "outputs": [],
   "source": [
    "nan_values = df.columns[df.isna().any()]"
   ]
  },
  {
   "cell_type": "code",
   "execution_count": 47,
   "id": "26a58f21",
   "metadata": {},
   "outputs": [
    {
     "data": {
      "text/plain": [
       "Index([], dtype='object')"
      ]
     },
     "execution_count": 47,
     "metadata": {},
     "output_type": "execute_result"
    }
   ],
   "source": [
    "nan_values"
   ]
  },
  {
   "cell_type": "markdown",
   "id": "87164b6d",
   "metadata": {},
   "source": [
    "#### Find out the columns where all values are equal -> does not contribute to the result"
   ]
  },
  {
   "cell_type": "code",
   "execution_count": 151,
   "id": "8cc27c8d",
   "metadata": {},
   "outputs": [],
   "source": [
    "columns_with_same_val = df.columns[(df == df.iloc[0]).all()]"
   ]
  },
  {
   "cell_type": "code",
   "execution_count": 152,
   "id": "b3c8900a",
   "metadata": {},
   "outputs": [
    {
     "data": {
      "text/plain": [
       "Index(['mqtt.conack.flags.reserved', 'mqtt.conack.flags.sp',\n",
       "       'mqtt.conflag.qos', 'mqtt.conflag.reserved', 'mqtt.conflag.retain',\n",
       "       'mqtt.conflag.willflag', 'mqtt.sub.qos', 'mqtt.suback.qos',\n",
       "       'mqtt.willmsg', 'mqtt.willmsg_len', 'mqtt.willtopic',\n",
       "       'mqtt.willtopic_len'],\n",
       "      dtype='object')"
      ]
     },
     "execution_count": 152,
     "metadata": {},
     "output_type": "execute_result"
    }
   ],
   "source": [
    "columns_with_same_val"
   ]
  },
  {
   "cell_type": "code",
   "execution_count": 153,
   "id": "c654e0ee",
   "metadata": {},
   "outputs": [],
   "source": [
    "df = df.drop(columns=columns_with_same_val)"
   ]
  },
  {
   "cell_type": "code",
   "execution_count": 154,
   "id": "4b3c4dab",
   "metadata": {},
   "outputs": [],
   "source": [
    "columns = df.columns"
   ]
  },
  {
   "cell_type": "code",
   "execution_count": 155,
   "id": "5a266ae3",
   "metadata": {},
   "outputs": [
    {
     "name": "stdout",
     "output_type": "stream",
     "text": [
      "Index(['tcp.time_delta', 'tcp.len', 'mqtt.conack.val',\n",
      "       'mqtt.conflag.cleansess', 'mqtt.conflag.passwd', 'mqtt.conflag.uname',\n",
      "       'mqtt.dupflag', 'mqtt.kalive', 'mqtt.len', 'mqtt.msgid', 'mqtt.msgtype',\n",
      "       'mqtt.proto_len', 'mqtt.qos', 'mqtt.retain', 'mqtt.ver', 'target'],\n",
      "      dtype='object')\n"
     ]
    }
   ],
   "source": [
    "print(columns)"
   ]
  },
  {
   "cell_type": "code",
   "execution_count": 156,
   "id": "506a821b",
   "metadata": {},
   "outputs": [
    {
     "name": "stdout",
     "output_type": "stream",
     "text": [
      "tcp.time_delta [9.988670e-01 6.700000e-05 5.800000e-05 ... 1.500562e+00 6.428500e-02\n",
      " 4.988150e-01]\n",
      "tcp.len [   10  1460    16     0    13   112   362     4    72    14     2    66\n",
      "    87   175   106    12     8    85    71    93    94   166    81    89\n",
      "   101    78   100    96    32   102   181    53    61    92    36   168\n",
      "    64    80    69    54   120   176    91    30   172   324  1179   186\n",
      "    24    28    95    83    74   170    86   117   128    65    20   342\n",
      "   173    79   164    44     3   687   103    11   344    29   521    31\n",
      "    75    90   529    59    70   111    97    52    84   336   936    98\n",
      "   180    73   177   124   171   174   517   110   167  1373    48   118\n",
      "    77   116  1041    67   162     5   113    60    40   791    99   178\n",
      "   185   104 32760    63    82   109   673   507   518   114   107   352\n",
      "   105   268    88   509    68    51   339   704   337   146    56    76\n",
      "   861   349   364   108   163   515   858 29664   705   345    55   140\n",
      "   338   184   169   182   848 15248   123  1377   196  1027   683   864\n",
      "   504    50   526   511   513   165   522  1211   867   870   132   690\n",
      "  1017   847   852  1024   343   519   873    57  1031     1   866    47\n",
      "    33   865  1044   256   341   347   514    58   144  1032   192    27\n",
      "  1209  1382    49   136   340   356   353   115   523 32759  1349  1187\n",
      "   506  1365  1026   127   350  1378  1361   851   333   228  1170   500\n",
      "   501   699   348   160   148   856    45  1202   531   183   412 20772\n",
      "   359  1383  1356    62   686   512    46   496   520   296  1009   703\n",
      "   334  1358  1034  1387   328   845   307   676  1019   696  1022  1194\n",
      "   312   284   384   495  1376  1372 30582   608   675  1025   131   361\n",
      "  1370  1205  1011   681   828  1200  1215   693   188   119   122   682\n",
      "   678   862  1174  1036  1007  1207   695   179   354  1204  1198     7\n",
      "  1184   525  1216   528   335   685  1366   684   161   346  1037    18\n",
      "   516   510   665    41   357   372   329  1381  1367   484   692   154\n",
      "   674   320   126    43  1220   355    37  1256   125 17527    38    42\n",
      " 21862   505   236   233   680   248   850  1408   689   860   744  1369\n",
      "   121   671   853   580  1385   691   332  1371  1342   135    17  1028\n",
      "  1226   159   872   688  1039   863  9231   152   694   156  1368  1035\n",
      "   677  1199   849  1002  1188   859 22049   432  1217  6443  1016   708\n",
      "   440   702    15   416  1180   408  1159  1048  1040   498 32512  1015\n",
      "   670  1183  1175   499  1053   881  1208  1195  1357 27828  1196   768\n",
      "  1210 32768   698   880 12510  1192  1355   871   260   351   701   540\n",
      "  1021   524  1018  1379  1023   290   276   844  1008   855  1012  1364\n",
      "  1049   720  1389  1232   533   712  1004  1416  1398 29665  1345  1189\n",
      "  1185  1403   987  1362   846  1336  1051  1038   869 26800  8177   503\n",
      "   292  1033  1359   330   697  1363   129   780   833   187   508  1030\n",
      "  1197  1186 31399   327 26280   468   240  1231  1042   388  1000   875\n",
      "  1414  1354   331   358   157  1219   999   212   137 22608  1407  1020\n",
      "  1343   204    26    21   288   883  2412   669   660   527   640   888\n",
      "    35   155  1201  1350   879  1191  1171 21690   368    19   216   232\n",
      "   668   868   220   874   876 30719   854 32076   887   552    23   992\n",
      "   493   280   145  1206 11645   679  1193   837   497   840   300   667\n",
      "  6372  1351  1029   158  1384   472   878   380  1203    22   839   396\n",
      "  1347   748   139  1390   530  1412   996   532  1374   293    34  1092\n",
      "   360   721  1337  1213   502   842   672  1052 13716  1388  1375 28116\n",
      "  1391   564  1230   208  1182   857  1360  6084 11592  1452  1181  7904\n",
      "   490  1173   662  1259   534   138 32762 21060  1043   244  1221   560\n",
      "  1224  1225  1055  1013   666 11832  1010   262  1169   831   841   404\n",
      "  1397  1352   488  1212  1064   130   657   584  1380   825   272   804\n",
      "   843 24444  1294  3162  1393  1222  1218   436   252   724  1014 28746\n",
      "  1177   494  1401   492   706  1190  1050   448   539   663    39   264\n",
      " 19448  1341  1005  1394  1168   535  1001  1166   537   664   835  4709\n",
      "   604   536  2108   316   133   763   658   829   323  5454   877   134\n",
      " 29852   325  1223  1335   792   736   538   319   480  1214   884 19566\n",
      "  1059   428 27064 14926 10674  1045   200 15980  1340  1428 28985   321\n",
      "   700  1386  1353   752 31500  1047  4248  1426   820   224  1395   326\n",
      "  1348   544  1417   886 17714   989   826  1054   600 23783  4536  1172\n",
      "   836 25992   764 16192 18648  1409 18018  1066  1402   374 27251   834\n",
      " 21369 14058  1100  1254   576  1245  1076  1433   309 13379 10778  9756\n",
      "   772   190 26197   392 19261  1131   784   928  2700 27931 17100  1156\n",
      "   400   149 32418 31788  4029   838   624 28432   376   304   612   616\n",
      "  1152 22729 19854   588   452  9911  1396  1132  1405  1237 30240   998\n",
      "   322   656  1274   424   596]\n",
      "mqtt.conack.val [0. 5.]\n",
      "mqtt.conflag.cleansess [0. 1.]\n",
      "mqtt.conflag.passwd [0. 1.]\n",
      "mqtt.conflag.uname [0. 1.]\n",
      "mqtt.dupflag [0. 1.]\n",
      "mqtt.kalive [0.0000e+00 6.0000e+01 6.5535e+04 2.0000e+00 1.0000e+00 3.0000e+00\n",
      " 2.3400e+02]\n",
      "mqtt.len [  8. 169. 163.   2.   0.  11. 174. 166.  12. 161. 162. 177. 171. 164.\n",
      " 172. 178.  10. 165. 183. 170. 168. 156. 179.  52. 167. 173.  28. 175.\n",
      " 176. 159.  30.   9.  29. 160. 181. 184.  26. 158.  31.  19. 182.  16.\n",
      "  18.  49.  33.   6. 157. 180.  27.  14.   3. 152.  34. 153.  25. 155.\n",
      "  15.  44.  43. 185.  39.  48. 154. 692. 150. 151.  47.  42. 186.  38.\n",
      "  13.   7.  53.  22.  24.  41.  46.  40.  32.  50.  37.  51. 190. 149.\n",
      "  45.  36. 189. 188.  54. 187.  35.  17.]\n",
      "mqtt.msgid [   0. 2714. 1548. ... 9580. 9279. 9787.]\n",
      "mqtt.msgtype [ 3.  4.  0.  2. 13. 12.  1.  9.  5.  8. 14.]\n",
      "mqtt.proto_len [0. 4.]\n",
      "mqtt.qos [0. 1.]\n",
      "mqtt.retain [0. 1.]\n",
      "mqtt.ver [0. 4.]\n",
      "target [-1  1]\n"
     ]
    }
   ],
   "source": [
    "for item in columns:\n",
    "    print(item, df[item].unique())"
   ]
  },
  {
   "cell_type": "code",
   "execution_count": 157,
   "id": "6327c2a1",
   "metadata": {},
   "outputs": [
    {
     "data": {
      "text/html": [
       "<div>\n",
       "<style scoped>\n",
       "    .dataframe tbody tr th:only-of-type {\n",
       "        vertical-align: middle;\n",
       "    }\n",
       "\n",
       "    .dataframe tbody tr th {\n",
       "        vertical-align: top;\n",
       "    }\n",
       "\n",
       "    .dataframe thead th {\n",
       "        text-align: right;\n",
       "    }\n",
       "</style>\n",
       "<table border=\"1\" class=\"dataframe\">\n",
       "  <thead>\n",
       "    <tr style=\"text-align: right;\">\n",
       "      <th></th>\n",
       "      <th>tcp.time_delta</th>\n",
       "      <th>tcp.len</th>\n",
       "      <th>mqtt.conack.val</th>\n",
       "      <th>mqtt.conflag.cleansess</th>\n",
       "      <th>mqtt.conflag.passwd</th>\n",
       "      <th>mqtt.conflag.uname</th>\n",
       "      <th>mqtt.dupflag</th>\n",
       "      <th>mqtt.kalive</th>\n",
       "      <th>mqtt.len</th>\n",
       "      <th>mqtt.msgid</th>\n",
       "      <th>mqtt.msgtype</th>\n",
       "      <th>mqtt.proto_len</th>\n",
       "      <th>mqtt.qos</th>\n",
       "      <th>mqtt.retain</th>\n",
       "      <th>mqtt.ver</th>\n",
       "      <th>target</th>\n",
       "    </tr>\n",
       "  </thead>\n",
       "  <tbody>\n",
       "    <tr>\n",
       "      <th>0</th>\n",
       "      <td>0.998867</td>\n",
       "      <td>10</td>\n",
       "      <td>0.0</td>\n",
       "      <td>0.0</td>\n",
       "      <td>0.0</td>\n",
       "      <td>0.0</td>\n",
       "      <td>0.0</td>\n",
       "      <td>0.0</td>\n",
       "      <td>8.0</td>\n",
       "      <td>0.0</td>\n",
       "      <td>3.0</td>\n",
       "      <td>0.0</td>\n",
       "      <td>0.0</td>\n",
       "      <td>0.0</td>\n",
       "      <td>0.0</td>\n",
       "      <td>-1</td>\n",
       "    </tr>\n",
       "    <tr>\n",
       "      <th>1</th>\n",
       "      <td>0.000067</td>\n",
       "      <td>1460</td>\n",
       "      <td>0.0</td>\n",
       "      <td>0.0</td>\n",
       "      <td>0.0</td>\n",
       "      <td>0.0</td>\n",
       "      <td>0.0</td>\n",
       "      <td>0.0</td>\n",
       "      <td>169.0</td>\n",
       "      <td>2714.0</td>\n",
       "      <td>3.0</td>\n",
       "      <td>0.0</td>\n",
       "      <td>1.0</td>\n",
       "      <td>0.0</td>\n",
       "      <td>0.0</td>\n",
       "      <td>1</td>\n",
       "    </tr>\n",
       "    <tr>\n",
       "      <th>2</th>\n",
       "      <td>0.000058</td>\n",
       "      <td>1460</td>\n",
       "      <td>0.0</td>\n",
       "      <td>0.0</td>\n",
       "      <td>0.0</td>\n",
       "      <td>0.0</td>\n",
       "      <td>0.0</td>\n",
       "      <td>0.0</td>\n",
       "      <td>163.0</td>\n",
       "      <td>1548.0</td>\n",
       "      <td>3.0</td>\n",
       "      <td>0.0</td>\n",
       "      <td>1.0</td>\n",
       "      <td>0.0</td>\n",
       "      <td>0.0</td>\n",
       "      <td>1</td>\n",
       "    </tr>\n",
       "    <tr>\n",
       "      <th>3</th>\n",
       "      <td>0.000227</td>\n",
       "      <td>10</td>\n",
       "      <td>0.0</td>\n",
       "      <td>0.0</td>\n",
       "      <td>0.0</td>\n",
       "      <td>0.0</td>\n",
       "      <td>0.0</td>\n",
       "      <td>0.0</td>\n",
       "      <td>8.0</td>\n",
       "      <td>0.0</td>\n",
       "      <td>3.0</td>\n",
       "      <td>0.0</td>\n",
       "      <td>0.0</td>\n",
       "      <td>0.0</td>\n",
       "      <td>0.0</td>\n",
       "      <td>-1</td>\n",
       "    </tr>\n",
       "    <tr>\n",
       "      <th>4</th>\n",
       "      <td>0.000236</td>\n",
       "      <td>16</td>\n",
       "      <td>0.0</td>\n",
       "      <td>0.0</td>\n",
       "      <td>0.0</td>\n",
       "      <td>0.0</td>\n",
       "      <td>0.0</td>\n",
       "      <td>0.0</td>\n",
       "      <td>2.0</td>\n",
       "      <td>2800.0</td>\n",
       "      <td>4.0</td>\n",
       "      <td>0.0</td>\n",
       "      <td>0.0</td>\n",
       "      <td>0.0</td>\n",
       "      <td>0.0</td>\n",
       "      <td>1</td>\n",
       "    </tr>\n",
       "  </tbody>\n",
       "</table>\n",
       "</div>"
      ],
      "text/plain": [
       "   tcp.time_delta  tcp.len  mqtt.conack.val  mqtt.conflag.cleansess  \\\n",
       "0        0.998867       10              0.0                     0.0   \n",
       "1        0.000067     1460              0.0                     0.0   \n",
       "2        0.000058     1460              0.0                     0.0   \n",
       "3        0.000227       10              0.0                     0.0   \n",
       "4        0.000236       16              0.0                     0.0   \n",
       "\n",
       "   mqtt.conflag.passwd  mqtt.conflag.uname  mqtt.dupflag  mqtt.kalive  \\\n",
       "0                  0.0                 0.0           0.0          0.0   \n",
       "1                  0.0                 0.0           0.0          0.0   \n",
       "2                  0.0                 0.0           0.0          0.0   \n",
       "3                  0.0                 0.0           0.0          0.0   \n",
       "4                  0.0                 0.0           0.0          0.0   \n",
       "\n",
       "   mqtt.len  mqtt.msgid  mqtt.msgtype  mqtt.proto_len  mqtt.qos  mqtt.retain  \\\n",
       "0       8.0         0.0           3.0             0.0       0.0          0.0   \n",
       "1     169.0      2714.0           3.0             0.0       1.0          0.0   \n",
       "2     163.0      1548.0           3.0             0.0       1.0          0.0   \n",
       "3       8.0         0.0           3.0             0.0       0.0          0.0   \n",
       "4       2.0      2800.0           4.0             0.0       0.0          0.0   \n",
       "\n",
       "   mqtt.ver  target  \n",
       "0       0.0      -1  \n",
       "1       0.0       1  \n",
       "2       0.0       1  \n",
       "3       0.0      -1  \n",
       "4       0.0       1  "
      ]
     },
     "execution_count": 157,
     "metadata": {},
     "output_type": "execute_result"
    }
   ],
   "source": [
    "df.head()"
   ]
  },
  {
   "cell_type": "markdown",
   "id": "9c61ac7b",
   "metadata": {},
   "source": [
    "#### Find out the max values from each column to avoid 'inf' -> infinity value problem"
   ]
  },
  {
   "cell_type": "code",
   "execution_count": 158,
   "id": "23f6dd5a",
   "metadata": {},
   "outputs": [
    {
     "data": {
      "text/plain": [
       "tcp.time_delta               60.000878\n",
       "tcp.len                   32768.000000\n",
       "mqtt.conack.val               5.000000\n",
       "mqtt.conflag.cleansess        1.000000\n",
       "mqtt.conflag.passwd           1.000000\n",
       "mqtt.conflag.uname            1.000000\n",
       "mqtt.dupflag                  1.000000\n",
       "mqtt.kalive               65535.000000\n",
       "mqtt.len                    692.000000\n",
       "mqtt.msgid                10000.000000\n",
       "mqtt.msgtype                 14.000000\n",
       "mqtt.proto_len                4.000000\n",
       "mqtt.qos                      1.000000\n",
       "mqtt.retain                   1.000000\n",
       "mqtt.ver                      4.000000\n",
       "target                        1.000000\n",
       "dtype: float64"
      ]
     },
     "execution_count": 158,
     "metadata": {},
     "output_type": "execute_result"
    }
   ],
   "source": [
    "df.max(axis=0)"
   ]
  },
  {
   "cell_type": "markdown",
   "id": "1120739a",
   "metadata": {},
   "source": [
    "#### Replacing Infinity values with NaN"
   ]
  },
  {
   "cell_type": "code",
   "execution_count": 27,
   "id": "a8ca8c2b",
   "metadata": {},
   "outputs": [],
   "source": [
    "#df.replace([np.inf, -np.inf], np.nan, inplace=True)"
   ]
  },
  {
   "cell_type": "markdown",
   "id": "bcdb7bd7",
   "metadata": {},
   "source": [
    "#### Imputing using median for outliers"
   ]
  },
  {
   "cell_type": "code",
   "execution_count": 28,
   "id": "2e2da2dd",
   "metadata": {},
   "outputs": [],
   "source": [
    "#df.fillna(df.median(), inplace=True)"
   ]
  },
  {
   "cell_type": "markdown",
   "id": "4a5b297c",
   "metadata": {},
   "source": [
    "#### Separate Dependent and Independent columns"
   ]
  },
  {
   "cell_type": "code",
   "execution_count": 159,
   "id": "28e4acc0",
   "metadata": {},
   "outputs": [],
   "source": [
    "shp = df.shape\n",
    "cols = list(df.columns.values)"
   ]
  },
  {
   "cell_type": "code",
   "execution_count": 160,
   "id": "98c3dc7a",
   "metadata": {},
   "outputs": [],
   "source": [
    "X = df[cols[0:shp[1]-1]]"
   ]
  },
  {
   "cell_type": "code",
   "execution_count": 161,
   "id": "29870aeb",
   "metadata": {},
   "outputs": [],
   "source": [
    "y = df['target']"
   ]
  },
  {
   "cell_type": "code",
   "execution_count": 230,
   "id": "2ebc6523",
   "metadata": {},
   "outputs": [
    {
     "data": {
      "text/plain": [
       "(   tcp.time_delta  tcp.len  mqtt.conack.val  mqtt.conflag.cleansess  \\\n",
       " 0        0.998867       10              0.0                     0.0   \n",
       " 1        0.000067     1460              0.0                     0.0   \n",
       " 2        0.000058     1460              0.0                     0.0   \n",
       " 3        0.000227       10              0.0                     0.0   \n",
       " 4        0.000236       16              0.0                     0.0   \n",
       " \n",
       "    mqtt.conflag.passwd  mqtt.conflag.uname  mqtt.dupflag  mqtt.kalive  \\\n",
       " 0                  0.0                 0.0           0.0          0.0   \n",
       " 1                  0.0                 0.0           0.0          0.0   \n",
       " 2                  0.0                 0.0           0.0          0.0   \n",
       " 3                  0.0                 0.0           0.0          0.0   \n",
       " 4                  0.0                 0.0           0.0          0.0   \n",
       " \n",
       "    mqtt.len  mqtt.msgid  mqtt.msgtype  mqtt.proto_len  mqtt.qos  mqtt.retain  \\\n",
       " 0       8.0         0.0           3.0             0.0       0.0          0.0   \n",
       " 1     169.0      2714.0           3.0             0.0       1.0          0.0   \n",
       " 2     163.0      1548.0           3.0             0.0       1.0          0.0   \n",
       " 3       8.0         0.0           3.0             0.0       0.0          0.0   \n",
       " 4       2.0      2800.0           4.0             0.0       0.0          0.0   \n",
       " \n",
       "    mqtt.ver  \n",
       " 0       0.0  \n",
       " 1       0.0  \n",
       " 2       0.0  \n",
       " 3       0.0  \n",
       " 4       0.0  ,\n",
       " 0   -1\n",
       " 1    1\n",
       " 2    1\n",
       " 3   -1\n",
       " 4    1\n",
       " Name: target, dtype: int64)"
      ]
     },
     "execution_count": 230,
     "metadata": {},
     "output_type": "execute_result"
    }
   ],
   "source": [
    "X.head(), y.head()"
   ]
  },
  {
   "cell_type": "markdown",
   "id": "6f293653",
   "metadata": {},
   "source": [
    "### Feature selection using PCA"
   ]
  },
  {
   "cell_type": "markdown",
   "id": "1c5d7a3c",
   "metadata": {},
   "source": [
    "#### Clear memory by clearing variables"
   ]
  },
  {
   "cell_type": "code",
   "execution_count": 33,
   "id": "775fadb8",
   "metadata": {},
   "outputs": [],
   "source": [
    "# %reset"
   ]
  },
  {
   "cell_type": "markdown",
   "id": "41c61761",
   "metadata": {},
   "source": [
    "#### Preprocess the data by scaling the features"
   ]
  },
  {
   "cell_type": "code",
   "execution_count": 163,
   "id": "3e01de52",
   "metadata": {},
   "outputs": [],
   "source": [
    "# scaler = StandardScaler()\n",
    "# X = scaler.fit_transform(X)\n",
    "\n",
    "# Use MinMaxScaler\n",
    "scaler = MinMaxScaler()\n",
    "scaled_X = scaler.fit_transform(X)"
   ]
  },
  {
   "cell_type": "code",
   "execution_count": 184,
   "id": "35c1ea4b",
   "metadata": {},
   "outputs": [
    {
     "data": {
      "text/plain": [
       "array([[1.66475725e-02, 3.05175781e-04, 0.00000000e+00, ...,\n",
       "        0.00000000e+00, 0.00000000e+00, 0.00000000e+00],\n",
       "       [1.14998313e-06, 4.45556641e-02, 0.00000000e+00, ...,\n",
       "        1.00000000e+00, 0.00000000e+00, 0.00000000e+00],\n",
       "       [9.99985334e-07, 4.45556641e-02, 0.00000000e+00, ...,\n",
       "        1.00000000e+00, 0.00000000e+00, 0.00000000e+00],\n",
       "       ...,\n",
       "       [1.77497397e-05, 0.00000000e+00, 0.00000000e+00, ...,\n",
       "        0.00000000e+00, 0.00000000e+00, 0.00000000e+00],\n",
       "       [4.66659822e-07, 0.00000000e+00, 0.00000000e+00, ...,\n",
       "        0.00000000e+00, 0.00000000e+00, 0.00000000e+00],\n",
       "       [3.33328445e-08, 0.00000000e+00, 0.00000000e+00, ...,\n",
       "        0.00000000e+00, 0.00000000e+00, 0.00000000e+00]])"
      ]
     },
     "execution_count": 184,
     "metadata": {},
     "output_type": "execute_result"
    }
   ],
   "source": [
    "scaled_X"
   ]
  },
  {
   "cell_type": "markdown",
   "id": "a67949bc",
   "metadata": {},
   "source": [
    "#### Perform PCA"
   ]
  },
  {
   "cell_type": "code",
   "execution_count": 165,
   "id": "fc1b5cdb",
   "metadata": {},
   "outputs": [
    {
     "data": {
      "text/plain": [
       "PCA()"
      ]
     },
     "execution_count": 165,
     "metadata": {},
     "output_type": "execute_result"
    }
   ],
   "source": [
    "pca = PCA()\n",
    "pca.fit(scaled_X)"
   ]
  },
  {
   "cell_type": "code",
   "execution_count": 166,
   "id": "b5abd06b",
   "metadata": {},
   "outputs": [
    {
     "data": {
      "image/png": "[encoded data removed]",
      "text/plain": [
       "<Figure size 432x288 with 1 Axes>"
      ]
     },
     "metadata": {
      "needs_background": "light"
     },
     "output_type": "display_data"
    }
   ],
   "source": [
    "explained_variance = pca.explained_variance_ratio_\n",
    "cumulative_variance = np.cumsum(explained_variance)\n",
    "\n",
    "plt.plot(range(1, len(explained_variance) + 1), cumulative_variance, marker='o')\n",
    "plt.xlabel('Number of Components')\n",
    "plt.ylabel('Cumulative Explained Variance')\n",
    "plt.title('Explained Variance vs. Number of Components')\n",
    "plt.show()"
   ]
  },
  {
   "cell_type": "markdown",
   "id": "ca59fd2d",
   "metadata": {},
   "source": [
    "#### Finding the best number of components by Elbow method"
   ]
  },
  {
   "cell_type": "code",
   "execution_count": 167,
   "id": "a124ad32",
   "metadata": {},
   "outputs": [
    {
     "name": "stdout",
     "output_type": "stream",
     "text": [
      "Number of components at the elbow point: 14\n"
     ]
    }
   ],
   "source": [
    "# Calculate the difference in explained variance between components\n",
    "explained_variance_diff = np.diff(explained_variance)\n",
    "\n",
    "# Find the index of the elbow point (maximum difference)\n",
    "elbow_index = np.argmax(explained_variance_diff) + 1\n",
    "\n",
    "print(\"Number of components at the elbow point:\", elbow_index)"
   ]
  },
  {
   "cell_type": "markdown",
   "id": "15024def",
   "metadata": {},
   "source": [
    "#### Find the best number of components by the Threshold method"
   ]
  },
  {
   "cell_type": "code",
   "execution_count": 168,
   "id": "63f274ed",
   "metadata": {},
   "outputs": [
    {
     "data": {
      "image/png": "[encoded data removed]",
      "text/plain": [
       "<Figure size 432x288 with 1 Axes>"
      ]
     },
     "metadata": {
      "needs_background": "light"
     },
     "output_type": "display_data"
    },
    {
     "name": "stdout",
     "output_type": "stream",
     "text": [
      "Number of components above the threshold: 11\n"
     ]
    }
   ],
   "source": [
    "threshold = 0.999  # Define the desired threshold (e.g., 99% variance explained)\n",
    "\n",
    "# Find the number of components above the threshold\n",
    "n_components = np.argmax(cumulative_variance >= threshold) + 1\n",
    "\n",
    "# Plot the threshold line\n",
    "plt.plot(range(1, len(explained_variance) + 1), cumulative_variance, marker='o')\n",
    "plt.axhline(y=threshold, color='r', linestyle='--')\n",
    "plt.xlabel('Number of Components')\n",
    "plt.ylabel('Cumulative Explained Variance')\n",
    "plt.title('Explained Variance vs. Number of Components')\n",
    "plt.show()\n",
    "\n",
    "print(\"Number of components above the threshold:\", n_components)"
   ]
  },
  {
   "cell_type": "markdown",
   "id": "bb9d2951",
   "metadata": {},
   "source": [
    "#### From the above mentioned statistical analysis, we see that including more or less 20 components is enough for a variance that levels off"
   ]
  },
  {
   "cell_type": "code",
   "execution_count": 169,
   "id": "2ab046a5",
   "metadata": {},
   "outputs": [],
   "source": [
    "n_components = 14  # Choose the desired number of components\n",
    "pca = PCA(n_components=n_components)\n",
    "X_pca = pca.fit_transform(scaled_X)"
   ]
  },
  {
   "cell_type": "markdown",
   "id": "af8ab2cb",
   "metadata": {},
   "source": [
    "#### Number of Components with impactful positive correlation = 14"
   ]
  },
  {
   "cell_type": "code",
   "execution_count": 170,
   "id": "409c7d2c",
   "metadata": {},
   "outputs": [],
   "source": [
    "y_pca = y.values.ravel()"
   ]
  },
  {
   "cell_type": "code",
   "execution_count": 171,
   "id": "f07bc274",
   "metadata": {},
   "outputs": [
    {
     "data": {
      "text/plain": [
       "(array([[-2.15651388e-01, -1.58125001e-02, -3.07227398e-02, ...,\n",
       "          1.74856914e-03,  2.27792401e-06,  2.64391498e-15],\n",
       "        [ 7.43890988e-01, -1.09017880e-01,  3.76253844e-03, ...,\n",
       "         -2.83703655e-03, -3.04033369e-06,  2.74883482e-15],\n",
       "        [ 6.87867062e-01, -1.99499883e-01, -1.38057393e-02, ...,\n",
       "         -1.25821805e-02, -1.57128180e-05,  1.18204532e-15],\n",
       "        ...,\n",
       "        [-2.37706766e-01, -7.08973434e-02, -3.33378610e-02, ...,\n",
       "         -2.29103327e-03, -3.10525970e-06,  3.55407985e-19],\n",
       "        [-2.37706702e-01, -7.08974730e-02, -3.33377940e-02, ...,\n",
       "         -2.29155836e-03, -3.10589537e-06,  3.60442822e-19],\n",
       "        [-2.37706700e-01, -7.08974763e-02, -3.33377923e-02, ...,\n",
       "         -2.29157152e-03, -3.10591130e-06, -1.24830751e-18]]),\n",
       " array([-1,  1,  1, ...,  1,  1,  1]))"
      ]
     },
     "execution_count": 171,
     "metadata": {},
     "output_type": "execute_result"
    }
   ],
   "source": [
    "X_pca, y_pca"
   ]
  },
  {
   "cell_type": "code",
   "execution_count": 87,
   "id": "ecebfcf1",
   "metadata": {},
   "outputs": [],
   "source": [
    "# for n_components in range(1,25):\n",
    "#    pca = PCA(n_components=n_components)\n",
    "#    X_pca = pca.fit_transform(scaled_X)"
   ]
  },
  {
   "cell_type": "code",
   "execution_count": 86,
   "id": "1da84a4d",
   "metadata": {},
   "outputs": [],
   "source": [
    "# Delete variable\n",
    "# del val"
   ]
  },
  {
   "cell_type": "markdown",
   "id": "cd3d92ff",
   "metadata": {},
   "source": [
    "#### The part below is for checking the recall based on the the number of k neighbors used in SMOTE oversampling"
   ]
  },
  {
   "cell_type": "code",
   "execution_count": 88,
   "id": "76635f27",
   "metadata": {},
   "outputs": [],
   "source": [
    "# NOT NEEDED\n",
    "# values to evaluate\n",
    "# k_values = [1, 2, 3, 4, 5, 6, 7]\n",
    "# for k in k_values:\n",
    "#     # define pipeline\n",
    "#     model = DecisionTreeClassifier()\n",
    "#     over = SMOTE(sampling_strategy=0.1, k_neighbors=k)\n",
    "#     under = RandomUnderSampler(sampling_strategy=0.5)\n",
    "#     steps = [('over', over), ('under', under), ('model', model)]\n",
    "#     pipeline = Pipeline(steps=steps)\n",
    "#     # evaluate pipeline\n",
    "#     cv = RepeatedStratifiedKFold(n_splits=10, n_repeats=3, random_state=1)\n",
    "#     scores = cross_val_score(pipeline, X_pca, y, scoring='recall', cv=cv, n_jobs=-1)\n",
    "#     score = mean(scores)\n",
    "#     print('> k=%d, Mean Recall: %.3f' % (k, score))"
   ]
  },
  {
   "cell_type": "markdown",
   "id": "48759e45",
   "metadata": {},
   "source": [
    "#### The code below uses the QBoost to find out good parameters for oversampling, and undersampling"
   ]
  },
  {
   "cell_type": "code",
   "execution_count": 213,
   "id": "7a890f41",
   "metadata": {},
   "outputs": [],
   "source": [
    "def trainQboost(x, y):\n",
    "    print('Training QBOOST Model... ')\n",
    "    qboost = QBoostClassifier(n_estimators=NUM_WEAK_CLASSIFIERS, max_depth=TREE_DEPTH)\n",
    "    start = timer()\n",
    "    qboost.fit(x, y, emb_sampler, lmd=lmd, **DW_PARAMS)\n",
    "    end = timer()\n",
    "    train_time = end - start\n",
    "    print('QBoost training time in seconds :', train_time)\n",
    "    return qboost, train_time"
   ]
  },
  {
   "cell_type": "code",
   "execution_count": 214,
   "id": "1d171fa5",
   "metadata": {},
   "outputs": [],
   "source": [
    "def predictModel(model, x):\n",
    "    print('Prediction on model :', model)\n",
    "    start = timer()\n",
    "    predictions = model.predict(x)\n",
    "    end = timer()\n",
    "    predict_time = end - start\n",
    "    return predictions, predict_time"
   ]
  },
  {
   "cell_type": "code",
   "execution_count": 212,
   "id": "560239f6",
   "metadata": {},
   "outputs": [],
   "source": [
    "# QBoost Parameters and Variables\n",
    "DW_PARAMS = {'num_reads': 3000,\n",
    "             'auto_scale': True,\n",
    "             # \"answer_mode\": \"histogram\",\n",
    "             'num_spin_reversal_transforms': 10,\n",
    "             # 'annealing_time': 10,\n",
    "             # 'postprocess': 'optimization',\n",
    "             }\n",
    "NUM_WEAK_CLASSIFIERS = 55\n",
    "TREE_DEPTH = 10\n",
    "# dwave_sampler = DWaveSampler(token=\"DEV-98f903479d1e03bc59d7ba92376a492f76f7c906\")  # anibrata.pal@uniba.it\n",
    "dwave_sampler = DWaveSampler(token=\"DEV-68adb3eb159f7d774b2744b76f46444f8faa1ac5\")  # ahanamaitra01@gmail.com\n",
    "# sa_sampler = micro.dimod.SimulatedAnnealingSampler()\n",
    "emb_sampler = EmbeddingComposite(dwave_sampler)\n",
    "lmd = 0.5"
   ]
  },
  {
   "cell_type": "code",
   "execution_count": 232,
   "id": "95fd6908",
   "metadata": {},
   "outputs": [
    {
     "data": {
      "text/plain": [
       "array([-1,  1,  1, ...,  1,  1,  1])"
      ]
     },
     "execution_count": 232,
     "metadata": {},
     "output_type": "execute_result"
    }
   ],
   "source": [
    "y_pca"
   ]
  },
  {
   "cell_type": "code",
   "execution_count": 121,
   "id": "766de56c",
   "metadata": {},
   "outputs": [],
   "source": [
    "# def evaluate_over_under():\n",
    "#     # Nearest neighbor values for SMOTE\n",
    "#     k_values = [1, 2, 3, 4, 5, 6, 7]\n",
    "#     s_values = [0.1, 0.2, 0.3, 0.4, 0.5]\n",
    "#     \n",
    "#     # Create a KFold object with n_splits=10\n",
    "#     # kf = KFold(n_splits=10)\n",
    "#     # precision, recall, f1 = 0, 0, 0\n",
    "#     for s in s_values:\n",
    "#         for k in k_values:\n",
    "#             # Declear the models for SMOTE over and Random Undersampling\n",
    "#             over = SMOTE(sampling_strategy=s, k_neighbors=k)\n",
    "#             under = RandomUnderSampler(sampling_strategy=0.5)\n",
    "#             X, y = over.fit_resample(X_pca, y_pca)\n",
    "#             X, y = under.fit_resample(X, y)\n",
    "#             print(Counter(y))\n",
    "#             count = 0\n",
    "#             x_train, x_test, y_train, y_test = train_test_split(X, y, test_size=0.3, shuffle=True, random_state=42)\n",
    "#             model, train_time = trainQboost(x_train, y_train)\n",
    "#             predictions, predict_time = predictModel(model, x_test)\n",
    "#             # print('Training Time: %.2f, Prediction Time: %2f' % (train_time, predict_time))\n",
    "#             # Calculate precision\n",
    "#             precision = precision_score(y_test, predictions)\n",
    "#             # Calculate recall\n",
    "#             recall = recall_score(y_test, predictions)\n",
    "#             # Calculate F1-score\n",
    "#             f1 = f1_score(y_test, predictions)\n",
    "#             print('>> s: %3f -> k: %d -> Precision: %.3f, Recall: %.3f, F1_score: %.3f, Training Time: %.2f, Prediction Time: %2f' % \n",
    "#                   (s, k, precision, recall, f1, train_time, predict_time))\n",
    "            \n",
    "            # Iterate over the splits for 10 fold validation\n",
    "            # for train_index, test_index in kf.split(X, y):\n",
    "            #     # Obtain the training and testing subsets for the current split\n",
    "            #     # X_train, X_test = X[train_index], X[test_index]\n",
    "            #     # y_train, y_test = y[train_index], y[test_index]\n",
    "            #     model, train_time = trainQboost(X[train_index], y[train_index])\n",
    "            #     predictions, predict_time = predictModel(model, X[test_index])\n",
    "            #     print('Training Time: %.2f, Prediction Time: %2f' % (train_time, predict_time))\n",
    "            #     # Calculate precision\n",
    "            #     precision = precision + precision_score(y[test_index], predictions)\n",
    "            #     print('Precision: %.3f' % precision)\n",
    "            #     # Calculate recall\n",
    "            #     print('Precision: %.3f' % precision)\n",
    "            #     recall = recall + recall_score(y[test_index], predictions)\n",
    "            #     # Calculate F1-score\n",
    "            #     f1 = f1 + f1_score(y[test_index], predictions)\n",
    "            #     count = count + 1 \n",
    "            # print('> k=%d, Mean Precision: %.3f, Recall: %.3f, F1-Score: %3f' % (k, precision/count, recall/count, f1/count))    \n",
    "        "
   ]
  },
  {
   "cell_type": "code",
   "execution_count": 122,
   "id": "b81678df",
   "metadata": {},
   "outputs": [],
   "source": [
    "# evaluate_over_under()"
   ]
  },
  {
   "cell_type": "code",
   "execution_count": 176,
   "id": "22ee736e",
   "metadata": {},
   "outputs": [
    {
     "name": "stdout",
     "output_type": "stream",
     "text": [
      "Counter({1: 165473, -1: 165463})\n"
     ]
    }
   ],
   "source": [
    "print(Counter(y_pca))"
   ]
  },
  {
   "cell_type": "code",
   "execution_count": null,
   "id": "d9c55c4b",
   "metadata": {},
   "outputs": [],
   "source": []
  },
  {
   "cell_type": "code",
   "execution_count": 99,
   "id": "bce895d2",
   "metadata": {},
   "outputs": [],
   "source": [
    "# (40073/585710)*100"
   ]
  },
  {
   "cell_type": "code",
   "execution_count": 100,
   "id": "7f952620",
   "metadata": {},
   "outputs": [],
   "source": [
    "# (292855/585710)*100"
   ]
  },
  {
   "cell_type": "code",
   "execution_count": 177,
   "id": "8d6ac80f",
   "metadata": {},
   "outputs": [],
   "source": [
    "def reportResult(y, predictions, model, predict_type, train_time, predict_time):\n",
    "    print(\"Reporting Result ...\")\n",
    "    result_time = datetime.now().strftime(\"%Y%m%d%H%M%S\")\n",
    "    report = classification_report(y, predictions)\n",
    "    with open('../results/' + str(result_time) + '_' + str(model) + '_' + str(predict_type) + '_report.txt', 'a') as f:\n",
    "        f.write('Training time :' + str(train_time) + '\\n')\n",
    "        f.write(report)\n",
    "        f.write('Prediction time :' + str(predict_time) + '\\n')\n",
    "    f.close()\n",
    "    print(\"Saved...\")"
   ]
  },
  {
   "cell_type": "code",
   "execution_count": 178,
   "id": "0cbdbc82",
   "metadata": {},
   "outputs": [],
   "source": [
    "x_train, x_test, y_train, y_test = train_test_split(X_pca, y_pca, test_size=0.3, shuffle=True, random_state=32)"
   ]
  },
  {
   "cell_type": "code",
   "execution_count": 215,
   "id": "cb2f6951",
   "metadata": {},
   "outputs": [
    {
     "name": "stdout",
     "output_type": "stream",
     "text": [
      "Training QBOOST Model... \n",
      "QBoost training time in seconds : 57.322741361975204\n"
     ]
    }
   ],
   "source": [
    "model, train_time = trainQboost(x_train, y_train)"
   ]
  },
  {
   "cell_type": "code",
   "execution_count": 221,
   "id": "e0814b1c",
   "metadata": {},
   "outputs": [
    {
     "name": "stdout",
     "output_type": "stream",
     "text": [
      "Prediction on model : <qboost.qboost.QBoostClassifier object at 0x7ff6c18ec760>\n"
     ]
    }
   ],
   "source": [
    "predictions, predict_time = predictModel(model, x_train)"
   ]
  },
  {
   "cell_type": "code",
   "execution_count": 222,
   "id": "890ee6af",
   "metadata": {},
   "outputs": [
    {
     "name": "stdout",
     "output_type": "stream",
     "text": [
      "Reporting Result ...\n",
      "Saved...\n"
     ]
    }
   ],
   "source": [
    "reportResult(y_train, predictions, str(model)[1:6], 'training', train_time, predict_time)"
   ]
  },
  {
   "cell_type": "code",
   "execution_count": 223,
   "id": "44fa79fd",
   "metadata": {},
   "outputs": [
    {
     "name": "stdout",
     "output_type": "stream",
     "text": [
      "Prediction on model : <qboost.qboost.QBoostClassifier object at 0x7ff6c18ec760>\n"
     ]
    }
   ],
   "source": [
    "predictions, predict_time = predictModel(model, x_test)"
   ]
  },
  {
   "cell_type": "code",
   "execution_count": 224,
   "id": "719a9bdf",
   "metadata": {},
   "outputs": [
    {
     "name": "stdout",
     "output_type": "stream",
     "text": [
      "Reporting Result ...\n",
      "Saved...\n"
     ]
    }
   ],
   "source": [
    "reportResult(y_test, predictions, str(model)[1:4], 'test', train_time, predict_time)"
   ]
  },
  {
   "cell_type": "markdown",
   "id": "484fae99",
   "metadata": {},
   "source": [
    "#### Size of Dataframe"
   ]
  },
  {
   "cell_type": "code",
   "execution_count": 190,
   "id": "053e6aec",
   "metadata": {},
   "outputs": [
    {
     "name": "stdout",
     "output_type": "stream",
     "text": [
      "45007312\n"
     ]
    }
   ],
   "source": [
    "print(sys.getsizeof(df))"
   ]
  },
  {
   "cell_type": "markdown",
   "id": "083e5a3a",
   "metadata": {},
   "source": [
    "### PegaSos QSVC"
   ]
  },
  {
   "cell_type": "code",
   "execution_count": 231,
   "id": "2e805922",
   "metadata": {},
   "outputs": [],
   "source": [
    "scaled_X = MinMaxScaler(feature_range=(0, np.pi)).fit_transform(X)"
   ]
  },
  {
   "cell_type": "code",
   "execution_count": 233,
   "id": "e222fb5e",
   "metadata": {},
   "outputs": [],
   "source": [
    "n_components = 14  # Choose the desired number of components\n",
    "pca = PCA(n_components=n_components)\n",
    "X_pca = pca.fit_transform(scaled_X)"
   ]
  },
  {
   "cell_type": "code",
   "execution_count": 234,
   "id": "1ba186b1",
   "metadata": {},
   "outputs": [],
   "source": [
    "x_train, x_test, y_train, y_test = train_test_split(X_pca, y_pca, test_size=0.3, shuffle=True, random_state=32)"
   ]
  },
  {
   "cell_type": "code",
   "execution_count": 235,
   "id": "acdf17c7",
   "metadata": {},
   "outputs": [],
   "source": [
    "# Train PegaSOS QSVC\n",
    "def trainPQSVC(X, y, data_dimension):\n",
    "    print('Training PegaSOS QSVC Model... ')\n",
    "    # Number of qubits is equal to the number of features\n",
    "    num_qubits = data_dimension  # Test with high data dimension to check if this works\n",
    "    # Number of steps performed during the training procedure\n",
    "    tau = 100  # Test with other number of steps to check difference in data\n",
    "    # Regularization parameter\n",
    "    C = 1000\n",
    "\n",
    "    # Change the data for PegaSoS QSVC\n",
    "    # X = MinMaxScaler(feature_range=(0, np.pi)).fit_transform(X)\n",
    "    # print(len(X))\n",
    "    # print(len(y))\n",
    "\n",
    "    # Split dataset into Training and Testing Data\n",
    "    # x_train, x_test, y_train, y_test = train_test_split(X, y, test_size=0.3, shuffle=True, random_state=32)\n",
    "\n",
    "    # Define feature maps and kernel\n",
    "    feature_map = ZFeatureMap(feature_dimension=num_qubits, reps=2)\n",
    "    qkernel = FidelityQuantumKernel(feature_map=feature_map)\n",
    "\n",
    "    # algorithm_globals.random_seed = 12345  # Already declared in the global variables\n",
    "    # Define the Pegasos QSVC classifier\n",
    "    pegasos_qsvc = PegasosQSVC(quantum_kernel=qkernel, C=C, num_steps=tau)\n",
    "    # training - fit classifier to data\n",
    "    start = timer()\n",
    "    pegasos_qsvc.fit(X, y)\n",
    "    end = timer()\n",
    "    train_time = end - start\n",
    "\n",
    "    return pegasos_qsvc, train_time"
   ]
  },
  {
   "cell_type": "code",
   "execution_count": null,
   "id": "ac04a4aa",
   "metadata": {},
   "outputs": [
    {
     "name": "stdout",
     "output_type": "stream",
     "text": [
      "Training PegaSOS QSVC Model... \n",
      "Prediction on model : <qiskit_machine_learning.algorithms.classifiers.pegasos_qsvc.PegasosQSVC object at 0x7ff62aa8d6a0>\n"
     ]
    }
   ],
   "source": [
    "model, train_time = trainPQSVC(x_train, y_train, x_train.shape[1])\n",
    "predictions, predict_time = predictModel(model, x_train)\n",
    "reportResult(y_train, predictions, str(model)[1:6], 'training', train_time, predict_time)\n",
    "predictions, predict_time = predictModel(model, x_test)\n",
    "reportResult(y_test, predictions, str(model)[1:6], 'testing', train_time, predict_time)"
   ]
  },
  {
   "cell_type": "code",
   "execution_count": null,
   "id": "d054b40c",
   "metadata": {},
   "outputs": [],
   "source": [
    "predictions, predict_time = predictModel(model, x_train)"
   ]
  },
  {
   "cell_type": "code",
   "execution_count": null,
   "id": "467e7771",
   "metadata": {},
   "outputs": [],
   "source": [
    "reportResult(y_train, predictions, str(model)[1:6], 'training', train_time, predict_time)"
   ]
  },
  {
   "cell_type": "code",
   "execution_count": null,
   "id": "b9831d54",
   "metadata": {},
   "outputs": [],
   "source": [
    "predictions, predict_time = predictModel(model, x_test)"
   ]
  },
  {
   "cell_type": "code",
   "execution_count": null,
   "id": "59dc25f9",
   "metadata": {},
   "outputs": [],
   "source": [
    "reportResult(y_train, predictions, str(model)[1:6], 'training', train_time, predict_time)"
   ]
  },
  {
   "cell_type": "markdown",
   "id": "86648d20",
   "metadata": {},
   "source": [
    "### VQC"
   ]
  },
  {
   "cell_type": "code",
   "execution_count": 227,
   "id": "02e7fd4f",
   "metadata": {},
   "outputs": [],
   "source": [
    "# Declare VQC\n",
    "def vqc_nat(feature_map, ansatz):\n",
    "    return VQC(\n",
    "        feature_map=feature_map,\n",
    "        ansatz=ansatz,\n",
    "        loss=\"cross_entropy\",\n",
    "        optimizer=COBYLA(maxiter=30),\n",
    "        callback=callback_graph,\n",
    "    )"
   ]
  },
  {
   "cell_type": "code",
   "execution_count": 228,
   "id": "ffdd6e57",
   "metadata": {},
   "outputs": [],
   "source": [
    "# Training VQC\n",
    "def trainVQC(X, y, data_dimension):\n",
    "    print('Training VQC Model... ')\n",
    "    feature_map = ZZFeatureMap(data_dimension, reps=1)\n",
    "    ansatz = RealAmplitudes(data_dimension, reps=3)\n",
    "    vqc = vqc_nat(feature_map, ansatz)\n",
    "    start = timer()\n",
    "    # fit classifier to data\n",
    "    vqc.fit(X, y)\n",
    "    end = timer()\n",
    "    train_time = end - start\n",
    "    return vqc, train_time"
   ]
  },
  {
   "cell_type": "code",
   "execution_count": null,
   "id": "fff6411a",
   "metadata": {},
   "outputs": [],
   "source": [
    "x_train, x_test, y_train, y_test = train_test_split(X_pca, y_pca, test_size=0.3, shuffle=True, random_state=32)"
   ]
  },
  {
   "cell_type": "code",
   "execution_count": null,
   "id": "db69da0d",
   "metadata": {},
   "outputs": [],
   "source": []
  },
  {
   "cell_type": "code",
   "execution_count": null,
   "id": "c3d2706a",
   "metadata": {},
   "outputs": [],
   "source": []
  },
  {
   "cell_type": "markdown",
   "id": "5943f00f",
   "metadata": {},
   "source": [
    "## The part below is for scratch work"
   ]
  },
  {
   "cell_type": "markdown",
   "id": "84a6d961",
   "metadata": {},
   "source": [
    "### Correlation Matrix study"
   ]
  },
  {
   "cell_type": "code",
   "execution_count": 185,
   "id": "68ccbd06",
   "metadata": {},
   "outputs": [],
   "source": [
    "correlation_matrix = df.corr()"
   ]
  },
  {
   "cell_type": "code",
   "execution_count": 186,
   "id": "aa3523cc",
   "metadata": {},
   "outputs": [
    {
     "data": {
      "text/html": [
       "<div>\n",
       "<style scoped>\n",
       "    .dataframe tbody tr th:only-of-type {\n",
       "        vertical-align: middle;\n",
       "    }\n",
       "\n",
       "    .dataframe tbody tr th {\n",
       "        vertical-align: top;\n",
       "    }\n",
       "\n",
       "    .dataframe thead th {\n",
       "        text-align: right;\n",
       "    }\n",
       "</style>\n",
       "<table border=\"1\" class=\"dataframe\">\n",
       "  <thead>\n",
       "    <tr style=\"text-align: right;\">\n",
       "      <th></th>\n",
       "      <th>tcp.time_delta</th>\n",
       "      <th>tcp.len</th>\n",
       "      <th>mqtt.conack.val</th>\n",
       "      <th>mqtt.conflag.cleansess</th>\n",
       "      <th>mqtt.conflag.passwd</th>\n",
       "      <th>mqtt.conflag.uname</th>\n",
       "      <th>mqtt.dupflag</th>\n",
       "      <th>mqtt.kalive</th>\n",
       "      <th>mqtt.len</th>\n",
       "      <th>mqtt.msgid</th>\n",
       "      <th>mqtt.msgtype</th>\n",
       "      <th>mqtt.proto_len</th>\n",
       "      <th>mqtt.qos</th>\n",
       "      <th>mqtt.retain</th>\n",
       "      <th>mqtt.ver</th>\n",
       "      <th>target</th>\n",
       "    </tr>\n",
       "  </thead>\n",
       "  <tbody>\n",
       "    <tr>\n",
       "      <th>tcp.time_delta</th>\n",
       "      <td>1.000000</td>\n",
       "      <td>-0.006839</td>\n",
       "      <td>-0.006237</td>\n",
       "      <td>-0.009574</td>\n",
       "      <td>-0.006284</td>\n",
       "      <td>-0.006293</td>\n",
       "      <td>-0.018793</td>\n",
       "      <td>-0.005319</td>\n",
       "      <td>-0.036893</td>\n",
       "      <td>-0.048444</td>\n",
       "      <td>0.282967</td>\n",
       "      <td>-0.009574</td>\n",
       "      <td>-0.038094</td>\n",
       "      <td>-0.001821</td>\n",
       "      <td>-0.009574</td>\n",
       "      <td>-0.091051</td>\n",
       "    </tr>\n",
       "    <tr>\n",
       "      <th>tcp.len</th>\n",
       "      <td>-0.006839</td>\n",
       "      <td>1.000000</td>\n",
       "      <td>-0.010344</td>\n",
       "      <td>-0.013420</td>\n",
       "      <td>-0.008602</td>\n",
       "      <td>-0.008615</td>\n",
       "      <td>0.159563</td>\n",
       "      <td>-0.008798</td>\n",
       "      <td>0.274388</td>\n",
       "      <td>0.167136</td>\n",
       "      <td>0.085966</td>\n",
       "      <td>-0.013420</td>\n",
       "      <td>0.271450</td>\n",
       "      <td>0.008837</td>\n",
       "      <td>-0.013420</td>\n",
       "      <td>0.153134</td>\n",
       "    </tr>\n",
       "    <tr>\n",
       "      <th>mqtt.conack.val</th>\n",
       "      <td>-0.006237</td>\n",
       "      <td>-0.010344</td>\n",
       "      <td>1.000000</td>\n",
       "      <td>-0.006589</td>\n",
       "      <td>-0.004325</td>\n",
       "      <td>-0.004331</td>\n",
       "      <td>-0.016114</td>\n",
       "      <td>-0.003661</td>\n",
       "      <td>-0.031773</td>\n",
       "      <td>-0.034952</td>\n",
       "      <td>-0.001580</td>\n",
       "      <td>-0.006589</td>\n",
       "      <td>-0.029208</td>\n",
       "      <td>-0.001259</td>\n",
       "      <td>-0.006589</td>\n",
       "      <td>0.065829</td>\n",
       "    </tr>\n",
       "    <tr>\n",
       "      <th>mqtt.conflag.cleansess</th>\n",
       "      <td>-0.009574</td>\n",
       "      <td>-0.013420</td>\n",
       "      <td>-0.006589</td>\n",
       "      <td>1.000000</td>\n",
       "      <td>0.656374</td>\n",
       "      <td>0.657300</td>\n",
       "      <td>-0.024498</td>\n",
       "      <td>0.555609</td>\n",
       "      <td>0.001759</td>\n",
       "      <td>-0.053137</td>\n",
       "      <td>-0.056412</td>\n",
       "      <td>1.000000</td>\n",
       "      <td>-0.044405</td>\n",
       "      <td>-0.001914</td>\n",
       "      <td>1.000000</td>\n",
       "      <td>0.100080</td>\n",
       "    </tr>\n",
       "    <tr>\n",
       "      <th>mqtt.conflag.passwd</th>\n",
       "      <td>-0.006284</td>\n",
       "      <td>-0.008602</td>\n",
       "      <td>-0.004325</td>\n",
       "      <td>0.656374</td>\n",
       "      <td>1.000000</td>\n",
       "      <td>0.998590</td>\n",
       "      <td>-0.016080</td>\n",
       "      <td>-0.002566</td>\n",
       "      <td>-0.005277</td>\n",
       "      <td>-0.034878</td>\n",
       "      <td>-0.037027</td>\n",
       "      <td>0.656374</td>\n",
       "      <td>-0.029146</td>\n",
       "      <td>-0.001256</td>\n",
       "      <td>0.656374</td>\n",
       "      <td>0.065690</td>\n",
       "    </tr>\n",
       "    <tr>\n",
       "      <th>mqtt.conflag.uname</th>\n",
       "      <td>-0.006293</td>\n",
       "      <td>-0.008615</td>\n",
       "      <td>-0.004331</td>\n",
       "      <td>0.657300</td>\n",
       "      <td>0.998590</td>\n",
       "      <td>1.000000</td>\n",
       "      <td>-0.016102</td>\n",
       "      <td>-0.002569</td>\n",
       "      <td>-0.005299</td>\n",
       "      <td>-0.034927</td>\n",
       "      <td>-0.037080</td>\n",
       "      <td>0.657300</td>\n",
       "      <td>-0.029188</td>\n",
       "      <td>-0.001258</td>\n",
       "      <td>0.657300</td>\n",
       "      <td>0.065783</td>\n",
       "    </tr>\n",
       "    <tr>\n",
       "      <th>mqtt.dupflag</th>\n",
       "      <td>-0.018793</td>\n",
       "      <td>0.159563</td>\n",
       "      <td>-0.016114</td>\n",
       "      <td>-0.024498</td>\n",
       "      <td>-0.016080</td>\n",
       "      <td>-0.016102</td>\n",
       "      <td>1.000000</td>\n",
       "      <td>-0.013611</td>\n",
       "      <td>0.545516</td>\n",
       "      <td>0.388063</td>\n",
       "      <td>0.126216</td>\n",
       "      <td>-0.024498</td>\n",
       "      <td>0.551688</td>\n",
       "      <td>-0.004681</td>\n",
       "      <td>-0.024498</td>\n",
       "      <td>0.244767</td>\n",
       "    </tr>\n",
       "    <tr>\n",
       "      <th>mqtt.kalive</th>\n",
       "      <td>-0.005319</td>\n",
       "      <td>-0.008798</td>\n",
       "      <td>-0.003661</td>\n",
       "      <td>0.555609</td>\n",
       "      <td>-0.002566</td>\n",
       "      <td>-0.002569</td>\n",
       "      <td>-0.013611</td>\n",
       "      <td>1.000000</td>\n",
       "      <td>-0.001531</td>\n",
       "      <td>-0.029524</td>\n",
       "      <td>-0.031343</td>\n",
       "      <td>0.555609</td>\n",
       "      <td>-0.024672</td>\n",
       "      <td>-0.001063</td>\n",
       "      <td>0.555609</td>\n",
       "      <td>0.055605</td>\n",
       "    </tr>\n",
       "    <tr>\n",
       "      <th>mqtt.len</th>\n",
       "      <td>-0.036893</td>\n",
       "      <td>0.274388</td>\n",
       "      <td>-0.031773</td>\n",
       "      <td>0.001759</td>\n",
       "      <td>-0.005277</td>\n",
       "      <td>-0.005299</td>\n",
       "      <td>0.545516</td>\n",
       "      <td>-0.001531</td>\n",
       "      <td>1.000000</td>\n",
       "      <td>0.595785</td>\n",
       "      <td>0.261949</td>\n",
       "      <td>0.001759</td>\n",
       "      <td>0.988156</td>\n",
       "      <td>0.002314</td>\n",
       "      <td>0.001759</td>\n",
       "      <td>0.409264</td>\n",
       "    </tr>\n",
       "    <tr>\n",
       "      <th>mqtt.msgid</th>\n",
       "      <td>-0.048444</td>\n",
       "      <td>0.167136</td>\n",
       "      <td>-0.034952</td>\n",
       "      <td>-0.053137</td>\n",
       "      <td>-0.034878</td>\n",
       "      <td>-0.034927</td>\n",
       "      <td>0.388063</td>\n",
       "      <td>-0.029524</td>\n",
       "      <td>0.595785</td>\n",
       "      <td>1.000000</td>\n",
       "      <td>0.390695</td>\n",
       "      <td>-0.053137</td>\n",
       "      <td>0.612174</td>\n",
       "      <td>-0.010154</td>\n",
       "      <td>-0.053137</td>\n",
       "      <td>0.530914</td>\n",
       "    </tr>\n",
       "    <tr>\n",
       "      <th>mqtt.msgtype</th>\n",
       "      <td>0.282967</td>\n",
       "      <td>0.085966</td>\n",
       "      <td>-0.001580</td>\n",
       "      <td>-0.056412</td>\n",
       "      <td>-0.037027</td>\n",
       "      <td>-0.037080</td>\n",
       "      <td>0.126216</td>\n",
       "      <td>-0.031343</td>\n",
       "      <td>0.261949</td>\n",
       "      <td>0.390695</td>\n",
       "      <td>1.000000</td>\n",
       "      <td>-0.056412</td>\n",
       "      <td>0.228781</td>\n",
       "      <td>0.009862</td>\n",
       "      <td>-0.056412</td>\n",
       "      <td>-0.004340</td>\n",
       "    </tr>\n",
       "    <tr>\n",
       "      <th>mqtt.proto_len</th>\n",
       "      <td>-0.009574</td>\n",
       "      <td>-0.013420</td>\n",
       "      <td>-0.006589</td>\n",
       "      <td>1.000000</td>\n",
       "      <td>0.656374</td>\n",
       "      <td>0.657300</td>\n",
       "      <td>-0.024498</td>\n",
       "      <td>0.555609</td>\n",
       "      <td>0.001759</td>\n",
       "      <td>-0.053137</td>\n",
       "      <td>-0.056412</td>\n",
       "      <td>1.000000</td>\n",
       "      <td>-0.044405</td>\n",
       "      <td>-0.001914</td>\n",
       "      <td>1.000000</td>\n",
       "      <td>0.100080</td>\n",
       "    </tr>\n",
       "    <tr>\n",
       "      <th>mqtt.qos</th>\n",
       "      <td>-0.038094</td>\n",
       "      <td>0.271450</td>\n",
       "      <td>-0.029208</td>\n",
       "      <td>-0.044405</td>\n",
       "      <td>-0.029146</td>\n",
       "      <td>-0.029188</td>\n",
       "      <td>0.551688</td>\n",
       "      <td>-0.024672</td>\n",
       "      <td>0.988156</td>\n",
       "      <td>0.612174</td>\n",
       "      <td>0.228781</td>\n",
       "      <td>-0.044405</td>\n",
       "      <td>1.000000</td>\n",
       "      <td>-0.008485</td>\n",
       "      <td>-0.044405</td>\n",
       "      <td>0.443668</td>\n",
       "    </tr>\n",
       "    <tr>\n",
       "      <th>mqtt.retain</th>\n",
       "      <td>-0.001821</td>\n",
       "      <td>0.008837</td>\n",
       "      <td>-0.001259</td>\n",
       "      <td>-0.001914</td>\n",
       "      <td>-0.001256</td>\n",
       "      <td>-0.001258</td>\n",
       "      <td>-0.004681</td>\n",
       "      <td>-0.001063</td>\n",
       "      <td>0.002314</td>\n",
       "      <td>-0.010154</td>\n",
       "      <td>0.009862</td>\n",
       "      <td>-0.001914</td>\n",
       "      <td>-0.008485</td>\n",
       "      <td>1.000000</td>\n",
       "      <td>-0.001914</td>\n",
       "      <td>0.019124</td>\n",
       "    </tr>\n",
       "    <tr>\n",
       "      <th>mqtt.ver</th>\n",
       "      <td>-0.009574</td>\n",
       "      <td>-0.013420</td>\n",
       "      <td>-0.006589</td>\n",
       "      <td>1.000000</td>\n",
       "      <td>0.656374</td>\n",
       "      <td>0.657300</td>\n",
       "      <td>-0.024498</td>\n",
       "      <td>0.555609</td>\n",
       "      <td>0.001759</td>\n",
       "      <td>-0.053137</td>\n",
       "      <td>-0.056412</td>\n",
       "      <td>1.000000</td>\n",
       "      <td>-0.044405</td>\n",
       "      <td>-0.001914</td>\n",
       "      <td>1.000000</td>\n",
       "      <td>0.100080</td>\n",
       "    </tr>\n",
       "    <tr>\n",
       "      <th>target</th>\n",
       "      <td>-0.091051</td>\n",
       "      <td>0.153134</td>\n",
       "      <td>0.065829</td>\n",
       "      <td>0.100080</td>\n",
       "      <td>0.065690</td>\n",
       "      <td>0.065783</td>\n",
       "      <td>0.244767</td>\n",
       "      <td>0.055605</td>\n",
       "      <td>0.409264</td>\n",
       "      <td>0.530914</td>\n",
       "      <td>-0.004340</td>\n",
       "      <td>0.100080</td>\n",
       "      <td>0.443668</td>\n",
       "      <td>0.019124</td>\n",
       "      <td>0.100080</td>\n",
       "      <td>1.000000</td>\n",
       "    </tr>\n",
       "  </tbody>\n",
       "</table>\n",
       "</div>"
      ],
      "text/plain": [
       "                        tcp.time_delta   tcp.len  mqtt.conack.val  \\\n",
       "tcp.time_delta                1.000000 -0.006839        -0.006237   \n",
       "tcp.len                      -0.006839  1.000000        -0.010344   \n",
       "mqtt.conack.val              -0.006237 -0.010344         1.000000   \n",
       "mqtt.conflag.cleansess       -0.009574 -0.013420        -0.006589   \n",
       "mqtt.conflag.passwd          -0.006284 -0.008602        -0.004325   \n",
       "mqtt.conflag.uname           -0.006293 -0.008615        -0.004331   \n",
       "mqtt.dupflag                 -0.018793  0.159563        -0.016114   \n",
       "mqtt.kalive                  -0.005319 -0.008798        -0.003661   \n",
       "mqtt.len                     -0.036893  0.274388        -0.031773   \n",
       "mqtt.msgid                   -0.048444  0.167136        -0.034952   \n",
       "mqtt.msgtype                  0.282967  0.085966        -0.001580   \n",
       "mqtt.proto_len               -0.009574 -0.013420        -0.006589   \n",
       "mqtt.qos                     -0.038094  0.271450        -0.029208   \n",
       "mqtt.retain                  -0.001821  0.008837        -0.001259   \n",
       "mqtt.ver                     -0.009574 -0.013420        -0.006589   \n",
       "target                       -0.091051  0.153134         0.065829   \n",
       "\n",
       "                        mqtt.conflag.cleansess  mqtt.conflag.passwd  \\\n",
       "tcp.time_delta                       -0.009574            -0.006284   \n",
       "tcp.len                              -0.013420            -0.008602   \n",
       "mqtt.conack.val                      -0.006589            -0.004325   \n",
       "mqtt.conflag.cleansess                1.000000             0.656374   \n",
       "mqtt.conflag.passwd                   0.656374             1.000000   \n",
       "mqtt.conflag.uname                    0.657300             0.998590   \n",
       "mqtt.dupflag                         -0.024498            -0.016080   \n",
       "mqtt.kalive                           0.555609            -0.002566   \n",
       "mqtt.len                              0.001759            -0.005277   \n",
       "mqtt.msgid                           -0.053137            -0.034878   \n",
       "mqtt.msgtype                         -0.056412            -0.037027   \n",
       "mqtt.proto_len                        1.000000             0.656374   \n",
       "mqtt.qos                             -0.044405            -0.029146   \n",
       "mqtt.retain                          -0.001914            -0.001256   \n",
       "mqtt.ver                              1.000000             0.656374   \n",
       "target                                0.100080             0.065690   \n",
       "\n",
       "                        mqtt.conflag.uname  mqtt.dupflag  mqtt.kalive  \\\n",
       "tcp.time_delta                   -0.006293     -0.018793    -0.005319   \n",
       "tcp.len                          -0.008615      0.159563    -0.008798   \n",
       "mqtt.conack.val                  -0.004331     -0.016114    -0.003661   \n",
       "mqtt.conflag.cleansess            0.657300     -0.024498     0.555609   \n",
       "mqtt.conflag.passwd               0.998590     -0.016080    -0.002566   \n",
       "mqtt.conflag.uname                1.000000     -0.016102    -0.002569   \n",
       "mqtt.dupflag                     -0.016102      1.000000    -0.013611   \n",
       "mqtt.kalive                      -0.002569     -0.013611     1.000000   \n",
       "mqtt.len                         -0.005299      0.545516    -0.001531   \n",
       "mqtt.msgid                       -0.034927      0.388063    -0.029524   \n",
       "mqtt.msgtype                     -0.037080      0.126216    -0.031343   \n",
       "mqtt.proto_len                    0.657300     -0.024498     0.555609   \n",
       "mqtt.qos                         -0.029188      0.551688    -0.024672   \n",
       "mqtt.retain                      -0.001258     -0.004681    -0.001063   \n",
       "mqtt.ver                          0.657300     -0.024498     0.555609   \n",
       "target                            0.065783      0.244767     0.055605   \n",
       "\n",
       "                        mqtt.len  mqtt.msgid  mqtt.msgtype  mqtt.proto_len  \\\n",
       "tcp.time_delta         -0.036893   -0.048444      0.282967       -0.009574   \n",
       "tcp.len                 0.274388    0.167136      0.085966       -0.013420   \n",
       "mqtt.conack.val        -0.031773   -0.034952     -0.001580       -0.006589   \n",
       "mqtt.conflag.cleansess  0.001759   -0.053137     -0.056412        1.000000   \n",
       "mqtt.conflag.passwd    -0.005277   -0.034878     -0.037027        0.656374   \n",
       "mqtt.conflag.uname     -0.005299   -0.034927     -0.037080        0.657300   \n",
       "mqtt.dupflag            0.545516    0.388063      0.126216       -0.024498   \n",
       "mqtt.kalive            -0.001531   -0.029524     -0.031343        0.555609   \n",
       "mqtt.len                1.000000    0.595785      0.261949        0.001759   \n",
       "mqtt.msgid              0.595785    1.000000      0.390695       -0.053137   \n",
       "mqtt.msgtype            0.261949    0.390695      1.000000       -0.056412   \n",
       "mqtt.proto_len          0.001759   -0.053137     -0.056412        1.000000   \n",
       "mqtt.qos                0.988156    0.612174      0.228781       -0.044405   \n",
       "mqtt.retain             0.002314   -0.010154      0.009862       -0.001914   \n",
       "mqtt.ver                0.001759   -0.053137     -0.056412        1.000000   \n",
       "target                  0.409264    0.530914     -0.004340        0.100080   \n",
       "\n",
       "                        mqtt.qos  mqtt.retain  mqtt.ver    target  \n",
       "tcp.time_delta         -0.038094    -0.001821 -0.009574 -0.091051  \n",
       "tcp.len                 0.271450     0.008837 -0.013420  0.153134  \n",
       "mqtt.conack.val        -0.029208    -0.001259 -0.006589  0.065829  \n",
       "mqtt.conflag.cleansess -0.044405    -0.001914  1.000000  0.100080  \n",
       "mqtt.conflag.passwd    -0.029146    -0.001256  0.656374  0.065690  \n",
       "mqtt.conflag.uname     -0.029188    -0.001258  0.657300  0.065783  \n",
       "mqtt.dupflag            0.551688    -0.004681 -0.024498  0.244767  \n",
       "mqtt.kalive            -0.024672    -0.001063  0.555609  0.055605  \n",
       "mqtt.len                0.988156     0.002314  0.001759  0.409264  \n",
       "mqtt.msgid              0.612174    -0.010154 -0.053137  0.530914  \n",
       "mqtt.msgtype            0.228781     0.009862 -0.056412 -0.004340  \n",
       "mqtt.proto_len         -0.044405    -0.001914  1.000000  0.100080  \n",
       "mqtt.qos                1.000000    -0.008485 -0.044405  0.443668  \n",
       "mqtt.retain            -0.008485     1.000000 -0.001914  0.019124  \n",
       "mqtt.ver               -0.044405    -0.001914  1.000000  0.100080  \n",
       "target                  0.443668     0.019124  0.100080  1.000000  "
      ]
     },
     "execution_count": 186,
     "metadata": {},
     "output_type": "execute_result"
    }
   ],
   "source": [
    "correlation_matrix"
   ]
  },
  {
   "cell_type": "code",
   "execution_count": null,
   "id": "a0488175",
   "metadata": {},
   "outputs": [],
   "source": [
    "cm = correlation_matrix"
   ]
  },
  {
   "cell_type": "code",
   "execution_count": null,
   "id": "3986beb9",
   "metadata": {},
   "outputs": [],
   "source": [
    "cm"
   ]
  },
  {
   "cell_type": "code",
   "execution_count": null,
   "id": "7fc3d392",
   "metadata": {},
   "outputs": [],
   "source": [
    "# plt.figure(figsize=(10, 8))\n",
    "# sns.heatmap(correlation_matrix, annot=True, cmap='coolwarm')\n",
    "# plt.title('Correlation Matrix')\n",
    "# plt.show()"
   ]
  },
  {
   "cell_type": "code",
   "execution_count": 188,
   "id": "f4130a38",
   "metadata": {},
   "outputs": [],
   "source": [
    "single_feature_correlation = correlation_matrix['target']"
   ]
  },
  {
   "cell_type": "code",
   "execution_count": 189,
   "id": "111baebc",
   "metadata": {},
   "outputs": [
    {
     "data": {
      "text/plain": [
       "tcp.time_delta           -0.091051\n",
       "tcp.len                   0.153134\n",
       "mqtt.conack.val           0.065829\n",
       "mqtt.conflag.cleansess    0.100080\n",
       "mqtt.conflag.passwd       0.065690\n",
       "mqtt.conflag.uname        0.065783\n",
       "mqtt.dupflag              0.244767\n",
       "mqtt.kalive               0.055605\n",
       "mqtt.len                  0.409264\n",
       "mqtt.msgid                0.530914\n",
       "mqtt.msgtype             -0.004340\n",
       "mqtt.proto_len            0.100080\n",
       "mqtt.qos                  0.443668\n",
       "mqtt.retain               0.019124\n",
       "mqtt.ver                  0.100080\n",
       "target                    1.000000\n",
       "Name: target, dtype: float64"
      ]
     },
     "execution_count": 189,
     "metadata": {},
     "output_type": "execute_result"
    }
   ],
   "source": [
    "single_feature_correlation"
   ]
  },
  {
   "cell_type": "code",
   "execution_count": null,
   "id": "c5b7dc4c",
   "metadata": {},
   "outputs": [],
   "source": [
    "# Select NaN values\n",
    "nan_values = single_feature_correlation[single_feature_correlation.isnull()]"
   ]
  },
  {
   "cell_type": "code",
   "execution_count": null,
   "id": "9e7842d4",
   "metadata": {},
   "outputs": [],
   "source": [
    "nan_values"
   ]
  },
  {
   "cell_type": "code",
   "execution_count": null,
   "id": "80eafa18",
   "metadata": {},
   "outputs": [],
   "source": [
    "X['Flow_Byts/s']"
   ]
  }
 ],
 "metadata": {
  "kernelspec": {
   "display_name": "Python 3 (ipykernel)",
   "language": "python",
   "name": "python3"
  },
  "language_info": {
   "codemirror_mode": {
    "name": "ipython",
    "version": 3
   },
   "file_extension": ".py",
   "mimetype": "text/x-python",
   "name": "python",
   "nbconvert_exporter": "python",
   "pygments_lexer": "ipython3",
   "version": "3.9.12"
  }
 },
 "nbformat": 4,
 "nbformat_minor": 5
}
