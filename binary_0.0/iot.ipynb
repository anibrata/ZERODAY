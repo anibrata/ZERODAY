{
 "cells": [
  {
   "cell_type": "code",
   "execution_count": null,
   "id": "FDSn5NJ0-2CI",
   "metadata": {
    "id": "FDSn5NJ0-2CI"
   },
   "outputs": [],
   "source": [
    "# import sys\n",
    "# sys.path.append('/content/drive/MyDrive/path/Colab Notebooks/binary/qboost')"
   ]
  },
  {
   "cell_type": "code",
   "execution_count": 61,
   "id": "2f5f6d15",
   "metadata": {
    "executionInfo": {
     "elapsed": 1051,
     "status": "ok",
     "timestamp": 1688847501502,
     "user": {
      "displayName": "Anibrata Pal",
      "userId": "16454467692217386609"
     },
     "user_tz": -330
    },
    "id": "2f5f6d15"
   },
   "outputs": [],
   "source": [
    "##################################################################\n",
    "# Import libraries\n",
    "#################################################################\n",
    "import random\n",
    "import string\n",
    "\n",
    "# Modelling\n",
    "from sklearn.ensemble import RandomForestClassifier, AdaBoostClassifier, ExtraTreesClassifier\n",
    "from sklearn.metrics import accuracy_score, confusion_matrix, precision_score, recall_score, ConfusionMatrixDisplay\n",
    "from sklearn.model_selection import RandomizedSearchCV, train_test_split\n",
    "from scipy.stats import randint\n",
    "\n",
    "# Tree Visualisation\n",
    "from sklearn.tree import export_graphviz\n",
    "from IPython.display import Image\n",
    "# import graphviz\n",
    "\n",
    "import matplotlib.pyplot as plt\n",
    "import numpy as np\n",
    "import pandas as pd\n",
    "from pathlib import Path\n",
    "import os\n",
    "import re\n",
    "import sys\n",
    "from sklearn.svm import SVC\n",
    "from sklearn.cluster import SpectralClustering\n",
    "from sklearn.metrics import normalized_mutual_info_score\n",
    "from sklearn.decomposition import PCA\n",
    "from sklearn.preprocessing import MinMaxScaler\n",
    "from qboost.qboost import QBoostClassifier\n",
    "from dwave.system.samplers import DWaveSampler\n",
    "import time\n",
    "from sklearn.pipeline import make_pipeline\n",
    "from sklearn.preprocessing import StandardScaler\n",
    "from dwave.system.composites import EmbeddingComposite\n",
    "import time\n",
    "from sklearn.pipeline import make_pipeline\n",
    "from sklearn.preprocessing import StandardScaler\n",
    "from datetime import datetime\n",
    "from sklearn.metrics import classification_report\n",
    "from sklearn import metrics\n",
    "\n",
    "# import psycopg2\n",
    "# from psycopg2.extras import RealDictCursor\n",
    "from imblearn.under_sampling import RandomUnderSampler\n",
    "from timeit import default_timer as timer\n",
    "from datetime import *\n",
    "from collections import Counter\n",
    "#from connect import connect\n",
    "\n",
    "# Garbage collection\n",
    "import gc\n",
    "\n",
    "from sklearn.model_selection import cross_val_score\n",
    "from sklearn.model_selection import RepeatedStratifiedKFold\n",
    "from sklearn.tree import DecisionTreeClassifier\n",
    "from imblearn.pipeline import Pipeline\n",
    "from imblearn.over_sampling import SMOTE\n",
    "from imblearn.under_sampling import RandomUnderSampler\n",
    "from numpy import mean\n",
    "\n",
    "from sklearn.model_selection import KFold\n",
    "from sklearn.metrics import precision_score, recall_score, f1_score\n",
    "from collections import Counter\n",
    "\n",
    "\n",
    "#################################################################\n",
    "# Import libraries\n",
    "#################################################################\n",
    "import random\n",
    "import string\n",
    "\n",
    "# Modelling\n",
    "from sklearn.ensemble import RandomForestClassifier, AdaBoostClassifier, ExtraTreesClassifier\n",
    "from sklearn.metrics import accuracy_score, confusion_matrix, precision_score, recall_score, ConfusionMatrixDisplay\n",
    "from sklearn.model_selection import RandomizedSearchCV, train_test_split\n",
    "from scipy.stats import randint\n",
    "\n",
    "# Tree Visualisation\n",
    "from sklearn.tree import export_graphviz\n",
    "from IPython.display import Image\n",
    "from IPython.display import clear_output\n",
    "# import graphviz\n",
    "\n",
    "import matplotlib.pyplot as plt\n",
    "import numpy as np\n",
    "import pandas as pd\n",
    "from pathlib import Path\n",
    "import os\n",
    "import re\n",
    "import sys\n",
    "from sklearn.svm import SVC\n",
    "from sklearn.cluster import SpectralClustering\n",
    "from sklearn.metrics import normalized_mutual_info_score\n",
    "from sklearn.decomposition import PCA\n",
    "from sklearn.preprocessing import MinMaxScaler\n",
    "#from dwave.system.samplers import DWaveSampler\n",
    "from sklearn.pipeline import make_pipeline\n",
    "from sklearn.preprocessing import StandardScaler\n",
    "#from dwave.system.composites import EmbeddingComposite\n",
    "import time\n",
    "from sklearn.pipeline import make_pipeline\n",
    "from sklearn.preprocessing import StandardScaler\n",
    "from datetime import datetime\n",
    "from sklearn.metrics import classification_report\n",
    "from sklearn import metrics\n",
    "\n",
    "# import psycopg2\n",
    "# from psycopg2.extras import RealDictCursor\n",
    "from timeit import default_timer as timer\n",
    "from datetime import *\n",
    "from collections import Counter\n",
    "#from connect import connect\n",
    "\n",
    "# Garbage collection\n",
    "import gc\n",
    "\n",
    "from sklearn.model_selection import cross_val_score\n",
    "from sklearn.model_selection import RepeatedStratifiedKFold\n",
    "from sklearn.tree import DecisionTreeClassifier\n",
    "from imblearn.pipeline import Pipeline\n",
    "from imblearn.over_sampling import SMOTE\n",
    "from imblearn.under_sampling import RandomUnderSampler\n",
    "from numpy import mean\n",
    "\n",
    "from sklearn.model_selection import KFold\n",
    "from sklearn.metrics import precision_score, recall_score, f1_score\n",
    "from collections import Counter\n"
   ]
  },
  {
   "cell_type": "code",
   "execution_count": 2,
   "id": "26b4c2a1",
   "metadata": {
    "executionInfo": {
     "elapsed": 713,
     "status": "ok",
     "timestamp": 1688847502201,
     "user": {
      "displayName": "Anibrata Pal",
      "userId": "16454467692217386609"
     },
     "user_tz": -330
    },
    "id": "26b4c2a1"
   },
   "outputs": [],
   "source": [
    "# Import Qiskit libraries\n",
    "from qiskit import QuantumCircuit\n",
    "from qiskit.algorithms.optimizers import COBYLA, L_BFGS_B\n",
    "from qiskit.circuit import Parameter\n",
    "from qiskit.circuit.library import RealAmplitudes, ZZFeatureMap\n",
    "from qiskit.utils import algorithm_globals\n",
    "from qiskit_machine_learning.algorithms.classifiers import NeuralNetworkClassifier, VQC\n",
    "from qiskit_machine_learning.algorithms.regressors import NeuralNetworkRegressor, VQR\n",
    "from qiskit_machine_learning.neural_networks import SamplerQNN, EstimatorQNN\n",
    "from qiskit.circuit.library import EfficientSU2\n",
    "\n",
    "from qiskit.circuit.library import ZFeatureMap\n",
    "from qiskit.utils import algorithm_globals\n",
    "from qiskit_machine_learning.kernels import FidelityQuantumKernel\n",
    "from qiskit_machine_learning.algorithms import PegasosQSVC"
   ]
  },
  {
   "cell_type": "code",
   "execution_count": 2,
   "id": "18cbc48f",
   "metadata": {
    "colab": {
     "base_uri": "https://localhost:8080/"
    },
    "executionInfo": {
     "elapsed": 20774,
     "status": "ok",
     "timestamp": 1688847488039,
     "user": {
      "displayName": "Anibrata Pal",
      "userId": "16454467692217386609"
     },
     "user_tz": -330
    },
    "id": "18cbc48f",
    "outputId": "22b16e04-7200-4333-fb97-8cd40abdd819"
   },
   "outputs": [
    {
     "name": "stdout",
     "output_type": "stream",
     "text": [
      "Collecting qiskit\n",
      "  Downloading qiskit-0.43.2.tar.gz (9.1 kB)\n",
      "  Installing build dependencies ... \u001b[?25l\u001b[?25hdone\n",
      "  Getting requirements to build wheel ... \u001b[?25l\u001b[?25hdone\n",
      "  Installing backend dependencies ... \u001b[?25l\u001b[?25hdone\n",
      "  Preparing metadata (pyproject.toml) ... \u001b[?25l\u001b[?25hdone\n",
      "Collecting qiskit-terra==0.24.1 (from qiskit)\n",
      "  Downloading qiskit_terra-0.24.1-cp310-cp310-manylinux_2_17_x86_64.manylinux2014_x86_64.whl (5.9 MB)\n",
      "\u001b[2K     \u001b[90m━━━━━━━━━━━━━━━━━━━━━━━━━━━━━━━━━━━━━━━━\u001b[0m \u001b[32m5.9/5.9 MB\u001b[0m \u001b[31m103.7 MB/s\u001b[0m eta \u001b[36m0:00:00\u001b[0m\n",
      "\u001b[?25hCollecting qiskit-aer==0.12.1 (from qiskit)\n",
      "  Downloading qiskit_aer-0.12.1-cp310-cp310-manylinux_2_17_x86_64.manylinux2014_x86_64.whl (12.8 MB)\n",
      "\u001b[2K     \u001b[90m━━━━━━━━━━━━━━━━━━━━━━━━━━━━━━━━━━━━━━━━\u001b[0m \u001b[32m12.8/12.8 MB\u001b[0m \u001b[31m84.9 MB/s\u001b[0m eta \u001b[36m0:00:00\u001b[0m\n",
      "\u001b[?25hCollecting qiskit-ibmq-provider==0.20.2 (from qiskit)\n",
      "  Downloading qiskit_ibmq_provider-0.20.2-py3-none-any.whl (241 kB)\n",
      "\u001b[2K     \u001b[90m━━━━━━━━━━━━━━━━━━━━━━━━━━━━━━━━━━━━━━\u001b[0m \u001b[32m241.5/241.5 kB\u001b[0m \u001b[31m33.6 MB/s\u001b[0m eta \u001b[36m0:00:00\u001b[0m\n",
      "\u001b[?25hRequirement already satisfied: numpy>=1.16.3 in /usr/local/lib/python3.10/dist-packages (from qiskit-aer==0.12.1->qiskit) (1.22.4)\n",
      "Requirement already satisfied: scipy>=1.0 in /usr/local/lib/python3.10/dist-packages (from qiskit-aer==0.12.1->qiskit) (1.10.1)\n",
      "Requirement already satisfied: requests>=2.19 in /usr/local/lib/python3.10/dist-packages (from qiskit-ibmq-provider==0.20.2->qiskit) (2.27.1)\n",
      "Collecting requests-ntlm<=1.1.0 (from qiskit-ibmq-provider==0.20.2->qiskit)\n",
      "  Downloading requests_ntlm-1.1.0-py2.py3-none-any.whl (5.7 kB)\n",
      "Requirement already satisfied: urllib3>=1.21.1 in /usr/local/lib/python3.10/dist-packages (from qiskit-ibmq-provider==0.20.2->qiskit) (1.26.16)\n",
      "Requirement already satisfied: python-dateutil>=2.8.0 in /usr/local/lib/python3.10/dist-packages (from qiskit-ibmq-provider==0.20.2->qiskit) (2.8.2)\n",
      "Requirement already satisfied: websocket-client>=1.5.1 in /usr/local/lib/python3.10/dist-packages (from qiskit-ibmq-provider==0.20.2->qiskit) (1.6.0)\n",
      "Collecting websockets>=10.0 (from qiskit-ibmq-provider==0.20.2->qiskit)\n",
      "  Downloading websockets-11.0.3-cp310-cp310-manylinux_2_5_x86_64.manylinux1_x86_64.manylinux_2_17_x86_64.manylinux2014_x86_64.whl (129 kB)\n",
      "\u001b[2K     \u001b[90m━━━━━━━━━━━━━━━━━━━━━━━━━━━━━━━━━━━━━━\u001b[0m \u001b[32m129.9/129.9 kB\u001b[0m \u001b[31m18.4 MB/s\u001b[0m eta \u001b[36m0:00:00\u001b[0m\n",
      "\u001b[?25hCollecting rustworkx>=0.12.0 (from qiskit-terra==0.24.1->qiskit)\n",
      "  Downloading rustworkx-0.13.0-cp310-cp310-manylinux_2_17_x86_64.manylinux2014_x86_64.whl (1.9 MB)\n",
      "\u001b[2K     \u001b[90m━━━━━━━━━━━━━━━━━━━━━━━━━━━━━━━━━━━━━━━━\u001b[0m \u001b[32m1.9/1.9 MB\u001b[0m \u001b[31m98.6 MB/s\u001b[0m eta \u001b[36m0:00:00\u001b[0m\n",
      "\u001b[?25hCollecting ply>=3.10 (from qiskit-terra==0.24.1->qiskit)\n",
      "  Downloading ply-3.11-py2.py3-none-any.whl (49 kB)\n",
      "\u001b[2K     \u001b[90m━━━━━━━━━━━━━━━━━━━━━━━━━━━━━━━━━━━━━━━━\u001b[0m \u001b[32m49.6/49.6 kB\u001b[0m \u001b[31m7.8 MB/s\u001b[0m eta \u001b[36m0:00:00\u001b[0m\n",
      "\u001b[?25hRequirement already satisfied: psutil>=5 in /usr/local/lib/python3.10/dist-packages (from qiskit-terra==0.24.1->qiskit) (5.9.5)\n",
      "Requirement already satisfied: sympy>=1.3 in /usr/local/lib/python3.10/dist-packages (from qiskit-terra==0.24.1->qiskit) (1.11.1)\n",
      "Collecting dill>=0.3 (from qiskit-terra==0.24.1->qiskit)\n",
      "  Downloading dill-0.3.6-py3-none-any.whl (110 kB)\n",
      "\u001b[2K     \u001b[90m━━━━━━━━━━━━━━━━━━━━━━━━━━━━━━━━━━━━━━\u001b[0m \u001b[32m110.5/110.5 kB\u001b[0m \u001b[31m17.2 MB/s\u001b[0m eta \u001b[36m0:00:00\u001b[0m\n",
      "\u001b[?25hCollecting stevedore>=3.0.0 (from qiskit-terra==0.24.1->qiskit)\n",
      "  Downloading stevedore-5.1.0-py3-none-any.whl (49 kB)\n",
      "\u001b[2K     \u001b[90m━━━━━━━━━━━━━━━━━━━━━━━━━━━━━━━━━━━━━━━━\u001b[0m \u001b[32m49.6/49.6 kB\u001b[0m \u001b[31m7.7 MB/s\u001b[0m eta \u001b[36m0:00:00\u001b[0m\n",
      "\u001b[?25hCollecting symengine<0.10,>=0.9 (from qiskit-terra==0.24.1->qiskit)\n",
      "  Downloading symengine-0.9.2-cp310-cp310-manylinux2010_x86_64.whl (37.5 MB)\n",
      "\u001b[2K     \u001b[90m━━━━━━━━━━━━━━━━━━━━━━━━━━━━━━━━━━━━━━━━\u001b[0m \u001b[32m37.5/37.5 MB\u001b[0m \u001b[31m48.2 MB/s\u001b[0m eta \u001b[36m0:00:00\u001b[0m\n",
      "\u001b[?25hRequirement already satisfied: six>=1.5 in /usr/local/lib/python3.10/dist-packages (from python-dateutil>=2.8.0->qiskit-ibmq-provider==0.20.2->qiskit) (1.16.0)\n",
      "Requirement already satisfied: certifi>=2017.4.17 in /usr/local/lib/python3.10/dist-packages (from requests>=2.19->qiskit-ibmq-provider==0.20.2->qiskit) (2023.5.7)\n",
      "Requirement already satisfied: charset-normalizer~=2.0.0 in /usr/local/lib/python3.10/dist-packages (from requests>=2.19->qiskit-ibmq-provider==0.20.2->qiskit) (2.0.12)\n",
      "Requirement already satisfied: idna<4,>=2.5 in /usr/local/lib/python3.10/dist-packages (from requests>=2.19->qiskit-ibmq-provider==0.20.2->qiskit) (3.4)\n",
      "Collecting ntlm-auth>=1.0.2 (from requests-ntlm<=1.1.0->qiskit-ibmq-provider==0.20.2->qiskit)\n",
      "  Downloading ntlm_auth-1.5.0-py2.py3-none-any.whl (29 kB)\n",
      "Collecting cryptography>=1.3 (from requests-ntlm<=1.1.0->qiskit-ibmq-provider==0.20.2->qiskit)\n",
      "  Downloading cryptography-41.0.1-cp37-abi3-manylinux_2_28_x86_64.whl (4.3 MB)\n",
      "\u001b[2K     \u001b[90m━━━━━━━━━━━━━━━━━━━━━━━━━━━━━━━━━━━━━━━━\u001b[0m \u001b[32m4.3/4.3 MB\u001b[0m \u001b[31m112.5 MB/s\u001b[0m eta \u001b[36m0:00:00\u001b[0m\n",
      "\u001b[?25hCollecting pbr!=2.1.0,>=2.0.0 (from stevedore>=3.0.0->qiskit-terra==0.24.1->qiskit)\n",
      "  Downloading pbr-5.11.1-py2.py3-none-any.whl (112 kB)\n",
      "\u001b[2K     \u001b[90m━━━━━━━━━━━━━━━━━━━━━━━━━━━━━━━━━━━━━━\u001b[0m \u001b[32m112.7/112.7 kB\u001b[0m \u001b[31m17.9 MB/s\u001b[0m eta \u001b[36m0:00:00\u001b[0m\n",
      "\u001b[?25hRequirement already satisfied: mpmath>=0.19 in /usr/local/lib/python3.10/dist-packages (from sympy>=1.3->qiskit-terra==0.24.1->qiskit) (1.3.0)\n",
      "Requirement already satisfied: cffi>=1.12 in /usr/local/lib/python3.10/dist-packages (from cryptography>=1.3->requests-ntlm<=1.1.0->qiskit-ibmq-provider==0.20.2->qiskit) (1.15.1)\n",
      "Requirement already satisfied: pycparser in /usr/local/lib/python3.10/dist-packages (from cffi>=1.12->cryptography>=1.3->requests-ntlm<=1.1.0->qiskit-ibmq-provider==0.20.2->qiskit) (2.21)\n",
      "Building wheels for collected packages: qiskit\n",
      "  Building wheel for qiskit (pyproject.toml) ... \u001b[?25l\u001b[?25hdone\n",
      "  Created wheel for qiskit: filename=qiskit-0.43.2-py3-none-any.whl size=7640 sha256=80c340601bbe1fd452ad9a89016590136740c3a2cd50d8f7d68acadc1b41833d\n",
      "  Stored in directory: /root/.cache/pip/wheels/d4/ad/4f/f54eb8743e54c5bab69837b842cf56a8a87ac7c57a2abf85ad\n",
      "Successfully built qiskit\n",
      "Installing collected packages: ply, websockets, symengine, rustworkx, pbr, ntlm-auth, dill, stevedore, cryptography, requests-ntlm, qiskit-terra, qiskit-ibmq-provider, qiskit-aer, qiskit\n",
      "Successfully installed cryptography-41.0.1 dill-0.3.6 ntlm-auth-1.5.0 pbr-5.11.1 ply-3.11 qiskit-0.43.2 qiskit-aer-0.12.1 qiskit-ibmq-provider-0.20.2 qiskit-terra-0.24.1 requests-ntlm-1.1.0 rustworkx-0.13.0 stevedore-5.1.0 symengine-0.9.2 websockets-11.0.3\n"
     ]
    }
   ],
   "source": [
    "!pip3 install qiskit"
   ]
  },
  {
   "cell_type": "code",
   "execution_count": 3,
   "id": "9788e190",
   "metadata": {
    "colab": {
     "base_uri": "https://localhost:8080/"
    },
    "executionInfo": {
     "elapsed": 12556,
     "status": "ok",
     "timestamp": 1688847500457,
     "user": {
      "displayName": "Anibrata Pal",
      "userId": "16454467692217386609"
     },
     "user_tz": -330
    },
    "id": "9788e190",
    "outputId": "caed9af1-f921-4ea5-c8f0-1be5f180ffe5"
   },
   "outputs": [
    {
     "name": "stdout",
     "output_type": "stream",
     "text": [
      "Collecting qiskit_machine_learning\n",
      "  Downloading qiskit_machine_learning-0.6.1-py3-none-any.whl (148 kB)\n",
      "\u001b[?25l     \u001b[90m━━━━━━━━━━━━━━━━━━━━━━━━━━━━━━━━━━━━━━━━\u001b[0m \u001b[32m0.0/148.7 kB\u001b[0m \u001b[31m?\u001b[0m eta \u001b[36m-:--:--\u001b[0m\r",
      "\u001b[2K     \u001b[90m━━━━━━━━━━━━━━━━━━━━━━━━━━━━━━━━━━━━━━━\u001b[0m \u001b[32m148.7/148.7 kB\u001b[0m \u001b[31m8.7 MB/s\u001b[0m eta \u001b[36m0:00:00\u001b[0m\n",
      "\u001b[?25hRequirement already satisfied: qiskit-terra>=0.22.2 in /usr/local/lib/python3.10/dist-packages (from qiskit_machine_learning) (0.24.1)\n",
      "Requirement already satisfied: scipy>=1.4 in /usr/local/lib/python3.10/dist-packages (from qiskit_machine_learning) (1.10.1)\n",
      "Requirement already satisfied: numpy>=1.17 in /usr/local/lib/python3.10/dist-packages (from qiskit_machine_learning) (1.22.4)\n",
      "Requirement already satisfied: psutil>=5 in /usr/local/lib/python3.10/dist-packages (from qiskit_machine_learning) (5.9.5)\n",
      "Requirement already satisfied: scikit-learn>=0.20.0 in /usr/local/lib/python3.10/dist-packages (from qiskit_machine_learning) (1.2.2)\n",
      "Collecting fastdtw (from qiskit_machine_learning)\n",
      "  Downloading fastdtw-0.3.4.tar.gz (133 kB)\n",
      "\u001b[?25l     \u001b[90m━━━━━━━━━━━━━━━━━━━━━━━━━━━━━━━━━━━━━━━━\u001b[0m \u001b[32m0.0/133.4 kB\u001b[0m \u001b[31m?\u001b[0m eta \u001b[36m-:--:--\u001b[0m\r",
      "\u001b[2K     \u001b[90m━━━━━━━━━━━━━━━━━━━━━━━━━━━━━━━━━━━━━━\u001b[0m \u001b[32m133.4/133.4 kB\u001b[0m \u001b[31m21.1 MB/s\u001b[0m eta \u001b[36m0:00:00\u001b[0m\n",
      "\u001b[?25h  Preparing metadata (setup.py) ... \u001b[?25l\u001b[?25hdone\n",
      "Requirement already satisfied: setuptools>=40.1.0 in /usr/local/lib/python3.10/dist-packages (from qiskit_machine_learning) (67.7.2)\n",
      "Requirement already satisfied: dill>=0.3.4 in /usr/local/lib/python3.10/dist-packages (from qiskit_machine_learning) (0.3.6)\n",
      "Requirement already satisfied: rustworkx>=0.12.0 in /usr/local/lib/python3.10/dist-packages (from qiskit-terra>=0.22.2->qiskit_machine_learning) (0.13.0)\n",
      "Requirement already satisfied: ply>=3.10 in /usr/local/lib/python3.10/dist-packages (from qiskit-terra>=0.22.2->qiskit_machine_learning) (3.11)\n",
      "Requirement already satisfied: sympy>=1.3 in /usr/local/lib/python3.10/dist-packages (from qiskit-terra>=0.22.2->qiskit_machine_learning) (1.11.1)\n",
      "Requirement already satisfied: python-dateutil>=2.8.0 in /usr/local/lib/python3.10/dist-packages (from qiskit-terra>=0.22.2->qiskit_machine_learning) (2.8.2)\n",
      "Requirement already satisfied: stevedore>=3.0.0 in /usr/local/lib/python3.10/dist-packages (from qiskit-terra>=0.22.2->qiskit_machine_learning) (5.1.0)\n",
      "Requirement already satisfied: symengine<0.10,>=0.9 in /usr/local/lib/python3.10/dist-packages (from qiskit-terra>=0.22.2->qiskit_machine_learning) (0.9.2)\n",
      "Requirement already satisfied: joblib>=1.1.1 in /usr/local/lib/python3.10/dist-packages (from scikit-learn>=0.20.0->qiskit_machine_learning) (1.2.0)\n",
      "Requirement already satisfied: threadpoolctl>=2.0.0 in /usr/local/lib/python3.10/dist-packages (from scikit-learn>=0.20.0->qiskit_machine_learning) (3.1.0)\n",
      "Requirement already satisfied: six>=1.5 in /usr/local/lib/python3.10/dist-packages (from python-dateutil>=2.8.0->qiskit-terra>=0.22.2->qiskit_machine_learning) (1.16.0)\n",
      "Requirement already satisfied: pbr!=2.1.0,>=2.0.0 in /usr/local/lib/python3.10/dist-packages (from stevedore>=3.0.0->qiskit-terra>=0.22.2->qiskit_machine_learning) (5.11.1)\n",
      "Requirement already satisfied: mpmath>=0.19 in /usr/local/lib/python3.10/dist-packages (from sympy>=1.3->qiskit-terra>=0.22.2->qiskit_machine_learning) (1.3.0)\n",
      "Building wheels for collected packages: fastdtw\n",
      "  Building wheel for fastdtw (setup.py) ... \u001b[?25l\u001b[?25hdone\n",
      "  Created wheel for fastdtw: filename=fastdtw-0.3.4-cp310-cp310-linux_x86_64.whl size=517928 sha256=2dfacb8228de77c4c16ab586c6563419692c8dfb49c733300edea39ead3d0c2f\n",
      "  Stored in directory: /root/.cache/pip/wheels/73/c8/f7/c25448dab74c3acf4848bc25d513c736bb93910277e1528ef4\n",
      "Successfully built fastdtw\n",
      "Installing collected packages: fastdtw, qiskit_machine_learning\n",
      "Successfully installed fastdtw-0.3.4 qiskit_machine_learning-0.6.1\n"
     ]
    }
   ],
   "source": [
    "!pip3 install qiskit_machine_learning"
   ]
  },
  {
   "cell_type": "code",
   "execution_count": 3,
   "id": "454f3fa0",
   "metadata": {
    "executionInfo": {
     "elapsed": 5,
     "status": "ok",
     "timestamp": 1688847509461,
     "user": {
      "displayName": "Anibrata Pal",
      "userId": "16454467692217386609"
     },
     "user_tz": -330
    },
    "id": "454f3fa0"
   },
   "outputs": [],
   "source": [
    "pd.set_option(\"display.max_columns\", 50)\n",
    "pd.set_option(\"display.max_rows\", 50)"
   ]
  },
  {
   "cell_type": "code",
   "execution_count": 4,
   "id": "b276142c",
   "metadata": {
    "executionInfo": {
     "elapsed": 835,
     "status": "ok",
     "timestamp": 1688847511007,
     "user": {
      "displayName": "Anibrata Pal",
      "userId": "16454467692217386609"
     },
     "user_tz": -330
    },
    "id": "b276142c"
   },
   "outputs": [],
   "source": [
    "import seaborn as sns"
   ]
  },
  {
   "cell_type": "code",
   "execution_count": 5,
   "id": "4f2d4408",
   "metadata": {
    "colab": {
     "base_uri": "https://localhost:8080/"
    },
    "executionInfo": {
     "elapsed": 9,
     "status": "ok",
     "timestamp": 1688847511009,
     "user": {
      "displayName": "Anibrata Pal",
      "userId": "16454467692217386609"
     },
     "user_tz": -330
    },
    "id": "4f2d4408",
    "outputId": "fdabefbf-dac2-4204-ea68-d130b3a4f178"
   },
   "outputs": [
    {
     "data": {
      "text/plain": [
       "0"
      ]
     },
     "execution_count": 5,
     "metadata": {},
     "output_type": "execute_result"
    }
   ],
   "source": [
    "gc.collect()"
   ]
  },
  {
   "cell_type": "code",
   "execution_count": 6,
   "id": "01b5ef42",
   "metadata": {
    "executionInfo": {
     "elapsed": 925,
     "status": "ok",
     "timestamp": 1688847512839,
     "user": {
      "displayName": "Anibrata Pal",
      "userId": "16454467692217386609"
     },
     "user_tz": -330
    },
    "id": "01b5ef42"
   },
   "outputs": [],
   "source": [
    "def loadData(path):\n",
    "    data = pd.read_csv(path)\n",
    "    # print(data)\n",
    "    return data"
   ]
  },
  {
   "cell_type": "code",
   "execution_count": 301,
   "id": "12464209",
   "metadata": {},
   "outputs": [],
   "source": [
    "def analyzeData(data):\n",
    "    #  Number of label 1's\n",
    "    zeros = data['target'].value_counts()[-1]\n",
    "    ones = data['target'].value_counts()[1]\n",
    "    print('Data analysis...')\n",
    "    print('zeros :' + str(zeros))\n",
    "    print('ones :' + str(ones))\n",
    "    print(ones/zeros)\n",
    "    return zeros, ones"
   ]
  },
  {
   "cell_type": "code",
   "execution_count": 282,
   "id": "d235d489",
   "metadata": {
    "executionInfo": {
     "elapsed": 4,
     "status": "ok",
     "timestamp": 1688847516621,
     "user": {
      "displayName": "Anibrata Pal",
      "userId": "16454467692217386609"
     },
     "user_tz": -330
    },
    "id": "d235d489"
   },
   "outputs": [],
   "source": [
    "#path = '../../../Dataset/IoT Intrusion Dataset/IoT Network Intrusion Dataset.csv'\n",
    "path = '../data/mqtt_train70_reduced.csv'\n",
    "#path = '../data/IoT_Modbus.csv'"
   ]
  },
  {
   "cell_type": "code",
   "execution_count": 283,
   "id": "4fc3f4f6",
   "metadata": {
    "executionInfo": {
     "elapsed": 4,
     "status": "ok",
     "timestamp": 1688847517495,
     "user": {
      "displayName": "Anibrata Pal",
      "userId": "16454467692217386609"
     },
     "user_tz": -330
    },
    "id": "4fc3f4f6"
   },
   "outputs": [],
   "source": [
    "tpath = '../data/mqtt_test30_reduced.csv'"
   ]
  },
  {
   "cell_type": "code",
   "execution_count": 284,
   "id": "d136d8f9",
   "metadata": {
    "executionInfo": {
     "elapsed": 2232,
     "status": "ok",
     "timestamp": 1688847520473,
     "user": {
      "displayName": "Anibrata Pal",
      "userId": "16454467692217386609"
     },
     "user_tz": -330
    },
    "id": "d136d8f9"
   },
   "outputs": [],
   "source": [
    "dataframe =  loadData(path)"
   ]
  },
  {
   "cell_type": "code",
   "execution_count": 285,
   "id": "fec732a7",
   "metadata": {
    "executionInfo": {
     "elapsed": 1491,
     "status": "ok",
     "timestamp": 1688847521960,
     "user": {
      "displayName": "Anibrata Pal",
      "userId": "16454467692217386609"
     },
     "user_tz": -330
    },
    "id": "fec732a7"
   },
   "outputs": [],
   "source": [
    "df1 = loadData(tpath)"
   ]
  },
  {
   "cell_type": "code",
   "execution_count": 11,
   "id": "d7e924b5",
   "metadata": {
    "executionInfo": {
     "elapsed": 12,
     "status": "ok",
     "timestamp": 1688847521963,
     "user": {
      "displayName": "Anibrata Pal",
      "userId": "16454467692217386609"
     },
     "user_tz": -330
    },
    "id": "d7e924b5"
   },
   "outputs": [],
   "source": [
    "#df = dataframe"
   ]
  },
  {
   "cell_type": "code",
   "execution_count": 336,
   "id": "481ff21f",
   "metadata": {
    "executionInfo": {
     "elapsed": 10,
     "status": "ok",
     "timestamp": 1688847521964,
     "user": {
      "displayName": "Anibrata Pal",
      "userId": "16454467692217386609"
     },
     "user_tz": -330
    },
    "id": "481ff21f"
   },
   "outputs": [],
   "source": [
    "df = pd.concat([dataframe, df1])"
   ]
  },
  {
   "cell_type": "markdown",
   "id": "0970df73",
   "metadata": {
    "id": "0970df73"
   },
   "source": [
    "### Data cleaning\n",
    "#### 1. Remove all columns which have more than 75% data missing. Check against NaN values.\n",
    "#### 2. Remove all columns which have (-)ve correlation with the target value\n",
    "#### 3. Remove all columns which have 0 correlation\n",
    "#### 4. Remove all columns which have corellation at the 1000th position"
   ]
  },
  {
   "cell_type": "markdown",
   "id": "8afd8039",
   "metadata": {
    "id": "8afd8039"
   },
   "source": [
    "#### Find non-numeric features"
   ]
  },
  {
   "cell_type": "code",
   "execution_count": 337,
   "id": "dbc3c252",
   "metadata": {
    "colab": {
     "base_uri": "https://localhost:8080/",
     "height": 270
    },
    "executionInfo": {
     "elapsed": 7,
     "status": "ok",
     "timestamp": 1688847529953,
     "user": {
      "displayName": "Anibrata Pal",
      "userId": "16454467692217386609"
     },
     "user_tz": -330
    },
    "id": "dbc3c252",
    "outputId": "83f2c996-5c7d-4f69-82f0-8d49a892a2a2"
   },
   "outputs": [
    {
     "data": {
      "text/html": [
       "<div>\n",
       "<style scoped>\n",
       "    .dataframe tbody tr th:only-of-type {\n",
       "        vertical-align: middle;\n",
       "    }\n",
       "\n",
       "    .dataframe tbody tr th {\n",
       "        vertical-align: top;\n",
       "    }\n",
       "\n",
       "    .dataframe thead th {\n",
       "        text-align: right;\n",
       "    }\n",
       "</style>\n",
       "<table border=\"1\" class=\"dataframe\">\n",
       "  <thead>\n",
       "    <tr style=\"text-align: right;\">\n",
       "      <th></th>\n",
       "      <th>tcp.flags</th>\n",
       "      <th>tcp.time_delta</th>\n",
       "      <th>tcp.len</th>\n",
       "      <th>mqtt.conack.flags</th>\n",
       "      <th>mqtt.conack.flags.reserved</th>\n",
       "      <th>mqtt.conack.flags.sp</th>\n",
       "      <th>mqtt.conack.val</th>\n",
       "      <th>mqtt.conflag.cleansess</th>\n",
       "      <th>mqtt.conflag.passwd</th>\n",
       "      <th>mqtt.conflag.qos</th>\n",
       "      <th>mqtt.conflag.reserved</th>\n",
       "      <th>mqtt.conflag.retain</th>\n",
       "      <th>mqtt.conflag.uname</th>\n",
       "      <th>mqtt.conflag.willflag</th>\n",
       "      <th>mqtt.conflags</th>\n",
       "      <th>mqtt.dupflag</th>\n",
       "      <th>mqtt.hdrflags</th>\n",
       "      <th>mqtt.kalive</th>\n",
       "      <th>mqtt.len</th>\n",
       "      <th>mqtt.msg</th>\n",
       "      <th>mqtt.msgid</th>\n",
       "      <th>mqtt.msgtype</th>\n",
       "      <th>mqtt.proto_len</th>\n",
       "      <th>mqtt.protoname</th>\n",
       "      <th>mqtt.qos</th>\n",
       "      <th>mqtt.retain</th>\n",
       "      <th>mqtt.sub.qos</th>\n",
       "      <th>mqtt.suback.qos</th>\n",
       "      <th>mqtt.ver</th>\n",
       "      <th>mqtt.willmsg</th>\n",
       "      <th>mqtt.willmsg_len</th>\n",
       "      <th>mqtt.willtopic</th>\n",
       "      <th>mqtt.willtopic_len</th>\n",
       "      <th>target</th>\n",
       "    </tr>\n",
       "  </thead>\n",
       "  <tbody>\n",
       "    <tr>\n",
       "      <th>0</th>\n",
       "      <td>0x00000018</td>\n",
       "      <td>0.998867</td>\n",
       "      <td>10</td>\n",
       "      <td>0</td>\n",
       "      <td>0.0</td>\n",
       "      <td>0.0</td>\n",
       "      <td>0.0</td>\n",
       "      <td>0.0</td>\n",
       "      <td>0.0</td>\n",
       "      <td>0.0</td>\n",
       "      <td>0.0</td>\n",
       "      <td>0.0</td>\n",
       "      <td>0.0</td>\n",
       "      <td>0.0</td>\n",
       "      <td>0</td>\n",
       "      <td>0.0</td>\n",
       "      <td>0x00000030</td>\n",
       "      <td>0.0</td>\n",
       "      <td>8.0</td>\n",
       "      <td>32</td>\n",
       "      <td>0.0</td>\n",
       "      <td>3.0</td>\n",
       "      <td>0.0</td>\n",
       "      <td>0</td>\n",
       "      <td>0.0</td>\n",
       "      <td>0.0</td>\n",
       "      <td>0.0</td>\n",
       "      <td>0.0</td>\n",
       "      <td>0.0</td>\n",
       "      <td>0.0</td>\n",
       "      <td>0.0</td>\n",
       "      <td>0.0</td>\n",
       "      <td>0.0</td>\n",
       "      <td>legitimate</td>\n",
       "    </tr>\n",
       "    <tr>\n",
       "      <th>1</th>\n",
       "      <td>0x00000010</td>\n",
       "      <td>0.000067</td>\n",
       "      <td>1460</td>\n",
       "      <td>0</td>\n",
       "      <td>0.0</td>\n",
       "      <td>0.0</td>\n",
       "      <td>0.0</td>\n",
       "      <td>0.0</td>\n",
       "      <td>0.0</td>\n",
       "      <td>0.0</td>\n",
       "      <td>0.0</td>\n",
       "      <td>0.0</td>\n",
       "      <td>0.0</td>\n",
       "      <td>0.0</td>\n",
       "      <td>0</td>\n",
       "      <td>0.0</td>\n",
       "      <td>0x00000032</td>\n",
       "      <td>0.0</td>\n",
       "      <td>169.0</td>\n",
       "      <td>6361653943666144654266454162444634326230633041...</td>\n",
       "      <td>2714.0</td>\n",
       "      <td>3.0</td>\n",
       "      <td>0.0</td>\n",
       "      <td>0</td>\n",
       "      <td>1.0</td>\n",
       "      <td>0.0</td>\n",
       "      <td>0.0</td>\n",
       "      <td>0.0</td>\n",
       "      <td>0.0</td>\n",
       "      <td>0.0</td>\n",
       "      <td>0.0</td>\n",
       "      <td>0.0</td>\n",
       "      <td>0.0</td>\n",
       "      <td>dos</td>\n",
       "    </tr>\n",
       "    <tr>\n",
       "      <th>2</th>\n",
       "      <td>0x00000010</td>\n",
       "      <td>0.000058</td>\n",
       "      <td>1460</td>\n",
       "      <td>0</td>\n",
       "      <td>0.0</td>\n",
       "      <td>0.0</td>\n",
       "      <td>0.0</td>\n",
       "      <td>0.0</td>\n",
       "      <td>0.0</td>\n",
       "      <td>0.0</td>\n",
       "      <td>0.0</td>\n",
       "      <td>0.0</td>\n",
       "      <td>0.0</td>\n",
       "      <td>0.0</td>\n",
       "      <td>0</td>\n",
       "      <td>0.0</td>\n",
       "      <td>0x00000032</td>\n",
       "      <td>0.0</td>\n",
       "      <td>163.0</td>\n",
       "      <td>4232646141394333463334613232626446326646383446...</td>\n",
       "      <td>1548.0</td>\n",
       "      <td>3.0</td>\n",
       "      <td>0.0</td>\n",
       "      <td>0</td>\n",
       "      <td>1.0</td>\n",
       "      <td>0.0</td>\n",
       "      <td>0.0</td>\n",
       "      <td>0.0</td>\n",
       "      <td>0.0</td>\n",
       "      <td>0.0</td>\n",
       "      <td>0.0</td>\n",
       "      <td>0.0</td>\n",
       "      <td>0.0</td>\n",
       "      <td>dos</td>\n",
       "    </tr>\n",
       "    <tr>\n",
       "      <th>3</th>\n",
       "      <td>0x00000018</td>\n",
       "      <td>0.000227</td>\n",
       "      <td>10</td>\n",
       "      <td>0</td>\n",
       "      <td>0.0</td>\n",
       "      <td>0.0</td>\n",
       "      <td>0.0</td>\n",
       "      <td>0.0</td>\n",
       "      <td>0.0</td>\n",
       "      <td>0.0</td>\n",
       "      <td>0.0</td>\n",
       "      <td>0.0</td>\n",
       "      <td>0.0</td>\n",
       "      <td>0.0</td>\n",
       "      <td>0</td>\n",
       "      <td>0.0</td>\n",
       "      <td>0x00000030</td>\n",
       "      <td>0.0</td>\n",
       "      <td>8.0</td>\n",
       "      <td>32</td>\n",
       "      <td>0.0</td>\n",
       "      <td>3.0</td>\n",
       "      <td>0.0</td>\n",
       "      <td>0</td>\n",
       "      <td>0.0</td>\n",
       "      <td>0.0</td>\n",
       "      <td>0.0</td>\n",
       "      <td>0.0</td>\n",
       "      <td>0.0</td>\n",
       "      <td>0.0</td>\n",
       "      <td>0.0</td>\n",
       "      <td>0.0</td>\n",
       "      <td>0.0</td>\n",
       "      <td>legitimate</td>\n",
       "    </tr>\n",
       "    <tr>\n",
       "      <th>4</th>\n",
       "      <td>0x00000018</td>\n",
       "      <td>0.000236</td>\n",
       "      <td>16</td>\n",
       "      <td>0</td>\n",
       "      <td>0.0</td>\n",
       "      <td>0.0</td>\n",
       "      <td>0.0</td>\n",
       "      <td>0.0</td>\n",
       "      <td>0.0</td>\n",
       "      <td>0.0</td>\n",
       "      <td>0.0</td>\n",
       "      <td>0.0</td>\n",
       "      <td>0.0</td>\n",
       "      <td>0.0</td>\n",
       "      <td>0</td>\n",
       "      <td>0.0</td>\n",
       "      <td>0x00000040</td>\n",
       "      <td>0.0</td>\n",
       "      <td>2.0</td>\n",
       "      <td>0</td>\n",
       "      <td>2800.0</td>\n",
       "      <td>4.0</td>\n",
       "      <td>0.0</td>\n",
       "      <td>0</td>\n",
       "      <td>0.0</td>\n",
       "      <td>0.0</td>\n",
       "      <td>0.0</td>\n",
       "      <td>0.0</td>\n",
       "      <td>0.0</td>\n",
       "      <td>0.0</td>\n",
       "      <td>0.0</td>\n",
       "      <td>0.0</td>\n",
       "      <td>0.0</td>\n",
       "      <td>dos</td>\n",
       "    </tr>\n",
       "  </tbody>\n",
       "</table>\n",
       "</div>"
      ],
      "text/plain": [
       "    tcp.flags  tcp.time_delta  tcp.len mqtt.conack.flags  \\\n",
       "0  0x00000018        0.998867       10                 0   \n",
       "1  0x00000010        0.000067     1460                 0   \n",
       "2  0x00000010        0.000058     1460                 0   \n",
       "3  0x00000018        0.000227       10                 0   \n",
       "4  0x00000018        0.000236       16                 0   \n",
       "\n",
       "   mqtt.conack.flags.reserved  mqtt.conack.flags.sp  mqtt.conack.val  \\\n",
       "0                         0.0                   0.0              0.0   \n",
       "1                         0.0                   0.0              0.0   \n",
       "2                         0.0                   0.0              0.0   \n",
       "3                         0.0                   0.0              0.0   \n",
       "4                         0.0                   0.0              0.0   \n",
       "\n",
       "   mqtt.conflag.cleansess  mqtt.conflag.passwd  mqtt.conflag.qos  \\\n",
       "0                     0.0                  0.0               0.0   \n",
       "1                     0.0                  0.0               0.0   \n",
       "2                     0.0                  0.0               0.0   \n",
       "3                     0.0                  0.0               0.0   \n",
       "4                     0.0                  0.0               0.0   \n",
       "\n",
       "   mqtt.conflag.reserved  mqtt.conflag.retain  mqtt.conflag.uname  \\\n",
       "0                    0.0                  0.0                 0.0   \n",
       "1                    0.0                  0.0                 0.0   \n",
       "2                    0.0                  0.0                 0.0   \n",
       "3                    0.0                  0.0                 0.0   \n",
       "4                    0.0                  0.0                 0.0   \n",
       "\n",
       "   mqtt.conflag.willflag mqtt.conflags  mqtt.dupflag mqtt.hdrflags  \\\n",
       "0                    0.0             0           0.0    0x00000030   \n",
       "1                    0.0             0           0.0    0x00000032   \n",
       "2                    0.0             0           0.0    0x00000032   \n",
       "3                    0.0             0           0.0    0x00000030   \n",
       "4                    0.0             0           0.0    0x00000040   \n",
       "\n",
       "   mqtt.kalive  mqtt.len                                           mqtt.msg  \\\n",
       "0          0.0       8.0                                                 32   \n",
       "1          0.0     169.0  6361653943666144654266454162444634326230633041...   \n",
       "2          0.0     163.0  4232646141394333463334613232626446326646383446...   \n",
       "3          0.0       8.0                                                 32   \n",
       "4          0.0       2.0                                                  0   \n",
       "\n",
       "   mqtt.msgid  mqtt.msgtype  mqtt.proto_len mqtt.protoname  mqtt.qos  \\\n",
       "0         0.0           3.0             0.0              0       0.0   \n",
       "1      2714.0           3.0             0.0              0       1.0   \n",
       "2      1548.0           3.0             0.0              0       1.0   \n",
       "3         0.0           3.0             0.0              0       0.0   \n",
       "4      2800.0           4.0             0.0              0       0.0   \n",
       "\n",
       "   mqtt.retain  mqtt.sub.qos  mqtt.suback.qos  mqtt.ver  mqtt.willmsg  \\\n",
       "0          0.0           0.0              0.0       0.0           0.0   \n",
       "1          0.0           0.0              0.0       0.0           0.0   \n",
       "2          0.0           0.0              0.0       0.0           0.0   \n",
       "3          0.0           0.0              0.0       0.0           0.0   \n",
       "4          0.0           0.0              0.0       0.0           0.0   \n",
       "\n",
       "   mqtt.willmsg_len  mqtt.willtopic  mqtt.willtopic_len      target  \n",
       "0               0.0             0.0                 0.0  legitimate  \n",
       "1               0.0             0.0                 0.0         dos  \n",
       "2               0.0             0.0                 0.0         dos  \n",
       "3               0.0             0.0                 0.0  legitimate  \n",
       "4               0.0             0.0                 0.0         dos  "
      ]
     },
     "execution_count": 337,
     "metadata": {},
     "output_type": "execute_result"
    }
   ],
   "source": [
    "df.head()"
   ]
  },
  {
   "cell_type": "code",
   "execution_count": 338,
   "id": "ed73c875",
   "metadata": {
    "colab": {
     "base_uri": "https://localhost:8080/"
    },
    "executionInfo": {
     "elapsed": 55,
     "status": "ok",
     "timestamp": 1688847531495,
     "user": {
      "displayName": "Anibrata Pal",
      "userId": "16454467692217386609"
     },
     "user_tz": -330
    },
    "id": "ed73c875",
    "outputId": "25479a23-3b8a-4b40-b096-8f1382ec246e"
   },
   "outputs": [
    {
     "data": {
      "text/plain": [
       "(330936, 34)"
      ]
     },
     "execution_count": 338,
     "metadata": {},
     "output_type": "execute_result"
    }
   ],
   "source": [
    "df.shape"
   ]
  },
  {
   "cell_type": "markdown",
   "id": "fe7f8a82",
   "metadata": {
    "id": "fe7f8a82"
   },
   "source": [
    "### Studying the dataset"
   ]
  },
  {
   "cell_type": "code",
   "execution_count": 339,
   "id": "97e487a1",
   "metadata": {
    "colab": {
     "base_uri": "https://localhost:8080/"
    },
    "executionInfo": {
     "elapsed": 5,
     "status": "ok",
     "timestamp": 1688847534462,
     "user": {
      "displayName": "Anibrata Pal",
      "userId": "16454467692217386609"
     },
     "user_tz": -330
    },
    "id": "97e487a1",
    "outputId": "a8e76460-15c8-4d1e-ce3b-a140269c3d81"
   },
   "outputs": [
    {
     "name": "stdout",
     "output_type": "stream",
     "text": [
      "['tcp.flags', 'mqtt.conack.flags', 'mqtt.conflags', 'mqtt.hdrflags', 'mqtt.msg', 'mqtt.protoname', 'target']\n"
     ]
    }
   ],
   "source": [
    "non_numeric_columns = df.select_dtypes(exclude=[int, float]).columns.tolist()\n",
    "print(non_numeric_columns)"
   ]
  },
  {
   "cell_type": "code",
   "execution_count": 310,
   "id": "276c3c13",
   "metadata": {},
   "outputs": [
    {
     "data": {
      "text/plain": [
       "7"
      ]
     },
     "execution_count": 310,
     "metadata": {},
     "output_type": "execute_result"
    }
   ],
   "source": [
    "len(non_numeric_columns)"
   ]
  },
  {
   "cell_type": "code",
   "execution_count": 340,
   "id": "96f54d97",
   "metadata": {
    "colab": {
     "base_uri": "https://localhost:8080/"
    },
    "executionInfo": {
     "elapsed": 19,
     "status": "ok",
     "timestamp": 1688847537128,
     "user": {
      "displayName": "Anibrata Pal",
      "userId": "16454467692217386609"
     },
     "user_tz": -330
    },
    "id": "96f54d97",
    "outputId": "be0b04d9-a634-4bd5-ee43-af6c24dd6cbc"
   },
   "outputs": [
    {
     "data": {
      "text/plain": [
       "array(['legitimate', 'dos', 'malformed', 'bruteforce', 'slowite', 'flood'],\n",
       "      dtype=object)"
      ]
     },
     "execution_count": 340,
     "metadata": {},
     "output_type": "execute_result"
    }
   ],
   "source": [
    "df['target'].unique()"
   ]
  },
  {
   "cell_type": "code",
   "execution_count": 20,
   "id": "43e7d21f",
   "metadata": {
    "colab": {
     "base_uri": "https://localhost:8080/"
    },
    "executionInfo": {
     "elapsed": 14,
     "status": "ok",
     "timestamp": 1688847537129,
     "user": {
      "displayName": "Anibrata Pal",
      "userId": "16454467692217386609"
     },
     "user_tz": -330
    },
    "id": "43e7d21f",
    "outputId": "729a8616-9a84-42fc-9f97-93e6df622c69"
   },
   "outputs": [
    {
     "data": {
      "text/plain": [
       "array(['0', '0x00000000'], dtype=object)"
      ]
     },
     "execution_count": 20,
     "metadata": {},
     "output_type": "execute_result"
    }
   ],
   "source": [
    "#df['mqtt.conack.flags'].unique()"
   ]
  },
  {
   "cell_type": "code",
   "execution_count": 21,
   "id": "401bb13d",
   "metadata": {
    "colab": {
     "base_uri": "https://localhost:8080/"
    },
    "executionInfo": {
     "elapsed": 15,
     "status": "ok",
     "timestamp": 1688847537912,
     "user": {
      "displayName": "Anibrata Pal",
      "userId": "16454467692217386609"
     },
     "user_tz": -330
    },
    "id": "401bb13d",
    "outputId": "e21587c2-0b6b-458b-d5e4-99b52dc27ed5"
   },
   "outputs": [
    {
     "data": {
      "text/plain": [
       "array(['0', '0x000000c2', '0x00000002', '0x00000082'], dtype=object)"
      ]
     },
     "execution_count": 21,
     "metadata": {},
     "output_type": "execute_result"
    }
   ],
   "source": [
    "#df['mqtt.conflags'].unique()"
   ]
  },
  {
   "cell_type": "code",
   "execution_count": 22,
   "id": "b33e9cb3",
   "metadata": {
    "colab": {
     "base_uri": "https://localhost:8080/"
    },
    "executionInfo": {
     "elapsed": 11,
     "status": "ok",
     "timestamp": 1688847537913,
     "user": {
      "displayName": "Anibrata Pal",
      "userId": "16454467692217386609"
     },
     "user_tz": -330
    },
    "id": "b33e9cb3",
    "outputId": "0f876211-356a-4066-8962-f6634bd947a8"
   },
   "outputs": [
    {
     "data": {
      "text/plain": [
       "array(['32',\n",
       "       '63616539436661446542664541624446343262306330416366456435634239346437304441373463314639303642313246323430466537444238333743644242443841613435344442436545313436314634454166366136304166306632366141386161',\n",
       "       '42326461413943334633346132326264463266463834464137316661343864343545446144353841304633314536463531353765636439666631313366634430313538443065414565343531363442623632333330666237446645396644',\n",
       "       ...,\n",
       "       '61623041364444326342334234443942466164353362413461613531423843363266446332413261613131354361426639383831464343663364424364626146623839354365666645613138353543353464453433424143313363634346444641434461',\n",
       "       '3064623035384238463337336162664263313645386132646233614264463133433434353441446237394142444136446537454239453630393131654636304439666265386641333845353735386465616166363335343236644544454546323061374144',\n",
       "       '36326335464234306232326642396242666239416541614162336539393434613237363262433863356141393841323035624344434233343643384165383937423337393743333436396666353361383530453964334464456441353532643361643539'],\n",
       "      dtype=object)"
      ]
     },
     "execution_count": 22,
     "metadata": {},
     "output_type": "execute_result"
    }
   ],
   "source": [
    "#df['mqtt.msg'].unique()"
   ]
  },
  {
   "cell_type": "code",
   "execution_count": 23,
   "id": "9410b1dd",
   "metadata": {
    "colab": {
     "base_uri": "https://localhost:8080/"
    },
    "executionInfo": {
     "elapsed": 21,
     "status": "ok",
     "timestamp": 1688847542812,
     "user": {
      "displayName": "Anibrata Pal",
      "userId": "16454467692217386609"
     },
     "user_tz": -330
    },
    "id": "9410b1dd",
    "outputId": "ff63fa60-a85a-4c38-caa0-71320be84ab8"
   },
   "outputs": [
    {
     "data": {
      "text/plain": [
       "array(['0', 'MQTT'], dtype=object)"
      ]
     },
     "execution_count": 23,
     "metadata": {},
     "output_type": "execute_result"
    }
   ],
   "source": [
    "#df['mqtt.protoname'].unique()"
   ]
  },
  {
   "cell_type": "code",
   "execution_count": 306,
   "id": "3a6999dd",
   "metadata": {
    "colab": {
     "base_uri": "https://localhost:8080/"
    },
    "executionInfo": {
     "elapsed": 19,
     "status": "ok",
     "timestamp": 1688847542814,
     "user": {
      "displayName": "Anibrata Pal",
      "userId": "16454467692217386609"
     },
     "user_tz": -330
    },
    "id": "3a6999dd",
    "outputId": "a99de5fc-eb52-49cf-ddde-8522637acddf"
   },
   "outputs": [
    {
     "data": {
      "text/plain": [
       "array(['legitimate', 'dos', 'malformed', 'bruteforce', 'slowite', 'flood'],\n",
       "      dtype=object)"
      ]
     },
     "execution_count": 306,
     "metadata": {},
     "output_type": "execute_result"
    }
   ],
   "source": [
    "df['target'].unique()"
   ]
  },
  {
   "cell_type": "code",
   "execution_count": 18,
   "id": "1839c08c",
   "metadata": {
    "colab": {
     "base_uri": "https://localhost:8080/"
    },
    "executionInfo": {
     "elapsed": 14,
     "status": "ok",
     "timestamp": 1688847542815,
     "user": {
      "displayName": "Anibrata Pal",
      "userId": "16454467692217386609"
     },
     "user_tz": -330
    },
    "id": "1839c08c",
    "outputId": "51f8266d-6fef-4829-c50b-15a026b5b812"
   },
   "outputs": [
    {
     "data": {
      "text/plain": [
       "222855"
      ]
     },
     "execution_count": 18,
     "metadata": {},
     "output_type": "execute_result"
    }
   ],
   "source": [
    "df['type'].value_counts()['normal']"
   ]
  },
  {
   "cell_type": "code",
   "execution_count": 19,
   "id": "0f5029be",
   "metadata": {},
   "outputs": [
    {
     "data": {
      "text/plain": [
       "normal       222855\n",
       "backdoor      40011\n",
       "password      18115\n",
       "injection      5186\n",
       "scanning        529\n",
       "xss             498\n",
       "Name: type, dtype: int64"
      ]
     },
     "execution_count": 19,
     "metadata": {},
     "output_type": "execute_result"
    }
   ],
   "source": [
    "df['type'].value_counts()"
   ]
  },
  {
   "cell_type": "code",
   "execution_count": 294,
   "id": "f4663399",
   "metadata": {
    "colab": {
     "base_uri": "https://localhost:8080/"
    },
    "executionInfo": {
     "elapsed": 7,
     "status": "ok",
     "timestamp": 1688847543857,
     "user": {
      "displayName": "Anibrata Pal",
      "userId": "16454467692217386609"
     },
     "user_tz": -330
    },
    "id": "f4663399",
    "outputId": "ed9fb332-95fc-4e7d-9aff-3e3cb2a53797"
   },
   "outputs": [
    {
     "data": {
      "text/plain": [
       "165473"
      ]
     },
     "execution_count": 294,
     "metadata": {},
     "output_type": "execute_result"
    }
   ],
   "source": [
    "df['target'].value_counts()['dos'] + df['target'].value_counts()['malformed'] + df['target'].value_counts()['bruteforce'] + df['target'].value_counts()['slowite'] + df['target'].value_counts()['flood']"
   ]
  },
  {
   "cell_type": "code",
   "execution_count": 295,
   "id": "7ddb731c",
   "metadata": {
    "colab": {
     "base_uri": "https://localhost:8080/",
     "height": 270
    },
    "executionInfo": {
     "elapsed": 12,
     "status": "ok",
     "timestamp": 1688849972074,
     "user": {
      "displayName": "Anibrata Pal",
      "userId": "16454467692217386609"
     },
     "user_tz": -330
    },
    "id": "7ddb731c",
    "outputId": "8aedf99b-d30e-4367-e98f-afa2f4a53c2f"
   },
   "outputs": [
    {
     "data": {
      "text/html": [
       "<div>\n",
       "<style scoped>\n",
       "    .dataframe tbody tr th:only-of-type {\n",
       "        vertical-align: middle;\n",
       "    }\n",
       "\n",
       "    .dataframe tbody tr th {\n",
       "        vertical-align: top;\n",
       "    }\n",
       "\n",
       "    .dataframe thead th {\n",
       "        text-align: right;\n",
       "    }\n",
       "</style>\n",
       "<table border=\"1\" class=\"dataframe\">\n",
       "  <thead>\n",
       "    <tr style=\"text-align: right;\">\n",
       "      <th></th>\n",
       "      <th>tcp.flags</th>\n",
       "      <th>tcp.time_delta</th>\n",
       "      <th>tcp.len</th>\n",
       "      <th>mqtt.conack.flags</th>\n",
       "      <th>mqtt.conack.flags.reserved</th>\n",
       "      <th>mqtt.conack.flags.sp</th>\n",
       "      <th>mqtt.conack.val</th>\n",
       "      <th>mqtt.conflag.cleansess</th>\n",
       "      <th>mqtt.conflag.passwd</th>\n",
       "      <th>mqtt.conflag.qos</th>\n",
       "      <th>mqtt.conflag.reserved</th>\n",
       "      <th>mqtt.conflag.retain</th>\n",
       "      <th>mqtt.conflag.uname</th>\n",
       "      <th>mqtt.conflag.willflag</th>\n",
       "      <th>mqtt.conflags</th>\n",
       "      <th>mqtt.dupflag</th>\n",
       "      <th>mqtt.hdrflags</th>\n",
       "      <th>mqtt.kalive</th>\n",
       "      <th>mqtt.len</th>\n",
       "      <th>mqtt.msg</th>\n",
       "      <th>mqtt.msgid</th>\n",
       "      <th>mqtt.msgtype</th>\n",
       "      <th>mqtt.proto_len</th>\n",
       "      <th>mqtt.protoname</th>\n",
       "      <th>mqtt.qos</th>\n",
       "      <th>mqtt.retain</th>\n",
       "      <th>mqtt.sub.qos</th>\n",
       "      <th>mqtt.suback.qos</th>\n",
       "      <th>mqtt.ver</th>\n",
       "      <th>mqtt.willmsg</th>\n",
       "      <th>mqtt.willmsg_len</th>\n",
       "      <th>mqtt.willtopic</th>\n",
       "      <th>mqtt.willtopic_len</th>\n",
       "      <th>target</th>\n",
       "    </tr>\n",
       "  </thead>\n",
       "  <tbody>\n",
       "    <tr>\n",
       "      <th>0</th>\n",
       "      <td>0x00000018</td>\n",
       "      <td>0.998867</td>\n",
       "      <td>10</td>\n",
       "      <td>0</td>\n",
       "      <td>0.0</td>\n",
       "      <td>0.0</td>\n",
       "      <td>0.0</td>\n",
       "      <td>0.0</td>\n",
       "      <td>0.0</td>\n",
       "      <td>0.0</td>\n",
       "      <td>0.0</td>\n",
       "      <td>0.0</td>\n",
       "      <td>0.0</td>\n",
       "      <td>0.0</td>\n",
       "      <td>0</td>\n",
       "      <td>0.0</td>\n",
       "      <td>0x00000030</td>\n",
       "      <td>0.0</td>\n",
       "      <td>8.0</td>\n",
       "      <td>32</td>\n",
       "      <td>0.0</td>\n",
       "      <td>3.0</td>\n",
       "      <td>0.0</td>\n",
       "      <td>0</td>\n",
       "      <td>0.0</td>\n",
       "      <td>0.0</td>\n",
       "      <td>0.0</td>\n",
       "      <td>0.0</td>\n",
       "      <td>0.0</td>\n",
       "      <td>0.0</td>\n",
       "      <td>0.0</td>\n",
       "      <td>0.0</td>\n",
       "      <td>0.0</td>\n",
       "      <td>legitimate</td>\n",
       "    </tr>\n",
       "    <tr>\n",
       "      <th>1</th>\n",
       "      <td>0x00000010</td>\n",
       "      <td>0.000067</td>\n",
       "      <td>1460</td>\n",
       "      <td>0</td>\n",
       "      <td>0.0</td>\n",
       "      <td>0.0</td>\n",
       "      <td>0.0</td>\n",
       "      <td>0.0</td>\n",
       "      <td>0.0</td>\n",
       "      <td>0.0</td>\n",
       "      <td>0.0</td>\n",
       "      <td>0.0</td>\n",
       "      <td>0.0</td>\n",
       "      <td>0.0</td>\n",
       "      <td>0</td>\n",
       "      <td>0.0</td>\n",
       "      <td>0x00000032</td>\n",
       "      <td>0.0</td>\n",
       "      <td>169.0</td>\n",
       "      <td>6361653943666144654266454162444634326230633041...</td>\n",
       "      <td>2714.0</td>\n",
       "      <td>3.0</td>\n",
       "      <td>0.0</td>\n",
       "      <td>0</td>\n",
       "      <td>1.0</td>\n",
       "      <td>0.0</td>\n",
       "      <td>0.0</td>\n",
       "      <td>0.0</td>\n",
       "      <td>0.0</td>\n",
       "      <td>0.0</td>\n",
       "      <td>0.0</td>\n",
       "      <td>0.0</td>\n",
       "      <td>0.0</td>\n",
       "      <td>dos</td>\n",
       "    </tr>\n",
       "    <tr>\n",
       "      <th>2</th>\n",
       "      <td>0x00000010</td>\n",
       "      <td>0.000058</td>\n",
       "      <td>1460</td>\n",
       "      <td>0</td>\n",
       "      <td>0.0</td>\n",
       "      <td>0.0</td>\n",
       "      <td>0.0</td>\n",
       "      <td>0.0</td>\n",
       "      <td>0.0</td>\n",
       "      <td>0.0</td>\n",
       "      <td>0.0</td>\n",
       "      <td>0.0</td>\n",
       "      <td>0.0</td>\n",
       "      <td>0.0</td>\n",
       "      <td>0</td>\n",
       "      <td>0.0</td>\n",
       "      <td>0x00000032</td>\n",
       "      <td>0.0</td>\n",
       "      <td>163.0</td>\n",
       "      <td>4232646141394333463334613232626446326646383446...</td>\n",
       "      <td>1548.0</td>\n",
       "      <td>3.0</td>\n",
       "      <td>0.0</td>\n",
       "      <td>0</td>\n",
       "      <td>1.0</td>\n",
       "      <td>0.0</td>\n",
       "      <td>0.0</td>\n",
       "      <td>0.0</td>\n",
       "      <td>0.0</td>\n",
       "      <td>0.0</td>\n",
       "      <td>0.0</td>\n",
       "      <td>0.0</td>\n",
       "      <td>0.0</td>\n",
       "      <td>dos</td>\n",
       "    </tr>\n",
       "    <tr>\n",
       "      <th>3</th>\n",
       "      <td>0x00000018</td>\n",
       "      <td>0.000227</td>\n",
       "      <td>10</td>\n",
       "      <td>0</td>\n",
       "      <td>0.0</td>\n",
       "      <td>0.0</td>\n",
       "      <td>0.0</td>\n",
       "      <td>0.0</td>\n",
       "      <td>0.0</td>\n",
       "      <td>0.0</td>\n",
       "      <td>0.0</td>\n",
       "      <td>0.0</td>\n",
       "      <td>0.0</td>\n",
       "      <td>0.0</td>\n",
       "      <td>0</td>\n",
       "      <td>0.0</td>\n",
       "      <td>0x00000030</td>\n",
       "      <td>0.0</td>\n",
       "      <td>8.0</td>\n",
       "      <td>32</td>\n",
       "      <td>0.0</td>\n",
       "      <td>3.0</td>\n",
       "      <td>0.0</td>\n",
       "      <td>0</td>\n",
       "      <td>0.0</td>\n",
       "      <td>0.0</td>\n",
       "      <td>0.0</td>\n",
       "      <td>0.0</td>\n",
       "      <td>0.0</td>\n",
       "      <td>0.0</td>\n",
       "      <td>0.0</td>\n",
       "      <td>0.0</td>\n",
       "      <td>0.0</td>\n",
       "      <td>legitimate</td>\n",
       "    </tr>\n",
       "    <tr>\n",
       "      <th>4</th>\n",
       "      <td>0x00000018</td>\n",
       "      <td>0.000236</td>\n",
       "      <td>16</td>\n",
       "      <td>0</td>\n",
       "      <td>0.0</td>\n",
       "      <td>0.0</td>\n",
       "      <td>0.0</td>\n",
       "      <td>0.0</td>\n",
       "      <td>0.0</td>\n",
       "      <td>0.0</td>\n",
       "      <td>0.0</td>\n",
       "      <td>0.0</td>\n",
       "      <td>0.0</td>\n",
       "      <td>0.0</td>\n",
       "      <td>0</td>\n",
       "      <td>0.0</td>\n",
       "      <td>0x00000040</td>\n",
       "      <td>0.0</td>\n",
       "      <td>2.0</td>\n",
       "      <td>0</td>\n",
       "      <td>2800.0</td>\n",
       "      <td>4.0</td>\n",
       "      <td>0.0</td>\n",
       "      <td>0</td>\n",
       "      <td>0.0</td>\n",
       "      <td>0.0</td>\n",
       "      <td>0.0</td>\n",
       "      <td>0.0</td>\n",
       "      <td>0.0</td>\n",
       "      <td>0.0</td>\n",
       "      <td>0.0</td>\n",
       "      <td>0.0</td>\n",
       "      <td>0.0</td>\n",
       "      <td>dos</td>\n",
       "    </tr>\n",
       "  </tbody>\n",
       "</table>\n",
       "</div>"
      ],
      "text/plain": [
       "    tcp.flags  tcp.time_delta  tcp.len mqtt.conack.flags  \\\n",
       "0  0x00000018        0.998867       10                 0   \n",
       "1  0x00000010        0.000067     1460                 0   \n",
       "2  0x00000010        0.000058     1460                 0   \n",
       "3  0x00000018        0.000227       10                 0   \n",
       "4  0x00000018        0.000236       16                 0   \n",
       "\n",
       "   mqtt.conack.flags.reserved  mqtt.conack.flags.sp  mqtt.conack.val  \\\n",
       "0                         0.0                   0.0              0.0   \n",
       "1                         0.0                   0.0              0.0   \n",
       "2                         0.0                   0.0              0.0   \n",
       "3                         0.0                   0.0              0.0   \n",
       "4                         0.0                   0.0              0.0   \n",
       "\n",
       "   mqtt.conflag.cleansess  mqtt.conflag.passwd  mqtt.conflag.qos  \\\n",
       "0                     0.0                  0.0               0.0   \n",
       "1                     0.0                  0.0               0.0   \n",
       "2                     0.0                  0.0               0.0   \n",
       "3                     0.0                  0.0               0.0   \n",
       "4                     0.0                  0.0               0.0   \n",
       "\n",
       "   mqtt.conflag.reserved  mqtt.conflag.retain  mqtt.conflag.uname  \\\n",
       "0                    0.0                  0.0                 0.0   \n",
       "1                    0.0                  0.0                 0.0   \n",
       "2                    0.0                  0.0                 0.0   \n",
       "3                    0.0                  0.0                 0.0   \n",
       "4                    0.0                  0.0                 0.0   \n",
       "\n",
       "   mqtt.conflag.willflag mqtt.conflags  mqtt.dupflag mqtt.hdrflags  \\\n",
       "0                    0.0             0           0.0    0x00000030   \n",
       "1                    0.0             0           0.0    0x00000032   \n",
       "2                    0.0             0           0.0    0x00000032   \n",
       "3                    0.0             0           0.0    0x00000030   \n",
       "4                    0.0             0           0.0    0x00000040   \n",
       "\n",
       "   mqtt.kalive  mqtt.len                                           mqtt.msg  \\\n",
       "0          0.0       8.0                                                 32   \n",
       "1          0.0     169.0  6361653943666144654266454162444634326230633041...   \n",
       "2          0.0     163.0  4232646141394333463334613232626446326646383446...   \n",
       "3          0.0       8.0                                                 32   \n",
       "4          0.0       2.0                                                  0   \n",
       "\n",
       "   mqtt.msgid  mqtt.msgtype  mqtt.proto_len mqtt.protoname  mqtt.qos  \\\n",
       "0         0.0           3.0             0.0              0       0.0   \n",
       "1      2714.0           3.0             0.0              0       1.0   \n",
       "2      1548.0           3.0             0.0              0       1.0   \n",
       "3         0.0           3.0             0.0              0       0.0   \n",
       "4      2800.0           4.0             0.0              0       0.0   \n",
       "\n",
       "   mqtt.retain  mqtt.sub.qos  mqtt.suback.qos  mqtt.ver  mqtt.willmsg  \\\n",
       "0          0.0           0.0              0.0       0.0           0.0   \n",
       "1          0.0           0.0              0.0       0.0           0.0   \n",
       "2          0.0           0.0              0.0       0.0           0.0   \n",
       "3          0.0           0.0              0.0       0.0           0.0   \n",
       "4          0.0           0.0              0.0       0.0           0.0   \n",
       "\n",
       "   mqtt.willmsg_len  mqtt.willtopic  mqtt.willtopic_len      target  \n",
       "0               0.0             0.0                 0.0  legitimate  \n",
       "1               0.0             0.0                 0.0         dos  \n",
       "2               0.0             0.0                 0.0         dos  \n",
       "3               0.0             0.0                 0.0  legitimate  \n",
       "4               0.0             0.0                 0.0         dos  "
      ]
     },
     "execution_count": 295,
     "metadata": {},
     "output_type": "execute_result"
    }
   ],
   "source": [
    "df.head()"
   ]
  },
  {
   "cell_type": "code",
   "execution_count": 303,
   "id": "6ccb390d",
   "metadata": {},
   "outputs": [
    {
     "data": {
      "text/plain": [
       "(330936, 34)"
      ]
     },
     "execution_count": 303,
     "metadata": {},
     "output_type": "execute_result"
    }
   ],
   "source": [
    "df.shape"
   ]
  },
  {
   "cell_type": "markdown",
   "id": "93f18de8",
   "metadata": {
    "id": "93f18de8"
   },
   "source": [
    "#### Remove the Target Variable / Dependent Variable from the non-numeric columns list"
   ]
  },
  {
   "cell_type": "code",
   "execution_count": 341,
   "id": "d0939f70",
   "metadata": {
    "executionInfo": {
     "elapsed": 7,
     "status": "ok",
     "timestamp": 1688847554031,
     "user": {
      "displayName": "Anibrata Pal",
      "userId": "16454467692217386609"
     },
     "user_tz": -330
    },
    "id": "d0939f70"
   },
   "outputs": [],
   "source": [
    "# Label is non numeric but it is the dependent variable;\n",
    "# need for future data processing, remove it from the non numeric column list\n",
    "non_numeric_columns.remove('target')"
   ]
  },
  {
   "cell_type": "code",
   "execution_count": 342,
   "id": "b673cf19",
   "metadata": {
    "colab": {
     "base_uri": "https://localhost:8080/"
    },
    "executionInfo": {
     "elapsed": 6,
     "status": "ok",
     "timestamp": 1688847554687,
     "user": {
      "displayName": "Anibrata Pal",
      "userId": "16454467692217386609"
     },
     "user_tz": -330
    },
    "id": "b673cf19",
    "outputId": "1caf490b-491c-47eb-8e55-0e843b640710"
   },
   "outputs": [
    {
     "data": {
      "text/plain": [
       "['tcp.flags',\n",
       " 'mqtt.conack.flags',\n",
       " 'mqtt.conflags',\n",
       " 'mqtt.hdrflags',\n",
       " 'mqtt.msg',\n",
       " 'mqtt.protoname']"
      ]
     },
     "execution_count": 342,
     "metadata": {},
     "output_type": "execute_result"
    }
   ],
   "source": [
    "non_numeric_columns"
   ]
  },
  {
   "cell_type": "code",
   "execution_count": 302,
   "id": "013e49d1",
   "metadata": {},
   "outputs": [
    {
     "name": "stdout",
     "output_type": "stream",
     "text": [
      "Data analysis...\n",
      "zeros :165463\n",
      "ones :165473\n",
      "1.0000604364722023\n"
     ]
    },
    {
     "data": {
      "text/plain": [
       "(165463, 165473)"
      ]
     },
     "execution_count": 302,
     "metadata": {},
     "output_type": "execute_result"
    }
   ],
   "source": [
    "analyzeData(df)"
   ]
  },
  {
   "cell_type": "markdown",
   "id": "212dc52c",
   "metadata": {
    "id": "212dc52c"
   },
   "source": [
    "#### Remove non numeric columns from the dataset, but keeping the 'Label'"
   ]
  },
  {
   "cell_type": "code",
   "execution_count": 343,
   "id": "cf2a1519",
   "metadata": {
    "executionInfo": {
     "elapsed": 5,
     "status": "ok",
     "timestamp": 1688847557468,
     "user": {
      "displayName": "Anibrata Pal",
      "userId": "16454467692217386609"
     },
     "user_tz": -330
    },
    "id": "cf2a1519"
   },
   "outputs": [],
   "source": [
    "df = df.drop(columns=non_numeric_columns)"
   ]
  },
  {
   "cell_type": "code",
   "execution_count": 344,
   "id": "c1af3823",
   "metadata": {},
   "outputs": [
    {
     "data": {
      "text/plain": [
       "28"
      ]
     },
     "execution_count": 344,
     "metadata": {},
     "output_type": "execute_result"
    }
   ],
   "source": [
    "df.shape[1]"
   ]
  },
  {
   "cell_type": "markdown",
   "id": "ab6afc23",
   "metadata": {
    "id": "ab6afc23"
   },
   "source": [
    "#### Change \"Label\" from text to numbers"
   ]
  },
  {
   "cell_type": "code",
   "execution_count": 345,
   "id": "ee5ed8e0",
   "metadata": {
    "executionInfo": {
     "elapsed": 1184,
     "status": "ok",
     "timestamp": 1688847560260,
     "user": {
      "displayName": "Anibrata Pal",
      "userId": "16454467692217386609"
     },
     "user_tz": -330
    },
    "id": "ee5ed8e0"
   },
   "outputs": [],
   "source": [
    "df['target'] = df['target'].replace('legitimate', -1).replace('dos', 1).replace('malformed', 1).replace('bruteforce', 1). replace('slowite', 1). replace('flood', 1)"
   ]
  },
  {
   "cell_type": "code",
   "execution_count": 347,
   "id": "19f7acbc",
   "metadata": {
    "colab": {
     "base_uri": "https://localhost:8080/"
    },
    "executionInfo": {
     "elapsed": 4,
     "status": "ok",
     "timestamp": 1688847560260,
     "user": {
      "displayName": "Anibrata Pal",
      "userId": "16454467692217386609"
     },
     "user_tz": -330
    },
    "id": "19f7acbc",
    "outputId": "b9fd8ef2-0cfa-4154-e548-4e27475b396d"
   },
   "outputs": [
    {
     "data": {
      "text/plain": [
       "array([-1,  1])"
      ]
     },
     "execution_count": 347,
     "metadata": {},
     "output_type": "execute_result"
    }
   ],
   "source": [
    "df['target'].unique()"
   ]
  },
  {
   "cell_type": "code",
   "execution_count": 140,
   "id": "d1b2439e",
   "metadata": {},
   "outputs": [],
   "source": [
    "#df['label'] = df['label'].replace(0, -1)"
   ]
  },
  {
   "cell_type": "markdown",
   "id": "1ee2ce62",
   "metadata": {
    "id": "1ee2ce62"
   },
   "source": [
    "#### Find out the datatypes of the columns in the dataframe"
   ]
  },
  {
   "cell_type": "code",
   "execution_count": 348,
   "id": "1ba3d431",
   "metadata": {
    "colab": {
     "base_uri": "https://localhost:8080/"
    },
    "executionInfo": {
     "elapsed": 52,
     "status": "ok",
     "timestamp": 1688847561046,
     "user": {
      "displayName": "Anibrata Pal",
      "userId": "16454467692217386609"
     },
     "user_tz": -330
    },
    "id": "1ba3d431",
    "outputId": "ade88fd0-8e60-401f-b2f1-40b4a4fbd305"
   },
   "outputs": [
    {
     "name": "stdout",
     "output_type": "stream",
     "text": [
      "tcp.time_delta                float64\n",
      "tcp.len                         int64\n",
      "mqtt.conack.flags.reserved    float64\n",
      "mqtt.conack.flags.sp          float64\n",
      "mqtt.conack.val               float64\n",
      "mqtt.conflag.cleansess        float64\n",
      "mqtt.conflag.passwd           float64\n",
      "mqtt.conflag.qos              float64\n",
      "mqtt.conflag.reserved         float64\n",
      "mqtt.conflag.retain           float64\n",
      "mqtt.conflag.uname            float64\n",
      "mqtt.conflag.willflag         float64\n",
      "mqtt.dupflag                  float64\n",
      "mqtt.kalive                   float64\n",
      "mqtt.len                      float64\n",
      "mqtt.msgid                    float64\n",
      "mqtt.msgtype                  float64\n",
      "mqtt.proto_len                float64\n",
      "mqtt.qos                      float64\n",
      "mqtt.retain                   float64\n",
      "mqtt.sub.qos                  float64\n",
      "mqtt.suback.qos               float64\n",
      "mqtt.ver                      float64\n",
      "mqtt.willmsg                  float64\n",
      "mqtt.willmsg_len              float64\n",
      "mqtt.willtopic                float64\n",
      "mqtt.willtopic_len            float64\n",
      "target                          int64\n",
      "dtype: object\n"
     ]
    }
   ],
   "source": [
    "column_info = df.dtypes\n",
    "print(column_info)"
   ]
  },
  {
   "cell_type": "markdown",
   "id": "233c4aa0",
   "metadata": {
    "id": "233c4aa0"
   },
   "source": [
    "#### Find out the columns which have NaN / Missing values - None here"
   ]
  },
  {
   "cell_type": "code",
   "execution_count": 350,
   "id": "46fede18",
   "metadata": {
    "executionInfo": {
     "elapsed": 9,
     "status": "ok",
     "timestamp": 1688847565486,
     "user": {
      "displayName": "Anibrata Pal",
      "userId": "16454467692217386609"
     },
     "user_tz": -330
    },
    "id": "46fede18"
   },
   "outputs": [],
   "source": [
    "nan_values = df.columns[df.isna().any()]"
   ]
  },
  {
   "cell_type": "code",
   "execution_count": 351,
   "id": "26a58f21",
   "metadata": {
    "colab": {
     "base_uri": "https://localhost:8080/"
    },
    "executionInfo": {
     "elapsed": 8,
     "status": "ok",
     "timestamp": 1688847565487,
     "user": {
      "displayName": "Anibrata Pal",
      "userId": "16454467692217386609"
     },
     "user_tz": -330
    },
    "id": "26a58f21",
    "outputId": "e774f567-4739-47a9-c759-df6710643810"
   },
   "outputs": [
    {
     "data": {
      "text/plain": [
       "Index([], dtype='object')"
      ]
     },
     "execution_count": 351,
     "metadata": {},
     "output_type": "execute_result"
    }
   ],
   "source": [
    "nan_values"
   ]
  },
  {
   "cell_type": "markdown",
   "id": "87164b6d",
   "metadata": {
    "id": "87164b6d"
   },
   "source": [
    "#### Find out the columns where all values are equal -> does not contribute to the result"
   ]
  },
  {
   "cell_type": "code",
   "execution_count": 352,
   "id": "8cc27c8d",
   "metadata": {
    "executionInfo": {
     "elapsed": 4,
     "status": "ok",
     "timestamp": 1688847567132,
     "user": {
      "displayName": "Anibrata Pal",
      "userId": "16454467692217386609"
     },
     "user_tz": -330
    },
    "id": "8cc27c8d"
   },
   "outputs": [],
   "source": [
    "columns_with_same_val = df.columns[(df == df.iloc[0]).all()]"
   ]
  },
  {
   "cell_type": "code",
   "execution_count": 353,
   "id": "b3c8900a",
   "metadata": {
    "colab": {
     "base_uri": "https://localhost:8080/"
    },
    "executionInfo": {
     "elapsed": 4,
     "status": "ok",
     "timestamp": 1688847567133,
     "user": {
      "displayName": "Anibrata Pal",
      "userId": "16454467692217386609"
     },
     "user_tz": -330
    },
    "id": "b3c8900a",
    "outputId": "ffdf5490-db71-42f5-c9b4-7f5bee691d22"
   },
   "outputs": [
    {
     "data": {
      "text/plain": [
       "Index(['mqtt.conack.flags.reserved', 'mqtt.conack.flags.sp',\n",
       "       'mqtt.conflag.qos', 'mqtt.conflag.reserved', 'mqtt.conflag.retain',\n",
       "       'mqtt.conflag.willflag', 'mqtt.sub.qos', 'mqtt.suback.qos',\n",
       "       'mqtt.willmsg', 'mqtt.willmsg_len', 'mqtt.willtopic',\n",
       "       'mqtt.willtopic_len'],\n",
       "      dtype='object')"
      ]
     },
     "execution_count": 353,
     "metadata": {},
     "output_type": "execute_result"
    }
   ],
   "source": [
    "columns_with_same_val"
   ]
  },
  {
   "cell_type": "code",
   "execution_count": 354,
   "id": "fb1617dd",
   "metadata": {},
   "outputs": [
    {
     "data": {
      "text/plain": [
       "12"
      ]
     },
     "execution_count": 354,
     "metadata": {},
     "output_type": "execute_result"
    }
   ],
   "source": [
    "len(columns_with_same_val)"
   ]
  },
  {
   "cell_type": "code",
   "execution_count": 355,
   "id": "c654e0ee",
   "metadata": {
    "executionInfo": {
     "elapsed": 3,
     "status": "ok",
     "timestamp": 1688847568958,
     "user": {
      "displayName": "Anibrata Pal",
      "userId": "16454467692217386609"
     },
     "user_tz": -330
    },
    "id": "c654e0ee"
   },
   "outputs": [],
   "source": [
    "df = df.drop(columns=columns_with_same_val)"
   ]
  },
  {
   "cell_type": "code",
   "execution_count": 356,
   "id": "4b3c4dab",
   "metadata": {
    "executionInfo": {
     "elapsed": 21,
     "status": "ok",
     "timestamp": 1688847569638,
     "user": {
      "displayName": "Anibrata Pal",
      "userId": "16454467692217386609"
     },
     "user_tz": -330
    },
    "id": "4b3c4dab"
   },
   "outputs": [],
   "source": [
    "columns = df.columns"
   ]
  },
  {
   "cell_type": "code",
   "execution_count": 357,
   "id": "5a266ae3",
   "metadata": {
    "colab": {
     "base_uri": "https://localhost:8080/"
    },
    "executionInfo": {
     "elapsed": 630,
     "status": "ok",
     "timestamp": 1688848101783,
     "user": {
      "displayName": "Anibrata Pal",
      "userId": "16454467692217386609"
     },
     "user_tz": -330
    },
    "id": "5a266ae3",
    "outputId": "8c8e0d5d-8977-407c-e952-4a4b65cd3385"
   },
   "outputs": [
    {
     "name": "stdout",
     "output_type": "stream",
     "text": [
      "Index(['tcp.time_delta', 'tcp.len', 'mqtt.conack.val',\n",
      "       'mqtt.conflag.cleansess', 'mqtt.conflag.passwd', 'mqtt.conflag.uname',\n",
      "       'mqtt.dupflag', 'mqtt.kalive', 'mqtt.len', 'mqtt.msgid', 'mqtt.msgtype',\n",
      "       'mqtt.proto_len', 'mqtt.qos', 'mqtt.retain', 'mqtt.ver', 'target'],\n",
      "      dtype='object')\n"
     ]
    }
   ],
   "source": [
    "print(columns)"
   ]
  },
  {
   "cell_type": "code",
   "execution_count": 358,
   "id": "c0507a0f",
   "metadata": {},
   "outputs": [
    {
     "data": {
      "text/plain": [
       "16"
      ]
     },
     "execution_count": 358,
     "metadata": {},
     "output_type": "execute_result"
    }
   ],
   "source": [
    "columns.shape[0]"
   ]
  },
  {
   "cell_type": "code",
   "execution_count": 359,
   "id": "506a821b",
   "metadata": {
    "colab": {
     "base_uri": "https://localhost:8080/"
    },
    "executionInfo": {
     "elapsed": 9,
     "status": "ok",
     "timestamp": 1688847571553,
     "user": {
      "displayName": "Anibrata Pal",
      "userId": "16454467692217386609"
     },
     "user_tz": -330
    },
    "id": "506a821b",
    "outputId": "36ef1984-d7f6-4d45-e214-124f8f4d3d79"
   },
   "outputs": [
    {
     "name": "stdout",
     "output_type": "stream",
     "text": [
      "tcp.time_delta [9.988670e-01 6.700000e-05 5.800000e-05 ... 1.500562e+00 6.428500e-02\n",
      " 4.988150e-01]\n",
      "tcp.len [   10  1460    16     0    13   112   362     4    72    14     2    66\n",
      "    87   175   106    12     8    85    71    93    94   166    81    89\n",
      "   101    78   100    96    32   102   181    53    61    92    36   168\n",
      "    64    80    69    54   120   176    91    30   172   324  1179   186\n",
      "    24    28    95    83    74   170    86   117   128    65    20   342\n",
      "   173    79   164    44     3   687   103    11   344    29   521    31\n",
      "    75    90   529    59    70   111    97    52    84   336   936    98\n",
      "   180    73   177   124   171   174   517   110   167  1373    48   118\n",
      "    77   116  1041    67   162     5   113    60    40   791    99   178\n",
      "   185   104 32760    63    82   109   673   507   518   114   107   352\n",
      "   105   268    88   509    68    51   339   704   337   146    56    76\n",
      "   861   349   364   108   163   515   858 29664   705   345    55   140\n",
      "   338   184   169   182   848 15248   123  1377   196  1027   683   864\n",
      "   504    50   526   511   513   165   522  1211   867   870   132   690\n",
      "  1017   847   852  1024   343   519   873    57  1031     1   866    47\n",
      "    33   865  1044   256   341   347   514    58   144  1032   192    27\n",
      "  1209  1382    49   136   340   356   353   115   523 32759  1349  1187\n",
      "   506  1365  1026   127   350  1378  1361   851   333   228  1170   500\n",
      "   501   699   348   160   148   856    45  1202   531   183   412 20772\n",
      "   359  1383  1356    62   686   512    46   496   520   296  1009   703\n",
      "   334  1358  1034  1387   328   845   307   676  1019   696  1022  1194\n",
      "   312   284   384   495  1376  1372 30582   608   675  1025   131   361\n",
      "  1370  1205  1011   681   828  1200  1215   693   188   119   122   682\n",
      "   678   862  1174  1036  1007  1207   695   179   354  1204  1198     7\n",
      "  1184   525  1216   528   335   685  1366   684   161   346  1037    18\n",
      "   516   510   665    41   357   372   329  1381  1367   484   692   154\n",
      "   674   320   126    43  1220   355    37  1256   125 17527    38    42\n",
      " 21862   505   236   233   680   248   850  1408   689   860   744  1369\n",
      "   121   671   853   580  1385   691   332  1371  1342   135    17  1028\n",
      "  1226   159   872   688  1039   863  9231   152   694   156  1368  1035\n",
      "   677  1199   849  1002  1188   859 22049   432  1217  6443  1016   708\n",
      "   440   702    15   416  1180   408  1159  1048  1040   498 32512  1015\n",
      "   670  1183  1175   499  1053   881  1208  1195  1357 27828  1196   768\n",
      "  1210 32768   698   880 12510  1192  1355   871   260   351   701   540\n",
      "  1021   524  1018  1379  1023   290   276   844  1008   855  1012  1364\n",
      "  1049   720  1389  1232   533   712  1004  1416  1398 29665  1345  1189\n",
      "  1185  1403   987  1362   846  1336  1051  1038   869 26800  8177   503\n",
      "   292  1033  1359   330   697  1363   129   780   833   187   508  1030\n",
      "  1197  1186 31399   327 26280   468   240  1231  1042   388  1000   875\n",
      "  1414  1354   331   358   157  1219   999   212   137 22608  1407  1020\n",
      "  1343   204    26    21   288   883  2412   669   660   527   640   888\n",
      "    35   155  1201  1350   879  1191  1171 21690   368    19   216   232\n",
      "   668   868   220   874   876 30719   854 32076   887   552    23   992\n",
      "   493   280   145  1206 11645   679  1193   837   497   840   300   667\n",
      "  6372  1351  1029   158  1384   472   878   380  1203    22   839   396\n",
      "  1347   748   139  1390   530  1412   996   532  1374   293    34  1092\n",
      "   360   721  1337  1213   502   842   672  1052 13716  1388  1375 28116\n",
      "  1391   564  1230   208  1182   857  1360  6084 11592  1452  1181  7904\n",
      "   490  1173   662  1259   534   138 32762 21060  1043   244  1221   560\n",
      "  1224  1225  1055  1013   666 11832  1010   262  1169   831   841   404\n",
      "  1397  1352   488  1212  1064   130   657   584  1380   825   272   804\n",
      "   843 24444  1294  3162  1393  1222  1218   436   252   724  1014 28746\n",
      "  1177   494  1401   492   706  1190  1050   448   539   663    39   264\n",
      " 19448  1341  1005  1394  1168   535  1001  1166   537   664   835  4709\n",
      "   604   536  2108   316   133   763   658   829   323  5454   877   134\n",
      " 29852   325  1223  1335   792   736   538   319   480  1214   884 19566\n",
      "  1059   428 27064 14926 10674  1045   200 15980  1340  1428 28985   321\n",
      "   700  1386  1353   752 31500  1047  4248  1426   820   224  1395   326\n",
      "  1348   544  1417   886 17714   989   826  1054   600 23783  4536  1172\n",
      "   836 25992   764 16192 18648  1409 18018  1066  1402   374 27251   834\n",
      " 21369 14058  1100  1254   576  1245  1076  1433   309 13379 10778  9756\n",
      "   772   190 26197   392 19261  1131   784   928  2700 27931 17100  1156\n",
      "   400   149 32418 31788  4029   838   624 28432   376   304   612   616\n",
      "  1152 22729 19854   588   452  9911  1396  1132  1405  1237 30240   998\n",
      "   322   656  1274   424   596]\n",
      "mqtt.conack.val [0. 5.]\n",
      "mqtt.conflag.cleansess [0. 1.]\n",
      "mqtt.conflag.passwd [0. 1.]\n",
      "mqtt.conflag.uname [0. 1.]\n",
      "mqtt.dupflag [0. 1.]\n",
      "mqtt.kalive [0.0000e+00 6.0000e+01 6.5535e+04 2.0000e+00 1.0000e+00 3.0000e+00\n",
      " 2.3400e+02]\n",
      "mqtt.len [  8. 169. 163.   2.   0.  11. 174. 166.  12. 161. 162. 177. 171. 164.\n",
      " 172. 178.  10. 165. 183. 170. 168. 156. 179.  52. 167. 173.  28. 175.\n",
      " 176. 159.  30.   9.  29. 160. 181. 184.  26. 158.  31.  19. 182.  16.\n",
      "  18.  49.  33.   6. 157. 180.  27.  14.   3. 152.  34. 153.  25. 155.\n",
      "  15.  44.  43. 185.  39.  48. 154. 692. 150. 151.  47.  42. 186.  38.\n",
      "  13.   7.  53.  22.  24.  41.  46.  40.  32.  50.  37.  51. 190. 149.\n",
      "  45.  36. 189. 188.  54. 187.  35.  17.]\n",
      "mqtt.msgid [   0. 2714. 1548. ... 9580. 9279. 9787.]\n",
      "mqtt.msgtype [ 3.  4.  0.  2. 13. 12.  1.  9.  5.  8. 14.]\n",
      "mqtt.proto_len [0. 4.]\n",
      "mqtt.qos [0. 1.]\n",
      "mqtt.retain [0. 1.]\n",
      "mqtt.ver [0. 4.]\n",
      "target [-1  1]\n"
     ]
    }
   ],
   "source": [
    "for item in columns:\n",
    "    print(item, df[item].unique())"
   ]
  },
  {
   "cell_type": "code",
   "execution_count": 360,
   "id": "6327c2a1",
   "metadata": {
    "colab": {
     "base_uri": "https://localhost:8080/",
     "height": 270
    },
    "executionInfo": {
     "elapsed": 10,
     "status": "ok",
     "timestamp": 1688847572186,
     "user": {
      "displayName": "Anibrata Pal",
      "userId": "16454467692217386609"
     },
     "user_tz": -330
    },
    "id": "6327c2a1",
    "outputId": "059ba7e2-9674-49b1-8472-d750876f00ec"
   },
   "outputs": [
    {
     "data": {
      "text/html": [
       "<div>\n",
       "<style scoped>\n",
       "    .dataframe tbody tr th:only-of-type {\n",
       "        vertical-align: middle;\n",
       "    }\n",
       "\n",
       "    .dataframe tbody tr th {\n",
       "        vertical-align: top;\n",
       "    }\n",
       "\n",
       "    .dataframe thead th {\n",
       "        text-align: right;\n",
       "    }\n",
       "</style>\n",
       "<table border=\"1\" class=\"dataframe\">\n",
       "  <thead>\n",
       "    <tr style=\"text-align: right;\">\n",
       "      <th></th>\n",
       "      <th>tcp.time_delta</th>\n",
       "      <th>tcp.len</th>\n",
       "      <th>mqtt.conack.val</th>\n",
       "      <th>mqtt.conflag.cleansess</th>\n",
       "      <th>mqtt.conflag.passwd</th>\n",
       "      <th>mqtt.conflag.uname</th>\n",
       "      <th>mqtt.dupflag</th>\n",
       "      <th>mqtt.kalive</th>\n",
       "      <th>mqtt.len</th>\n",
       "      <th>mqtt.msgid</th>\n",
       "      <th>mqtt.msgtype</th>\n",
       "      <th>mqtt.proto_len</th>\n",
       "      <th>mqtt.qos</th>\n",
       "      <th>mqtt.retain</th>\n",
       "      <th>mqtt.ver</th>\n",
       "      <th>target</th>\n",
       "    </tr>\n",
       "  </thead>\n",
       "  <tbody>\n",
       "    <tr>\n",
       "      <th>0</th>\n",
       "      <td>0.998867</td>\n",
       "      <td>10</td>\n",
       "      <td>0.0</td>\n",
       "      <td>0.0</td>\n",
       "      <td>0.0</td>\n",
       "      <td>0.0</td>\n",
       "      <td>0.0</td>\n",
       "      <td>0.0</td>\n",
       "      <td>8.0</td>\n",
       "      <td>0.0</td>\n",
       "      <td>3.0</td>\n",
       "      <td>0.0</td>\n",
       "      <td>0.0</td>\n",
       "      <td>0.0</td>\n",
       "      <td>0.0</td>\n",
       "      <td>-1</td>\n",
       "    </tr>\n",
       "    <tr>\n",
       "      <th>1</th>\n",
       "      <td>0.000067</td>\n",
       "      <td>1460</td>\n",
       "      <td>0.0</td>\n",
       "      <td>0.0</td>\n",
       "      <td>0.0</td>\n",
       "      <td>0.0</td>\n",
       "      <td>0.0</td>\n",
       "      <td>0.0</td>\n",
       "      <td>169.0</td>\n",
       "      <td>2714.0</td>\n",
       "      <td>3.0</td>\n",
       "      <td>0.0</td>\n",
       "      <td>1.0</td>\n",
       "      <td>0.0</td>\n",
       "      <td>0.0</td>\n",
       "      <td>1</td>\n",
       "    </tr>\n",
       "    <tr>\n",
       "      <th>2</th>\n",
       "      <td>0.000058</td>\n",
       "      <td>1460</td>\n",
       "      <td>0.0</td>\n",
       "      <td>0.0</td>\n",
       "      <td>0.0</td>\n",
       "      <td>0.0</td>\n",
       "      <td>0.0</td>\n",
       "      <td>0.0</td>\n",
       "      <td>163.0</td>\n",
       "      <td>1548.0</td>\n",
       "      <td>3.0</td>\n",
       "      <td>0.0</td>\n",
       "      <td>1.0</td>\n",
       "      <td>0.0</td>\n",
       "      <td>0.0</td>\n",
       "      <td>1</td>\n",
       "    </tr>\n",
       "    <tr>\n",
       "      <th>3</th>\n",
       "      <td>0.000227</td>\n",
       "      <td>10</td>\n",
       "      <td>0.0</td>\n",
       "      <td>0.0</td>\n",
       "      <td>0.0</td>\n",
       "      <td>0.0</td>\n",
       "      <td>0.0</td>\n",
       "      <td>0.0</td>\n",
       "      <td>8.0</td>\n",
       "      <td>0.0</td>\n",
       "      <td>3.0</td>\n",
       "      <td>0.0</td>\n",
       "      <td>0.0</td>\n",
       "      <td>0.0</td>\n",
       "      <td>0.0</td>\n",
       "      <td>-1</td>\n",
       "    </tr>\n",
       "    <tr>\n",
       "      <th>4</th>\n",
       "      <td>0.000236</td>\n",
       "      <td>16</td>\n",
       "      <td>0.0</td>\n",
       "      <td>0.0</td>\n",
       "      <td>0.0</td>\n",
       "      <td>0.0</td>\n",
       "      <td>0.0</td>\n",
       "      <td>0.0</td>\n",
       "      <td>2.0</td>\n",
       "      <td>2800.0</td>\n",
       "      <td>4.0</td>\n",
       "      <td>0.0</td>\n",
       "      <td>0.0</td>\n",
       "      <td>0.0</td>\n",
       "      <td>0.0</td>\n",
       "      <td>1</td>\n",
       "    </tr>\n",
       "  </tbody>\n",
       "</table>\n",
       "</div>"
      ],
      "text/plain": [
       "   tcp.time_delta  tcp.len  mqtt.conack.val  mqtt.conflag.cleansess  \\\n",
       "0        0.998867       10              0.0                     0.0   \n",
       "1        0.000067     1460              0.0                     0.0   \n",
       "2        0.000058     1460              0.0                     0.0   \n",
       "3        0.000227       10              0.0                     0.0   \n",
       "4        0.000236       16              0.0                     0.0   \n",
       "\n",
       "   mqtt.conflag.passwd  mqtt.conflag.uname  mqtt.dupflag  mqtt.kalive  \\\n",
       "0                  0.0                 0.0           0.0          0.0   \n",
       "1                  0.0                 0.0           0.0          0.0   \n",
       "2                  0.0                 0.0           0.0          0.0   \n",
       "3                  0.0                 0.0           0.0          0.0   \n",
       "4                  0.0                 0.0           0.0          0.0   \n",
       "\n",
       "   mqtt.len  mqtt.msgid  mqtt.msgtype  mqtt.proto_len  mqtt.qos  mqtt.retain  \\\n",
       "0       8.0         0.0           3.0             0.0       0.0          0.0   \n",
       "1     169.0      2714.0           3.0             0.0       1.0          0.0   \n",
       "2     163.0      1548.0           3.0             0.0       1.0          0.0   \n",
       "3       8.0         0.0           3.0             0.0       0.0          0.0   \n",
       "4       2.0      2800.0           4.0             0.0       0.0          0.0   \n",
       "\n",
       "   mqtt.ver  target  \n",
       "0       0.0      -1  \n",
       "1       0.0       1  \n",
       "2       0.0       1  \n",
       "3       0.0      -1  \n",
       "4       0.0       1  "
      ]
     },
     "execution_count": 360,
     "metadata": {},
     "output_type": "execute_result"
    }
   ],
   "source": [
    "df.head()"
   ]
  },
  {
   "cell_type": "markdown",
   "id": "9c61ac7b",
   "metadata": {
    "id": "9c61ac7b"
   },
   "source": [
    "#### Find out the max values from each column to avoid 'inf' -> infinity value problem"
   ]
  },
  {
   "cell_type": "code",
   "execution_count": 361,
   "id": "23f6dd5a",
   "metadata": {
    "colab": {
     "base_uri": "https://localhost:8080/"
    },
    "executionInfo": {
     "elapsed": 35,
     "status": "ok",
     "timestamp": 1688847577016,
     "user": {
      "displayName": "Anibrata Pal",
      "userId": "16454467692217386609"
     },
     "user_tz": -330
    },
    "id": "23f6dd5a",
    "outputId": "c7cfa1d8-5de4-4346-df7f-bee1c7939d72"
   },
   "outputs": [
    {
     "data": {
      "text/plain": [
       "tcp.time_delta               60.000878\n",
       "tcp.len                   32768.000000\n",
       "mqtt.conack.val               5.000000\n",
       "mqtt.conflag.cleansess        1.000000\n",
       "mqtt.conflag.passwd           1.000000\n",
       "mqtt.conflag.uname            1.000000\n",
       "mqtt.dupflag                  1.000000\n",
       "mqtt.kalive               65535.000000\n",
       "mqtt.len                    692.000000\n",
       "mqtt.msgid                10000.000000\n",
       "mqtt.msgtype                 14.000000\n",
       "mqtt.proto_len                4.000000\n",
       "mqtt.qos                      1.000000\n",
       "mqtt.retain                   1.000000\n",
       "mqtt.ver                      4.000000\n",
       "target                        1.000000\n",
       "dtype: float64"
      ]
     },
     "execution_count": 361,
     "metadata": {},
     "output_type": "execute_result"
    }
   ],
   "source": [
    "df.max(axis=0)"
   ]
  },
  {
   "cell_type": "markdown",
   "id": "1120739a",
   "metadata": {
    "id": "1120739a"
   },
   "source": [
    "#### Replacing Infinity values with NaN"
   ]
  },
  {
   "cell_type": "code",
   "execution_count": null,
   "id": "a8ca8c2b",
   "metadata": {
    "id": "a8ca8c2b"
   },
   "outputs": [],
   "source": [
    "#df.replace([np.inf, -np.inf], np.nan, inplace=True)"
   ]
  },
  {
   "cell_type": "markdown",
   "id": "bcdb7bd7",
   "metadata": {
    "id": "bcdb7bd7"
   },
   "source": [
    "#### Imputing using median for outliers"
   ]
  },
  {
   "cell_type": "code",
   "execution_count": null,
   "id": "2e2da2dd",
   "metadata": {
    "id": "2e2da2dd"
   },
   "outputs": [],
   "source": [
    "#df.fillna(df.median(), inplace=True)"
   ]
  },
  {
   "cell_type": "markdown",
   "id": "4a5b297c",
   "metadata": {
    "id": "4a5b297c"
   },
   "source": [
    "#### Separate Dependent and Independent columns"
   ]
  },
  {
   "cell_type": "code",
   "execution_count": 362,
   "id": "28e4acc0",
   "metadata": {
    "executionInfo": {
     "elapsed": 31,
     "status": "ok",
     "timestamp": 1688847585810,
     "user": {
      "displayName": "Anibrata Pal",
      "userId": "16454467692217386609"
     },
     "user_tz": -330
    },
    "id": "28e4acc0"
   },
   "outputs": [],
   "source": [
    "shp = df.shape\n",
    "cols = list(df.columns.values)"
   ]
  },
  {
   "cell_type": "code",
   "execution_count": 363,
   "id": "98c3dc7a",
   "metadata": {
    "executionInfo": {
     "elapsed": 25,
     "status": "ok",
     "timestamp": 1688847587844,
     "user": {
      "displayName": "Anibrata Pal",
      "userId": "16454467692217386609"
     },
     "user_tz": -330
    },
    "id": "98c3dc7a"
   },
   "outputs": [],
   "source": [
    "X = df[cols[0:shp[1]-1]]"
   ]
  },
  {
   "cell_type": "code",
   "execution_count": 364,
   "id": "29870aeb",
   "metadata": {
    "executionInfo": {
     "elapsed": 4,
     "status": "ok",
     "timestamp": 1688847588785,
     "user": {
      "displayName": "Anibrata Pal",
      "userId": "16454467692217386609"
     },
     "user_tz": -330
    },
    "id": "29870aeb"
   },
   "outputs": [],
   "source": [
    "y = df['target']"
   ]
  },
  {
   "cell_type": "code",
   "execution_count": 263,
   "id": "2ebc6523",
   "metadata": {
    "colab": {
     "base_uri": "https://localhost:8080/"
    },
    "executionInfo": {
     "elapsed": 11,
     "status": "ok",
     "timestamp": 1688847590163,
     "user": {
      "displayName": "Anibrata Pal",
      "userId": "16454467692217386609"
     },
     "user_tz": -330
    },
    "id": "2ebc6523",
    "outputId": "8bbe28b5-c860-4e83-ba4b-0bb695d85100"
   },
   "outputs": [
    {
     "data": {
      "text/plain": [
       "(   FC1_Read_Input_Register  FC2_Read_Discrete_Value  \\\n",
       " 0                    53287                     1463   \n",
       " 1                    41029                    55891   \n",
       " 2                    41029                    55891   \n",
       " 3                    64661                    40232   \n",
       " 4                    64661                    40232   \n",
       " \n",
       "    FC3_Read_Holding_Register  FC4_Read_Coil  \n",
       " 0                      33518          23014  \n",
       " 1                      26004          50645  \n",
       " 2                      26004          50645  \n",
       " 3                      33460          44046  \n",
       " 4                      33460          44046  ,\n",
       " 0   -1\n",
       " 1   -1\n",
       " 2   -1\n",
       " 3   -1\n",
       " 4   -1\n",
       " Name: label, dtype: int64)"
      ]
     },
     "execution_count": 263,
     "metadata": {},
     "output_type": "execute_result"
    }
   ],
   "source": [
    "X.head(), y.head()"
   ]
  },
  {
   "cell_type": "code",
   "execution_count": 365,
   "id": "a9360843",
   "metadata": {},
   "outputs": [
    {
     "data": {
      "text/plain": [
       "15"
      ]
     },
     "execution_count": 365,
     "metadata": {},
     "output_type": "execute_result"
    }
   ],
   "source": [
    "X.shape[1]"
   ]
  },
  {
   "cell_type": "code",
   "execution_count": 366,
   "id": "c0aa9b75",
   "metadata": {},
   "outputs": [
    {
     "data": {
      "text/plain": [
       "330936"
      ]
     },
     "execution_count": 366,
     "metadata": {},
     "output_type": "execute_result"
    }
   ],
   "source": [
    "y.shape[0]"
   ]
  },
  {
   "cell_type": "markdown",
   "id": "6f293653",
   "metadata": {
    "id": "6f293653"
   },
   "source": [
    "### Feature selection using PCA"
   ]
  },
  {
   "cell_type": "markdown",
   "id": "1c5d7a3c",
   "metadata": {
    "id": "1c5d7a3c"
   },
   "source": [
    "#### Clear memory by clearing variables"
   ]
  },
  {
   "cell_type": "code",
   "execution_count": null,
   "id": "775fadb8",
   "metadata": {
    "id": "775fadb8"
   },
   "outputs": [],
   "source": [
    "# %reset"
   ]
  },
  {
   "cell_type": "markdown",
   "id": "41c61761",
   "metadata": {
    "id": "41c61761"
   },
   "source": [
    "#### Preprocess the data by scaling the features"
   ]
  },
  {
   "cell_type": "code",
   "execution_count": 369,
   "id": "3e01de52",
   "metadata": {
    "executionInfo": {
     "elapsed": 624,
     "status": "ok",
     "timestamp": 1688847601425,
     "user": {
      "displayName": "Anibrata Pal",
      "userId": "16454467692217386609"
     },
     "user_tz": -330
    },
    "id": "3e01de52"
   },
   "outputs": [],
   "source": [
    "# scaler = StandardScaler()\n",
    "# X = scaler.fit_transform(X)\n",
    "\n",
    "# Use MinMaxScaler\n",
    "scaler = MinMaxScaler()\n",
    "scaled_X = scaler.fit_transform(X)"
   ]
  },
  {
   "cell_type": "code",
   "execution_count": 370,
   "id": "35c1ea4b",
   "metadata": {
    "colab": {
     "base_uri": "https://localhost:8080/"
    },
    "executionInfo": {
     "elapsed": 23,
     "status": "ok",
     "timestamp": 1688846932042,
     "user": {
      "displayName": "Anibrata Pal",
      "userId": "16454467692217386609"
     },
     "user_tz": -330
    },
    "id": "35c1ea4b",
    "outputId": "42875e37-f310-456c-e5a7-684be4f71a2c"
   },
   "outputs": [
    {
     "data": {
      "text/plain": [
       "array([[1.66475725e-02, 3.05175781e-04, 0.00000000e+00, ...,\n",
       "        0.00000000e+00, 0.00000000e+00, 0.00000000e+00],\n",
       "       [1.14998313e-06, 4.45556641e-02, 0.00000000e+00, ...,\n",
       "        1.00000000e+00, 0.00000000e+00, 0.00000000e+00],\n",
       "       [9.99985334e-07, 4.45556641e-02, 0.00000000e+00, ...,\n",
       "        1.00000000e+00, 0.00000000e+00, 0.00000000e+00],\n",
       "       ...,\n",
       "       [1.77497397e-05, 0.00000000e+00, 0.00000000e+00, ...,\n",
       "        0.00000000e+00, 0.00000000e+00, 0.00000000e+00],\n",
       "       [4.66659822e-07, 0.00000000e+00, 0.00000000e+00, ...,\n",
       "        0.00000000e+00, 0.00000000e+00, 0.00000000e+00],\n",
       "       [3.33328445e-08, 0.00000000e+00, 0.00000000e+00, ...,\n",
       "        0.00000000e+00, 0.00000000e+00, 0.00000000e+00]])"
      ]
     },
     "execution_count": 370,
     "metadata": {},
     "output_type": "execute_result"
    }
   ],
   "source": [
    "scaled_X"
   ]
  },
  {
   "cell_type": "markdown",
   "id": "a67949bc",
   "metadata": {
    "id": "a67949bc"
   },
   "source": [
    "#### Perform PCA"
   ]
  },
  {
   "cell_type": "code",
   "execution_count": 371,
   "id": "fc1b5cdb",
   "metadata": {
    "colab": {
     "base_uri": "https://localhost:8080/",
     "height": 75
    },
    "executionInfo": {
     "elapsed": 732,
     "status": "ok",
     "timestamp": 1688846936398,
     "user": {
      "displayName": "Anibrata Pal",
      "userId": "16454467692217386609"
     },
     "user_tz": -330
    },
    "id": "fc1b5cdb",
    "outputId": "852dcbde-8b0a-485f-c00b-9b5256acf802"
   },
   "outputs": [
    {
     "data": {
      "text/plain": [
       "PCA()"
      ]
     },
     "execution_count": 371,
     "metadata": {},
     "output_type": "execute_result"
    }
   ],
   "source": [
    "pca = PCA()\n",
    "pca.fit(scaled_X)"
   ]
  },
  {
   "cell_type": "code",
   "execution_count": 372,
   "id": "b5abd06b",
   "metadata": {
    "colab": {
     "base_uri": "https://localhost:8080/",
     "height": 472
    },
    "executionInfo": {
     "elapsed": 9,
     "status": "ok",
     "timestamp": 1688846939468,
     "user": {
      "displayName": "Anibrata Pal",
      "userId": "16454467692217386609"
     },
     "user_tz": -330
    },
    "id": "b5abd06b",
    "outputId": "39e58fce-61d7-48e7-a19f-04cb57c1cc84"
   },
   "outputs": [
    {
     "data": {
      "image/png": "[encoded data removed]",
      "text/plain": [
       "<Figure size 432x288 with 1 Axes>"
      ]
     },
     "metadata": {
      "needs_background": "light"
     },
     "output_type": "display_data"
    }
   ],
   "source": [
    "explained_variance = pca.explained_variance_ratio_\n",
    "cumulative_variance = np.cumsum(explained_variance)\n",
    "\n",
    "plt.plot(range(1, len(explained_variance) + 1), cumulative_variance, marker='o')\n",
    "plt.xlabel('Number of Components')\n",
    "plt.ylabel('Cumulative Explained Variance')\n",
    "plt.title('Explained Variance vs. Number of Components')\n",
    "plt.show()"
   ]
  },
  {
   "cell_type": "markdown",
   "id": "ca59fd2d",
   "metadata": {
    "id": "ca59fd2d"
   },
   "source": [
    "#### Finding the best number of components by Elbow method"
   ]
  },
  {
   "cell_type": "code",
   "execution_count": 373,
   "id": "a124ad32",
   "metadata": {
    "colab": {
     "base_uri": "https://localhost:8080/"
    },
    "executionInfo": {
     "elapsed": 717,
     "status": "ok",
     "timestamp": 1688846944176,
     "user": {
      "displayName": "Anibrata Pal",
      "userId": "16454467692217386609"
     },
     "user_tz": -330
    },
    "id": "a124ad32",
    "outputId": "77bfca97-2e2e-43c9-8dd2-14a0e0e661de"
   },
   "outputs": [
    {
     "name": "stdout",
     "output_type": "stream",
     "text": [
      "Number of components at the elbow point: 14\n"
     ]
    }
   ],
   "source": [
    "# Calculate the difference in explained variance between components\n",
    "explained_variance_diff = np.diff(explained_variance)\n",
    "\n",
    "# Find the index of the elbow point (maximum difference)\n",
    "elbow_index = np.argmax(explained_variance_diff) + 1\n",
    "\n",
    "print(\"Number of components at the elbow point:\", elbow_index)"
   ]
  },
  {
   "cell_type": "markdown",
   "id": "15024def",
   "metadata": {
    "id": "15024def"
   },
   "source": [
    "#### Find the best number of components by the Threshold method"
   ]
  },
  {
   "cell_type": "code",
   "execution_count": 375,
   "id": "63f274ed",
   "metadata": {
    "colab": {
     "base_uri": "https://localhost:8080/",
     "height": 489
    },
    "executionInfo": {
     "elapsed": 1091,
     "status": "ok",
     "timestamp": 1688846947529,
     "user": {
      "displayName": "Anibrata Pal",
      "userId": "16454467692217386609"
     },
     "user_tz": -330
    },
    "id": "63f274ed",
    "outputId": "04563935-3143-4d31-c6e5-995bf7ecf2f9"
   },
   "outputs": [
    {
     "data": {
      "image/png": "[encoded data removed]",
      "text/plain": [
       "<Figure size 432x288 with 1 Axes>"
      ]
     },
     "metadata": {
      "needs_background": "light"
     },
     "output_type": "display_data"
    },
    {
     "name": "stdout",
     "output_type": "stream",
     "text": [
      "Number of components above the threshold: 13\n"
     ]
    }
   ],
   "source": [
    "threshold = 1  # Define the desired threshold (e.g., 99% variance explained)\n",
    "\n",
    "# Find the number of components above the threshold\n",
    "n_components = np.argmax(cumulative_variance >= threshold) + 1\n",
    "\n",
    "# Plot the threshold line\n",
    "plt.plot(range(1, len(explained_variance) + 1), cumulative_variance, marker='o')\n",
    "plt.axhline(y=threshold, color='r', linestyle='--')\n",
    "plt.xlabel('Number of Components')\n",
    "plt.ylabel('Cumulative Explained Variance')\n",
    "plt.title('Explained Variance vs. Number of Components')\n",
    "plt.show()\n",
    "\n",
    "print(\"Number of components above the threshold:\", n_components)"
   ]
  },
  {
   "cell_type": "markdown",
   "id": "bb9d2951",
   "metadata": {
    "id": "bb9d2951"
   },
   "source": [
    "#### From the above mentioned statistical analysis, we see that including more or less 20 components is enough for a variance that levels off"
   ]
  },
  {
   "cell_type": "code",
   "execution_count": 181,
   "id": "2ab046a5",
   "metadata": {
    "executionInfo": {
     "elapsed": 605,
     "status": "ok",
     "timestamp": 1688847609317,
     "user": {
      "displayName": "Anibrata Pal",
      "userId": "16454467692217386609"
     },
     "user_tz": -330
    },
    "id": "2ab046a5"
   },
   "outputs": [],
   "source": [
    "n_components = 2  # Choose the desired number of components\n",
    "pca = PCA(n_components=n_components)\n",
    "X_pca = pca.fit_transform(scaled_X)"
   ]
  },
  {
   "cell_type": "markdown",
   "id": "af8ab2cb",
   "metadata": {
    "id": "af8ab2cb"
   },
   "source": [
    "#### Number of Components with impactful positive correlation = 14"
   ]
  },
  {
   "cell_type": "code",
   "execution_count": 182,
   "id": "409c7d2c",
   "metadata": {
    "executionInfo": {
     "elapsed": 617,
     "status": "ok",
     "timestamp": 1688847613605,
     "user": {
      "displayName": "Anibrata Pal",
      "userId": "16454467692217386609"
     },
     "user_tz": -330
    },
    "id": "409c7d2c"
   },
   "outputs": [],
   "source": [
    "y_pca = y.values.ravel()"
   ]
  },
  {
   "cell_type": "code",
   "execution_count": 183,
   "id": "f07bc274",
   "metadata": {
    "colab": {
     "base_uri": "https://localhost:8080/"
    },
    "executionInfo": {
     "elapsed": 4,
     "status": "ok",
     "timestamp": 1688847615862,
     "user": {
      "displayName": "Anibrata Pal",
      "userId": "16454467692217386609"
     },
     "user_tz": -330
    },
    "id": "f07bc274",
    "outputId": "74350159-e236-43a6-c62d-338f3f5bf331"
   },
   "outputs": [
    {
     "data": {
      "text/plain": [
       "(array([[-0.42632787, -0.23080991],\n",
       "        [ 0.15530717,  0.39826065],\n",
       "        [ 0.15530717,  0.39826065],\n",
       "        ...,\n",
       "        [-0.08393787,  0.45256041],\n",
       "        [-0.08393787,  0.45256041],\n",
       "        [ 0.32964739, -0.02267977]]),\n",
       " array([-1, -1, -1, ..., -1, -1, -1]))"
      ]
     },
     "execution_count": 183,
     "metadata": {},
     "output_type": "execute_result"
    }
   ],
   "source": [
    "X_pca, y_pca"
   ]
  },
  {
   "cell_type": "code",
   "execution_count": null,
   "id": "ecebfcf1",
   "metadata": {
    "id": "ecebfcf1"
   },
   "outputs": [],
   "source": [
    "# for n_components in range(1,25):\n",
    "#    pca = PCA(n_components=n_components)\n",
    "#    X_pca = pca.fit_transform(scaled_X)"
   ]
  },
  {
   "cell_type": "code",
   "execution_count": null,
   "id": "1da84a4d",
   "metadata": {
    "id": "1da84a4d"
   },
   "outputs": [],
   "source": [
    "# Delete variable\n",
    "# del val"
   ]
  },
  {
   "cell_type": "markdown",
   "id": "cd3d92ff",
   "metadata": {
    "id": "cd3d92ff"
   },
   "source": [
    "#### The part below is for checking the recall based on the the number of k neighbors used in SMOTE oversampling"
   ]
  },
  {
   "cell_type": "code",
   "execution_count": null,
   "id": "76635f27",
   "metadata": {
    "id": "76635f27"
   },
   "outputs": [],
   "source": [
    "# NOT NEEDED\n",
    "# values to evaluate\n",
    "# k_values = [1, 2, 3, 4, 5, 6, 7]\n",
    "# for k in k_values:\n",
    "#     # define pipeline\n",
    "#     model = DecisionTreeClassifier()\n",
    "#     over = SMOTE(sampling_strategy=0.1, k_neighbors=k)\n",
    "#     under = RandomUnderSampler(sampling_strategy=0.5)\n",
    "#     steps = [('over', over), ('under', under), ('model', model)]\n",
    "#     pipeline = Pipeline(steps=steps)\n",
    "#     # evaluate pipeline\n",
    "#     cv = RepeatedStratifiedKFold(n_splits=10, n_repeats=3, random_state=1)\n",
    "#     scores = cross_val_score(pipeline, X_pca, y, scoring='recall', cv=cv, n_jobs=-1)\n",
    "#     score = mean(scores)\n",
    "#     print('> k=%d, Mean Recall: %.3f' % (k, score))"
   ]
  },
  {
   "cell_type": "markdown",
   "id": "48759e45",
   "metadata": {
    "id": "48759e45"
   },
   "source": [
    "#### The code below uses the QBoost to find out good parameters for oversampling, and undersampling"
   ]
  },
  {
   "cell_type": "code",
   "execution_count": 264,
   "id": "7a890f41",
   "metadata": {
    "id": "7a890f41"
   },
   "outputs": [],
   "source": [
    "def trainQboost(x, y):\n",
    "    print('Training QBOOST Model... ')\n",
    "    qboost = QBoostClassifier(n_estimators=NUM_WEAK_CLASSIFIERS, max_depth=TREE_DEPTH)\n",
    "    start = timer()\n",
    "    qboost.fit(x, y, emb_sampler, lmd=lmd, **DW_PARAMS)\n",
    "    end = timer()\n",
    "    train_time = end - start\n",
    "    print('QBoost training time in seconds :', train_time)\n",
    "    return qboost, train_time"
   ]
  },
  {
   "cell_type": "code",
   "execution_count": 265,
   "id": "1d171fa5",
   "metadata": {
    "executionInfo": {
     "elapsed": 55,
     "status": "ok",
     "timestamp": 1688847623651,
     "user": {
      "displayName": "Anibrata Pal",
      "userId": "16454467692217386609"
     },
     "user_tz": -330
    },
    "id": "1d171fa5"
   },
   "outputs": [],
   "source": [
    "def predictModel(model, x):\n",
    "    print('Prediction on model :', model)\n",
    "    start = timer()\n",
    "    predictions = model.predict(x)\n",
    "    end = timer()\n",
    "    predict_time = end - start\n",
    "    return predictions, predict_time"
   ]
  },
  {
   "cell_type": "code",
   "execution_count": 266,
   "id": "560239f6",
   "metadata": {
    "colab": {
     "base_uri": "https://localhost:8080/",
     "height": 237
    },
    "executionInfo": {
     "elapsed": 13,
     "status": "error",
     "timestamp": 1688830353187,
     "user": {
      "displayName": "Anibrata Pal",
      "userId": "16454467692217386609"
     },
     "user_tz": -330
    },
    "id": "560239f6",
    "outputId": "7781edf0-6376-4fbd-8e66-a55b21bad30f"
   },
   "outputs": [],
   "source": [
    "# QBoost Parameters and Variables\n",
    "DW_PARAMS = {'num_reads': 3000,\n",
    "             'auto_scale': True,\n",
    "             # \"answer_mode\": \"histogram\",\n",
    "             'num_spin_reversal_transforms': 10,\n",
    "             # 'annealing_time': 10,\n",
    "             # 'postprocess': 'optimization',\n",
    "             }\n",
    "NUM_WEAK_CLASSIFIERS = 35\n",
    "TREE_DEPTH = 3\n",
    "# dwave_sampler = DWaveSampler(token=\"DEV-98f903479d1e03bc59d7ba92376a492f76f7c906\")  # anibrata.pal@uniba.it\n",
    "dwave_sampler = DWaveSampler(token=\"DEV-68adb3eb159f7d774b2744b76f46444f8faa1ac5\")  # ahanamaitra01@gmail.com\n",
    "# sa_sampler = micro.dimod.SimulatedAnnealingSampler()\n",
    "emb_sampler = EmbeddingComposite(dwave_sampler)\n",
    "lmd = 0.5"
   ]
  },
  {
   "cell_type": "code",
   "execution_count": 188,
   "id": "95fd6908",
   "metadata": {
    "colab": {
     "base_uri": "https://localhost:8080/"
    },
    "executionInfo": {
     "elapsed": 1135,
     "status": "ok",
     "timestamp": 1688846980951,
     "user": {
      "displayName": "Anibrata Pal",
      "userId": "16454467692217386609"
     },
     "user_tz": -330
    },
    "id": "95fd6908",
    "outputId": "d048cc60-53ce-4a8c-eb29-b7f8075d05f8"
   },
   "outputs": [
    {
     "data": {
      "text/plain": [
       "array([-1, -1, -1, ..., -1, -1, -1])"
      ]
     },
     "execution_count": 188,
     "metadata": {},
     "output_type": "execute_result"
    }
   ],
   "source": [
    "y_pca"
   ]
  },
  {
   "cell_type": "code",
   "execution_count": 272,
   "id": "cf15521d",
   "metadata": {},
   "outputs": [],
   "source": [
    "x_train, x_test, y_train, y_test = train_test_split(scaled_X, y, test_size=0.3, shuffle=True, random_state=42)"
   ]
  },
  {
   "cell_type": "code",
   "execution_count": 273,
   "id": "d5686c07",
   "metadata": {},
   "outputs": [
    {
     "data": {
      "text/plain": [
       "(array([[0.60915874, 0.61954681, 0.55786984, 0.77520409],\n",
       "        [0.54316146, 0.9183032 , 0.79215686, 0.30725566],\n",
       "        [0.68100041, 0.67685969, 0.83851377, 0.11132982],\n",
       "        ...,\n",
       "        [0.8725375 , 0.43569085, 0.20099184, 0.81274128],\n",
       "        [0.17977202, 0.54076448, 0.90440223, 0.73821622],\n",
       "        [0.3889033 , 0.52014954, 0.78733501, 0.50222019]]),\n",
       " array([[0.86728824, 0.85293355, 0.90890364, 0.50843061],\n",
       "        [0.14682679, 0.1560235 , 0.85134661, 0.51091783],\n",
       "        [0.30071872, 0.19575799, 0.84097047, 0.01155108],\n",
       "        ...,\n",
       "        [0.09048876, 0.44150454, 0.29721523, 0.28534371],\n",
       "        [0.96653594, 0.94502174, 0.17494469, 0.93806363],\n",
       "        [0.48285597, 0.82023346, 0.71093309, 0.22603189]]),\n",
       " array([-1, -1, -1, ..., -1, -1,  1]),\n",
       " array([ 1, -1, -1, ..., -1, -1, -1]))"
      ]
     },
     "execution_count": 273,
     "metadata": {},
     "output_type": "execute_result"
    }
   ],
   "source": [
    "x_train, x_test, y_train, y_test"
   ]
  },
  {
   "cell_type": "code",
   "execution_count": 267,
   "id": "03ad0eed",
   "metadata": {},
   "outputs": [],
   "source": [
    "y = y.values.ravel()"
   ]
  },
  {
   "cell_type": "code",
   "execution_count": 269,
   "id": "7ed6f493",
   "metadata": {},
   "outputs": [
    {
     "data": {
      "text/plain": [
       "array([-1, -1, -1, ..., -1, -1, -1])"
      ]
     },
     "execution_count": 269,
     "metadata": {},
     "output_type": "execute_result"
    }
   ],
   "source": [
    "y"
   ]
  },
  {
   "cell_type": "code",
   "execution_count": null,
   "id": "f162d152",
   "metadata": {},
   "outputs": [],
   "source": [
    "x_train, x_test, y_train, y_test = train_test_split(X_pca, y_pca, test_size=0.3, shuffle=True, random_state=42)"
   ]
  },
  {
   "cell_type": "code",
   "execution_count": 241,
   "id": "0cd89fcc",
   "metadata": {},
   "outputs": [
    {
     "data": {
      "text/plain": [
       "86159"
      ]
     },
     "execution_count": 241,
     "metadata": {},
     "output_type": "execute_result"
    }
   ],
   "source": [
    "len(x_test)"
   ]
  },
  {
   "cell_type": "code",
   "execution_count": 242,
   "id": "d4820675",
   "metadata": {},
   "outputs": [
    {
     "data": {
      "text/plain": [
       "86159"
      ]
     },
     "execution_count": 242,
     "metadata": {},
     "output_type": "execute_result"
    }
   ],
   "source": [
    "len(y_test)"
   ]
  },
  {
   "cell_type": "code",
   "execution_count": 243,
   "id": "f602ddf9",
   "metadata": {},
   "outputs": [
    {
     "data": {
      "text/plain": [
       "(array([-1,  1]), array([156013,  45022]))"
      ]
     },
     "execution_count": 243,
     "metadata": {},
     "output_type": "execute_result"
    }
   ],
   "source": [
    "np.unique(y_train, return_counts=True)"
   ]
  },
  {
   "cell_type": "code",
   "execution_count": 228,
   "id": "d1f2495b",
   "metadata": {},
   "outputs": [],
   "source": [
    "over = SMOTE(sampling_strategy=0.5, k_neighbors=10)"
   ]
  },
  {
   "cell_type": "code",
   "execution_count": 245,
   "id": "f41a7b25",
   "metadata": {},
   "outputs": [],
   "source": [
    "under = RandomUnderSampler(sampling_strategy=0.5)"
   ]
  },
  {
   "cell_type": "code",
   "execution_count": 230,
   "id": "2f51fc84",
   "metadata": {},
   "outputs": [],
   "source": [
    "X, y = over.fit_resample(X_pca, y_pca)"
   ]
  },
  {
   "cell_type": "code",
   "execution_count": 246,
   "id": "c556cf4d",
   "metadata": {},
   "outputs": [],
   "source": [
    "X, y = under.fit_resample(x_train, y_train)"
   ]
  },
  {
   "cell_type": "code",
   "execution_count": 247,
   "id": "9df1ab34",
   "metadata": {},
   "outputs": [
    {
     "data": {
      "text/plain": [
       "135066"
      ]
     },
     "execution_count": 247,
     "metadata": {},
     "output_type": "execute_result"
    }
   ],
   "source": [
    "len(X)"
   ]
  },
  {
   "cell_type": "code",
   "execution_count": 248,
   "id": "68be2942",
   "metadata": {},
   "outputs": [
    {
     "data": {
      "text/plain": [
       "135066"
      ]
     },
     "execution_count": 248,
     "metadata": {},
     "output_type": "execute_result"
    }
   ],
   "source": [
    "len(y)"
   ]
  },
  {
   "cell_type": "code",
   "execution_count": 278,
   "id": "1126da1f",
   "metadata": {},
   "outputs": [
    {
     "data": {
      "text/plain": [
       "array([[0.60915874, 0.61954681, 0.55786984, 0.77520409],\n",
       "       [0.54316146, 0.9183032 , 0.79215686, 0.30725566],\n",
       "       [0.68100041, 0.67685969, 0.83851377, 0.11132982],\n",
       "       ...,\n",
       "       [0.8725375 , 0.43569085, 0.20099184, 0.81274128],\n",
       "       [0.17977202, 0.54076448, 0.90440223, 0.73821622],\n",
       "       [0.3889033 , 0.52014954, 0.78733501, 0.50222019]])"
      ]
     },
     "execution_count": 278,
     "metadata": {},
     "output_type": "execute_result"
    }
   ],
   "source": [
    "x_train"
   ]
  },
  {
   "cell_type": "code",
   "execution_count": 275,
   "id": "d5e393c5",
   "metadata": {},
   "outputs": [
    {
     "data": {
      "text/plain": [
       "(array([-1,  1]), array([156013,  45022]))"
      ]
     },
     "execution_count": 275,
     "metadata": {},
     "output_type": "execute_result"
    }
   ],
   "source": [
    "np.unique(y_train, return_counts=True)"
   ]
  },
  {
   "cell_type": "code",
   "execution_count": 274,
   "id": "0bab8fac",
   "metadata": {},
   "outputs": [
    {
     "name": "stdout",
     "output_type": "stream",
     "text": [
      "Training QBOOST Model... \n",
      "QBoost training time in seconds : 15.252615927995066\n",
      "Prediction on model : <qboost.qboost.QBoostClassifier object at 0x7fc6444cb430>\n",
      "Precision: 0.889, Recall: 0.000, F1_score: 0.001, Training Time: 15.25, Prediction Time: 0.058355\n"
     ]
    }
   ],
   "source": [
    "model, train_time = trainQboost(x_train, y_train)\n",
    "predictions, predict_time = predictModel(model, x_test)\n",
    "# print('Training Time: %.2f, Prediction Time: %2f' % (train_time, predict_time))\n",
    "# Calculate precision\n",
    "precision = precision_score(y_test, predictions)\n",
    "# Calculate recall\n",
    "recall = recall_score(y_test, predictions)\n",
    "# Calculate F1-score\n",
    "f1 = f1_score(y_test, predictions)\n",
    "print('Precision: %.3f, Recall: %.3f, F1_score: %.3f, Training Time: %.2f, Prediction Time: %2f' \n",
    "      % (precision, recall, f1, train_time, predict_time))"
   ]
  },
  {
   "cell_type": "code",
   "execution_count": 252,
   "id": "e05b19b0",
   "metadata": {},
   "outputs": [
    {
     "name": "stdout",
     "output_type": "stream",
     "text": [
      "Prediction on model : <qboost.qboost.QBoostClassifier object at 0x7fc611de5700>\n"
     ]
    }
   ],
   "source": [
    "predictions, predict_time = predictModel(model, x_test)"
   ]
  },
  {
   "cell_type": "code",
   "execution_count": 258,
   "id": "49dbf5c0",
   "metadata": {},
   "outputs": [
    {
     "name": "stdout",
     "output_type": "stream",
     "text": [
      "0.3465346534653465\n"
     ]
    }
   ],
   "source": [
    "print(precision_score(y_test, predictions))"
   ]
  },
  {
   "cell_type": "code",
   "execution_count": 257,
   "id": "5e94d7dd",
   "metadata": {},
   "outputs": [
    {
     "name": "stdout",
     "output_type": "stream",
     "text": [
      "0.0018118755500336492\n"
     ]
    }
   ],
   "source": [
    "print(recall_score(y_test, predictions))"
   ]
  },
  {
   "cell_type": "code",
   "execution_count": 260,
   "id": "7a9bc6c2",
   "metadata": {},
   "outputs": [
    {
     "name": "stdout",
     "output_type": "stream",
     "text": [
      "0.0036049026676279743\n"
     ]
    }
   ],
   "source": [
    "print(f1_score(y_test, predictions))"
   ]
  },
  {
   "cell_type": "code",
   "execution_count": null,
   "id": "e46808d1",
   "metadata": {},
   "outputs": [],
   "source": []
  },
  {
   "cell_type": "code",
   "execution_count": 292,
   "id": "91d658c3",
   "metadata": {},
   "outputs": [
    {
     "ename": "KeyError",
     "evalue": "'label'",
     "output_type": "error",
     "traceback": [
      "\u001b[0;31m---------------------------------------------------------------------------\u001b[0m",
      "\u001b[0;31mKeyError\u001b[0m                                  Traceback (most recent call last)",
      "File \u001b[0;32m~/anaconda3/lib/python3.9/site-packages/pandas/core/indexes/base.py:3621\u001b[0m, in \u001b[0;36mIndex.get_loc\u001b[0;34m(self, key, method, tolerance)\u001b[0m\n\u001b[1;32m   3620\u001b[0m \u001b[38;5;28;01mtry\u001b[39;00m:\n\u001b[0;32m-> 3621\u001b[0m     \u001b[38;5;28;01mreturn\u001b[39;00m \u001b[38;5;28;43mself\u001b[39;49m\u001b[38;5;241;43m.\u001b[39;49m\u001b[43m_engine\u001b[49m\u001b[38;5;241;43m.\u001b[39;49m\u001b[43mget_loc\u001b[49m\u001b[43m(\u001b[49m\u001b[43mcasted_key\u001b[49m\u001b[43m)\u001b[49m\n\u001b[1;32m   3622\u001b[0m \u001b[38;5;28;01mexcept\u001b[39;00m \u001b[38;5;167;01mKeyError\u001b[39;00m \u001b[38;5;28;01mas\u001b[39;00m err:\n",
      "File \u001b[0;32m~/anaconda3/lib/python3.9/site-packages/pandas/_libs/index.pyx:136\u001b[0m, in \u001b[0;36mpandas._libs.index.IndexEngine.get_loc\u001b[0;34m()\u001b[0m\n",
      "File \u001b[0;32m~/anaconda3/lib/python3.9/site-packages/pandas/_libs/index.pyx:163\u001b[0m, in \u001b[0;36mpandas._libs.index.IndexEngine.get_loc\u001b[0;34m()\u001b[0m\n",
      "File \u001b[0;32mpandas/_libs/hashtable_class_helper.pxi:5198\u001b[0m, in \u001b[0;36mpandas._libs.hashtable.PyObjectHashTable.get_item\u001b[0;34m()\u001b[0m\n",
      "File \u001b[0;32mpandas/_libs/hashtable_class_helper.pxi:5206\u001b[0m, in \u001b[0;36mpandas._libs.hashtable.PyObjectHashTable.get_item\u001b[0;34m()\u001b[0m\n",
      "\u001b[0;31mKeyError\u001b[0m: 'label'",
      "\nThe above exception was the direct cause of the following exception:\n",
      "\u001b[0;31mKeyError\u001b[0m                                  Traceback (most recent call last)",
      "Input \u001b[0;32mIn [292]\u001b[0m, in \u001b[0;36m<cell line: 1>\u001b[0;34m()\u001b[0m\n\u001b[0;32m----> 1\u001b[0m \u001b[43manalyzeData\u001b[49m\u001b[43m(\u001b[49m\u001b[43mdf\u001b[49m\u001b[43m)\u001b[49m\n",
      "Input \u001b[0;32mIn [82]\u001b[0m, in \u001b[0;36manalyzeData\u001b[0;34m(data)\u001b[0m\n\u001b[1;32m      1\u001b[0m \u001b[38;5;28;01mdef\u001b[39;00m \u001b[38;5;21manalyzeData\u001b[39m(data):\n\u001b[1;32m      2\u001b[0m     \u001b[38;5;66;03m#  Number of label 1's\u001b[39;00m\n\u001b[0;32m----> 3\u001b[0m     zeros \u001b[38;5;241m=\u001b[39m \u001b[43mdata\u001b[49m\u001b[43m[\u001b[49m\u001b[38;5;124;43m'\u001b[39;49m\u001b[38;5;124;43mlabel\u001b[39;49m\u001b[38;5;124;43m'\u001b[39;49m\u001b[43m]\u001b[49m\u001b[38;5;241m.\u001b[39mvalue_counts()[\u001b[38;5;241m0\u001b[39m]\n\u001b[1;32m      4\u001b[0m     ones \u001b[38;5;241m=\u001b[39m data[\u001b[38;5;124m'\u001b[39m\u001b[38;5;124mlabel\u001b[39m\u001b[38;5;124m'\u001b[39m]\u001b[38;5;241m.\u001b[39mvalue_counts()[\u001b[38;5;241m1\u001b[39m]\n\u001b[1;32m      5\u001b[0m     \u001b[38;5;28mprint\u001b[39m(\u001b[38;5;124m'\u001b[39m\u001b[38;5;124mData analysis...\u001b[39m\u001b[38;5;124m'\u001b[39m)\n",
      "File \u001b[0;32m~/anaconda3/lib/python3.9/site-packages/pandas/core/frame.py:3505\u001b[0m, in \u001b[0;36mDataFrame.__getitem__\u001b[0;34m(self, key)\u001b[0m\n\u001b[1;32m   3503\u001b[0m \u001b[38;5;28;01mif\u001b[39;00m \u001b[38;5;28mself\u001b[39m\u001b[38;5;241m.\u001b[39mcolumns\u001b[38;5;241m.\u001b[39mnlevels \u001b[38;5;241m>\u001b[39m \u001b[38;5;241m1\u001b[39m:\n\u001b[1;32m   3504\u001b[0m     \u001b[38;5;28;01mreturn\u001b[39;00m \u001b[38;5;28mself\u001b[39m\u001b[38;5;241m.\u001b[39m_getitem_multilevel(key)\n\u001b[0;32m-> 3505\u001b[0m indexer \u001b[38;5;241m=\u001b[39m \u001b[38;5;28;43mself\u001b[39;49m\u001b[38;5;241;43m.\u001b[39;49m\u001b[43mcolumns\u001b[49m\u001b[38;5;241;43m.\u001b[39;49m\u001b[43mget_loc\u001b[49m\u001b[43m(\u001b[49m\u001b[43mkey\u001b[49m\u001b[43m)\u001b[49m\n\u001b[1;32m   3506\u001b[0m \u001b[38;5;28;01mif\u001b[39;00m is_integer(indexer):\n\u001b[1;32m   3507\u001b[0m     indexer \u001b[38;5;241m=\u001b[39m [indexer]\n",
      "File \u001b[0;32m~/anaconda3/lib/python3.9/site-packages/pandas/core/indexes/base.py:3623\u001b[0m, in \u001b[0;36mIndex.get_loc\u001b[0;34m(self, key, method, tolerance)\u001b[0m\n\u001b[1;32m   3621\u001b[0m     \u001b[38;5;28;01mreturn\u001b[39;00m \u001b[38;5;28mself\u001b[39m\u001b[38;5;241m.\u001b[39m_engine\u001b[38;5;241m.\u001b[39mget_loc(casted_key)\n\u001b[1;32m   3622\u001b[0m \u001b[38;5;28;01mexcept\u001b[39;00m \u001b[38;5;167;01mKeyError\u001b[39;00m \u001b[38;5;28;01mas\u001b[39;00m err:\n\u001b[0;32m-> 3623\u001b[0m     \u001b[38;5;28;01mraise\u001b[39;00m \u001b[38;5;167;01mKeyError\u001b[39;00m(key) \u001b[38;5;28;01mfrom\u001b[39;00m \u001b[38;5;21;01merr\u001b[39;00m\n\u001b[1;32m   3624\u001b[0m \u001b[38;5;28;01mexcept\u001b[39;00m \u001b[38;5;167;01mTypeError\u001b[39;00m:\n\u001b[1;32m   3625\u001b[0m     \u001b[38;5;66;03m# If we have a listlike key, _check_indexing_error will raise\u001b[39;00m\n\u001b[1;32m   3626\u001b[0m     \u001b[38;5;66;03m#  InvalidIndexError. Otherwise we fall through and re-raise\u001b[39;00m\n\u001b[1;32m   3627\u001b[0m     \u001b[38;5;66;03m#  the TypeError.\u001b[39;00m\n\u001b[1;32m   3628\u001b[0m     \u001b[38;5;28mself\u001b[39m\u001b[38;5;241m.\u001b[39m_check_indexing_error(key)\n",
      "\u001b[0;31mKeyError\u001b[0m: 'label'"
     ]
    }
   ],
   "source": [
    "analyzeData(df)"
   ]
  },
  {
   "cell_type": "code",
   "execution_count": 85,
   "id": "766de56c",
   "metadata": {
    "id": "766de56c"
   },
   "outputs": [],
   "source": [
    "def evaluate_over_under():\n",
    "    # Nearest neighbor values for SMOTE\n",
    "    k_values = [1, 2, 3, 4, 5]\n",
    "    s_values = [0.3, 0.4, 0.5]\n",
    "\n",
    "    # Create a KFold object with n_splits=10\n",
    "    # kf = KFold(n_splits=10)\n",
    "    # precision, recall, f1 = 0, 0, 0\n",
    "    for s in s_values:\n",
    "        for k in k_values:\n",
    "            # Declare the models for SMOTE over and Random Undersampling\n",
    "            over = SMOTE(sampling_strategy=s, k_neighbors=k)\n",
    "            under = RandomUnderSampler(sampling_strategy=0.5)\n",
    "            X, y = over.fit_resample(X_pca, y_pca)\n",
    "            X, y = under.fit_resample(X, y)\n",
    "            print(Counter(y))\n",
    "            count = 0\n",
    "            x_train, x_test, y_train, y_test = train_test_split(X, y, test_size=0.3, shuffle=True, random_state=42)\n",
    "            model, train_time = trainQboost(x_train, y_train)\n",
    "            predictions, predict_time = predictModel(model, x_test)\n",
    "            # print('Training Time: %.2f, Prediction Time: %2f' % (train_time, predict_time))\n",
    "            # Calculate precision\n",
    "            precision = precision_score(y_test, predictions)\n",
    "            # Calculate recall\n",
    "            recall = recall_score(y_test, predictions)\n",
    "            # Calculate F1-score\n",
    "            f1 = f1_score(y_test, predictions)\n",
    "            print('>> s: %3f -> k: %d -> Precision: %.3f, Recall: %.3f, F1_score: %.3f, Training Time: %.2f, Prediction Time: %2f' %\n",
    "                  (s, k, precision, recall, f1, train_time, predict_time))\n",
    "\n",
    "            # Iterate over the splits for 10 fold validation\n",
    "            # for train_index, test_index in kf.split(X, y):\n",
    "            #     # Obtain the training and testing subsets for the current split\n",
    "            #     # X_train, X_test = X[train_index], X[test_index]\n",
    "            #     # y_train, y_test = y[train_index], y[test_index]\n",
    "            #     model, train_time = trainQboost(X[train_index], y[train_index])\n",
    "            #     predictions, predict_time = predictModel(model, X[test_index])\n",
    "            #     print('Training Time: %.2f, Prediction Time: %2f' % (train_time, predict_time))\n",
    "            #     # Calculate precision\n",
    "            #     precision = precision + precision_score(y[test_index], predictions)\n",
    "            #     print('Precision: %.3f' % precision)\n",
    "            #     # Calculate recall\n",
    "            #     print('Precision: %.3f' % precision)\n",
    "            #     recall = recall + recall_score(y[test_index], predictions)\n",
    "            #     # Calculate F1-score\n",
    "            #     f1 = f1 + f1_score(y[test_index], predictions)\n",
    "            #     count = count + 1\n",
    "            # print('> k=%d, Mean Precision: %.3f, Recall: %.3f, F1-Score: %3f' % (k, precision/count, recall/count, f1/count))\n"
   ]
  },
  {
   "cell_type": "code",
   "execution_count": 86,
   "id": "b81678df",
   "metadata": {
    "id": "b81678df"
   },
   "outputs": [
    {
     "name": "stdout",
     "output_type": "stream",
     "text": [
      "Counter({0: 133712, 1: 66856})\n",
      "Training QBOOST Model... \n",
      "QBoost training time in seconds : 10.352885906002484\n",
      "Prediction on model : <qboost.qboost.QBoostClassifier object at 0x7fc63024a130>\n",
      ">> s: 0.300000 -> k: 1 -> Precision: 0.000, Recall: 0.000, F1_score: 0.000, Training Time: 10.35, Prediction Time: 0.045838\n"
     ]
    },
    {
     "name": "stderr",
     "output_type": "stream",
     "text": [
      "/home/anibrata/anaconda3/lib/python3.9/site-packages/sklearn/metrics/_classification.py:1318: UndefinedMetricWarning: Precision is ill-defined and being set to 0.0 due to no predicted samples. Use `zero_division` parameter to control this behavior.\n",
      "  _warn_prf(average, modifier, msg_start, len(result))\n"
     ]
    },
    {
     "name": "stdout",
     "output_type": "stream",
     "text": [
      "Counter({0: 133712, 1: 66856})\n",
      "Training QBOOST Model... \n",
      "QBoost training time in seconds : 10.103923558010138\n",
      "Prediction on model : <qboost.qboost.QBoostClassifier object at 0x7fc63024a730>\n",
      ">> s: 0.300000 -> k: 2 -> Precision: 0.000, Recall: 0.000, F1_score: 0.000, Training Time: 10.10, Prediction Time: 0.031036\n"
     ]
    },
    {
     "name": "stderr",
     "output_type": "stream",
     "text": [
      "/home/anibrata/anaconda3/lib/python3.9/site-packages/sklearn/metrics/_classification.py:1318: UndefinedMetricWarning: Precision is ill-defined and being set to 0.0 due to no predicted samples. Use `zero_division` parameter to control this behavior.\n",
      "  _warn_prf(average, modifier, msg_start, len(result))\n"
     ]
    },
    {
     "name": "stdout",
     "output_type": "stream",
     "text": [
      "Counter({0: 133712, 1: 66856})\n",
      "Training QBOOST Model... \n",
      "QBoost training time in seconds : 10.674858286991366\n",
      "Prediction on model : <qboost.qboost.QBoostClassifier object at 0x7fc630249730>\n",
      ">> s: 0.300000 -> k: 3 -> Precision: 0.000, Recall: 0.000, F1_score: 0.000, Training Time: 10.67, Prediction Time: 0.045459\n"
     ]
    },
    {
     "name": "stderr",
     "output_type": "stream",
     "text": [
      "/home/anibrata/anaconda3/lib/python3.9/site-packages/sklearn/metrics/_classification.py:1318: UndefinedMetricWarning: Precision is ill-defined and being set to 0.0 due to no predicted samples. Use `zero_division` parameter to control this behavior.\n",
      "  _warn_prf(average, modifier, msg_start, len(result))\n"
     ]
    },
    {
     "name": "stdout",
     "output_type": "stream",
     "text": [
      "Counter({0: 133712, 1: 66856})\n",
      "Training QBOOST Model... \n",
      "QBoost training time in seconds : 10.620936724997591\n",
      "Prediction on model : <qboost.qboost.QBoostClassifier object at 0x7fc630246c10>\n",
      ">> s: 0.300000 -> k: 4 -> Precision: 0.000, Recall: 0.000, F1_score: 0.000, Training Time: 10.62, Prediction Time: 0.051203\n"
     ]
    },
    {
     "name": "stderr",
     "output_type": "stream",
     "text": [
      "/home/anibrata/anaconda3/lib/python3.9/site-packages/sklearn/metrics/_classification.py:1318: UndefinedMetricWarning: Precision is ill-defined and being set to 0.0 due to no predicted samples. Use `zero_division` parameter to control this behavior.\n",
      "  _warn_prf(average, modifier, msg_start, len(result))\n"
     ]
    },
    {
     "name": "stdout",
     "output_type": "stream",
     "text": [
      "Counter({0: 133712, 1: 66856})\n",
      "Training QBOOST Model... \n"
     ]
    },
    {
     "ename": "KeyboardInterrupt",
     "evalue": "",
     "output_type": "error",
     "traceback": [
      "\u001b[0;31m---------------------------------------------------------------------------\u001b[0m",
      "\u001b[0;31mKeyboardInterrupt\u001b[0m                         Traceback (most recent call last)",
      "Input \u001b[0;32mIn [86]\u001b[0m, in \u001b[0;36m<cell line: 1>\u001b[0;34m()\u001b[0m\n\u001b[0;32m----> 1\u001b[0m \u001b[43mevaluate_over_under\u001b[49m\u001b[43m(\u001b[49m\u001b[43m)\u001b[49m\n",
      "Input \u001b[0;32mIn [85]\u001b[0m, in \u001b[0;36mevaluate_over_under\u001b[0;34m()\u001b[0m\n\u001b[1;32m     17\u001b[0m count \u001b[38;5;241m=\u001b[39m \u001b[38;5;241m0\u001b[39m\n\u001b[1;32m     18\u001b[0m x_train, x_test, y_train, y_test \u001b[38;5;241m=\u001b[39m train_test_split(X, y, test_size\u001b[38;5;241m=\u001b[39m\u001b[38;5;241m0.3\u001b[39m, shuffle\u001b[38;5;241m=\u001b[39m\u001b[38;5;28;01mTrue\u001b[39;00m, random_state\u001b[38;5;241m=\u001b[39m\u001b[38;5;241m42\u001b[39m)\n\u001b[0;32m---> 19\u001b[0m model, train_time \u001b[38;5;241m=\u001b[39m \u001b[43mtrainQboost\u001b[49m\u001b[43m(\u001b[49m\u001b[43mx_train\u001b[49m\u001b[43m,\u001b[49m\u001b[43m \u001b[49m\u001b[43my_train\u001b[49m\u001b[43m)\u001b[49m\n\u001b[1;32m     20\u001b[0m predictions, predict_time \u001b[38;5;241m=\u001b[39m predictModel(model, x_test)\n\u001b[1;32m     21\u001b[0m \u001b[38;5;66;03m# print('Training Time: %.2f, Prediction Time: %2f' % (train_time, predict_time))\u001b[39;00m\n\u001b[1;32m     22\u001b[0m \u001b[38;5;66;03m# Calculate precision\u001b[39;00m\n",
      "Input \u001b[0;32mIn [62]\u001b[0m, in \u001b[0;36mtrainQboost\u001b[0;34m(x, y)\u001b[0m\n\u001b[1;32m      3\u001b[0m qboost \u001b[38;5;241m=\u001b[39m QBoostClassifier(n_estimators\u001b[38;5;241m=\u001b[39mNUM_WEAK_CLASSIFIERS, max_depth\u001b[38;5;241m=\u001b[39mTREE_DEPTH)\n\u001b[1;32m      4\u001b[0m start \u001b[38;5;241m=\u001b[39m timer()\n\u001b[0;32m----> 5\u001b[0m \u001b[43mqboost\u001b[49m\u001b[38;5;241;43m.\u001b[39;49m\u001b[43mfit\u001b[49m\u001b[43m(\u001b[49m\u001b[43mx\u001b[49m\u001b[43m,\u001b[49m\u001b[43m \u001b[49m\u001b[43my\u001b[49m\u001b[43m,\u001b[49m\u001b[43m \u001b[49m\u001b[43memb_sampler\u001b[49m\u001b[43m,\u001b[49m\u001b[43m \u001b[49m\u001b[43mlmd\u001b[49m\u001b[38;5;241;43m=\u001b[39;49m\u001b[43mlmd\u001b[49m\u001b[43m,\u001b[49m\u001b[43m \u001b[49m\u001b[38;5;241;43m*\u001b[39;49m\u001b[38;5;241;43m*\u001b[39;49m\u001b[43mDW_PARAMS\u001b[49m\u001b[43m)\u001b[49m\n\u001b[1;32m      6\u001b[0m end \u001b[38;5;241m=\u001b[39m timer()\n\u001b[1;32m      7\u001b[0m train_time \u001b[38;5;241m=\u001b[39m end \u001b[38;5;241m-\u001b[39m start\n",
      "File \u001b[0;32m~/Anibrata/PROJECTS/Smart City Security and Privacy/smartcity_main/binary/qboost/qboost.py:136\u001b[0m, in \u001b[0;36mQBoostClassifier.fit\u001b[0;34m(self, X, y, sampler, lmd, **kwargs)\u001b[0m\n\u001b[1;32m    134\u001b[0m \u001b[38;5;66;03m# step 3: optimize QUBO\u001b[39;00m\n\u001b[1;32m    135\u001b[0m res \u001b[38;5;241m=\u001b[39m sampler\u001b[38;5;241m.\u001b[39msample_qubo(Q, \u001b[38;5;241m*\u001b[39m\u001b[38;5;241m*\u001b[39mkwargs)\n\u001b[0;32m--> 136\u001b[0m samples \u001b[38;5;241m=\u001b[39m np\u001b[38;5;241m.\u001b[39marray([[samp[k] \u001b[38;5;28;01mfor\u001b[39;00m k \u001b[38;5;129;01min\u001b[39;00m \u001b[38;5;28mrange\u001b[39m(\u001b[38;5;28mself\u001b[39m\u001b[38;5;241m.\u001b[39mn_estimators)] \u001b[38;5;28;01mfor\u001b[39;00m samp \u001b[38;5;129;01min\u001b[39;00m res])\n\u001b[1;32m    138\u001b[0m \u001b[38;5;66;03m# take the optimal solution as estimator weights\u001b[39;00m\n\u001b[1;32m    139\u001b[0m \u001b[38;5;28mself\u001b[39m\u001b[38;5;241m.\u001b[39mestimator_weights \u001b[38;5;241m=\u001b[39m samples[\u001b[38;5;241m0\u001b[39m]\n",
      "File \u001b[0;32m~/anaconda3/lib/python3.9/site-packages/dimod/sampleset.py:986\u001b[0m, in \u001b[0;36mSampleSet.__iter__\u001b[0;34m(self)\u001b[0m\n\u001b[1;32m    984\u001b[0m \u001b[38;5;124;03m\"\"\"Iterate over the samples, low energy to high.\"\"\"\u001b[39;00m\n\u001b[1;32m    985\u001b[0m \u001b[38;5;66;03m# need to make it an iterator rather than just an iterable\u001b[39;00m\n\u001b[0;32m--> 986\u001b[0m \u001b[38;5;28;01mreturn\u001b[39;00m \u001b[38;5;28miter\u001b[39m(\u001b[38;5;28;43mself\u001b[39;49m\u001b[38;5;241;43m.\u001b[39;49m\u001b[43msamples\u001b[49m\u001b[43m(\u001b[49m\u001b[43msorted_by\u001b[49m\u001b[38;5;241;43m=\u001b[39;49m\u001b[38;5;124;43m'\u001b[39;49m\u001b[38;5;124;43menergy\u001b[39;49m\u001b[38;5;124;43m'\u001b[39;49m\u001b[43m)\u001b[49m)\n",
      "File \u001b[0;32m~/anaconda3/lib/python3.9/site-packages/dimod/sampleset.py:1215\u001b[0m, in \u001b[0;36mSampleSet.samples\u001b[0;34m(self, n, sorted_by)\u001b[0m\n\u001b[1;32m   1213\u001b[0m     samples \u001b[38;5;241m=\u001b[39m \u001b[38;5;28mself\u001b[39m\u001b[38;5;241m.\u001b[39mrecord\u001b[38;5;241m.\u001b[39msample\n\u001b[1;32m   1214\u001b[0m \u001b[38;5;28;01melse\u001b[39;00m:\n\u001b[0;32m-> 1215\u001b[0m     order \u001b[38;5;241m=\u001b[39m np\u001b[38;5;241m.\u001b[39margsort(\u001b[38;5;28;43mself\u001b[39;49m\u001b[38;5;241;43m.\u001b[39;49m\u001b[43mrecord\u001b[49m[sorted_by])\n\u001b[1;32m   1216\u001b[0m     samples \u001b[38;5;241m=\u001b[39m \u001b[38;5;28mself\u001b[39m\u001b[38;5;241m.\u001b[39mrecord\u001b[38;5;241m.\u001b[39msample[order]\n\u001b[1;32m   1218\u001b[0m \u001b[38;5;28;01mreturn\u001b[39;00m SamplesArray(samples, \u001b[38;5;28mself\u001b[39m\u001b[38;5;241m.\u001b[39mvariables)\n",
      "File \u001b[0;32m~/anaconda3/lib/python3.9/site-packages/dimod/sampleset.py:1121\u001b[0m, in \u001b[0;36mSampleSet.record\u001b[0;34m(self)\u001b[0m\n\u001b[1;32m   1105\u001b[0m \u001b[38;5;129m@property\u001b[39m\n\u001b[1;32m   1106\u001b[0m \u001b[38;5;28;01mdef\u001b[39;00m \u001b[38;5;21mrecord\u001b[39m(\u001b[38;5;28mself\u001b[39m):\n\u001b[1;32m   1107\u001b[0m     \u001b[38;5;124;03m\"\"\":obj:`numpy.recarray` containing the samples, energies, number of occurences, and other sample data.\u001b[39;00m\n\u001b[1;32m   1108\u001b[0m \n\u001b[1;32m   1109\u001b[0m \u001b[38;5;124;03m    Examples:\u001b[39;00m\n\u001b[0;32m   (...)\u001b[0m\n\u001b[1;32m   1119\u001b[0m \n\u001b[1;32m   1120\u001b[0m \u001b[38;5;124;03m    \"\"\"\u001b[39;00m\n\u001b[0;32m-> 1121\u001b[0m     \u001b[38;5;28;43mself\u001b[39;49m\u001b[38;5;241;43m.\u001b[39;49m\u001b[43mresolve\u001b[49m\u001b[43m(\u001b[49m\u001b[43m)\u001b[49m\n\u001b[1;32m   1122\u001b[0m     \u001b[38;5;28;01mreturn\u001b[39;00m \u001b[38;5;28mself\u001b[39m\u001b[38;5;241m.\u001b[39m_record\n",
      "File \u001b[0;32m~/anaconda3/lib/python3.9/site-packages/dimod/sampleset.py:1470\u001b[0m, in \u001b[0;36mSampleSet.resolve\u001b[0;34m(self)\u001b[0m\n\u001b[1;32m   1468\u001b[0m \u001b[38;5;66;03m# if it doesn't have the attribute then it is already resolved\u001b[39;00m\n\u001b[1;32m   1469\u001b[0m \u001b[38;5;28;01mif\u001b[39;00m \u001b[38;5;28mhasattr\u001b[39m(\u001b[38;5;28mself\u001b[39m, \u001b[38;5;124m'\u001b[39m\u001b[38;5;124m_future\u001b[39m\u001b[38;5;124m'\u001b[39m):\n\u001b[0;32m-> 1470\u001b[0m     samples \u001b[38;5;241m=\u001b[39m \u001b[38;5;28;43mself\u001b[39;49m\u001b[38;5;241;43m.\u001b[39;49m\u001b[43m_result_hook\u001b[49m\u001b[43m(\u001b[49m\u001b[38;5;28;43mself\u001b[39;49m\u001b[38;5;241;43m.\u001b[39;49m\u001b[43m_future\u001b[49m\u001b[43m)\u001b[49m\n\u001b[1;32m   1471\u001b[0m     \u001b[38;5;28mself\u001b[39m\u001b[38;5;241m.\u001b[39m\u001b[38;5;21m__init__\u001b[39m(samples\u001b[38;5;241m.\u001b[39mrecord, samples\u001b[38;5;241m.\u001b[39mvariables, samples\u001b[38;5;241m.\u001b[39minfo, samples\u001b[38;5;241m.\u001b[39mvartype)\n\u001b[1;32m   1472\u001b[0m     \u001b[38;5;28;01mdel\u001b[39;00m \u001b[38;5;28mself\u001b[39m\u001b[38;5;241m.\u001b[39m_future\n",
      "File \u001b[0;32m~/anaconda3/lib/python3.9/site-packages/dwave/system/composites/embedding.py:284\u001b[0m, in \u001b[0;36mEmbeddingComposite.sample.<locals>.async_unembed\u001b[0;34m(response)\u001b[0m\n\u001b[1;32m    279\u001b[0m \u001b[38;5;28;01mdef\u001b[39;00m \u001b[38;5;21masync_unembed\u001b[39m(response):\n\u001b[1;32m    280\u001b[0m     \u001b[38;5;66;03m# unembed the sampleset aysnchronously.\u001b[39;00m\n\u001b[1;32m    282\u001b[0m     warninghandler\u001b[38;5;241m.\u001b[39mchain_break(response, embedding)\n\u001b[0;32m--> 284\u001b[0m     sampleset \u001b[38;5;241m=\u001b[39m \u001b[43munembed_sampleset\u001b[49m\u001b[43m(\u001b[49m\u001b[43mresponse\u001b[49m\u001b[43m,\u001b[49m\u001b[43m \u001b[49m\u001b[43membedding\u001b[49m\u001b[43m,\u001b[49m\u001b[43m \u001b[49m\u001b[43msource_bqm\u001b[49m\u001b[38;5;241;43m=\u001b[39;49m\u001b[43mbqm\u001b[49m\u001b[43m,\u001b[49m\n\u001b[1;32m    285\u001b[0m \u001b[43m                                  \u001b[49m\u001b[43mchain_break_method\u001b[49m\u001b[38;5;241;43m=\u001b[39;49m\u001b[43mchain_break_method\u001b[49m\u001b[43m,\u001b[49m\n\u001b[1;32m    286\u001b[0m \u001b[43m                                  \u001b[49m\u001b[43mchain_break_fraction\u001b[49m\u001b[38;5;241;43m=\u001b[39;49m\u001b[43mchain_break_fraction\u001b[49m\u001b[43m,\u001b[49m\n\u001b[1;32m    287\u001b[0m \u001b[43m                                  \u001b[49m\u001b[43mreturn_embedding\u001b[49m\u001b[38;5;241;43m=\u001b[39;49m\u001b[43mreturn_embedding\u001b[49m\u001b[43m)\u001b[49m\n\u001b[1;32m    289\u001b[0m     \u001b[38;5;28;01mif\u001b[39;00m return_embedding:\n\u001b[1;32m    290\u001b[0m         sampleset\u001b[38;5;241m.\u001b[39minfo[\u001b[38;5;124m'\u001b[39m\u001b[38;5;124membedding_context\u001b[39m\u001b[38;5;124m'\u001b[39m]\u001b[38;5;241m.\u001b[39mupdate(\n\u001b[1;32m    291\u001b[0m             embedding_parameters\u001b[38;5;241m=\u001b[39membedding_parameters,\n\u001b[1;32m    292\u001b[0m             chain_strength\u001b[38;5;241m=\u001b[39membedding\u001b[38;5;241m.\u001b[39mchain_strength)\n",
      "File \u001b[0;32m~/anaconda3/lib/python3.9/site-packages/dwave/embedding/transforms.py:626\u001b[0m, in \u001b[0;36munembed_sampleset\u001b[0;34m(target_sampleset, embedding, source_bqm, chain_break_method, chain_break_fraction, return_embedding)\u001b[0m\n\u001b[1;32m    623\u001b[0m \u001b[38;5;28;01mexcept\u001b[39;00m \u001b[38;5;167;01mKeyError\u001b[39;00m:\n\u001b[1;32m    624\u001b[0m     \u001b[38;5;28;01mraise\u001b[39;00m \u001b[38;5;167;01mValueError\u001b[39;00m(\u001b[38;5;124m\"\u001b[39m\u001b[38;5;124mgiven bqm does not match the embedding\u001b[39m\u001b[38;5;124m\"\u001b[39m)\n\u001b[0;32m--> 626\u001b[0m record \u001b[38;5;241m=\u001b[39m \u001b[43mtarget_sampleset\u001b[49m\u001b[38;5;241;43m.\u001b[39;49m\u001b[43mrecord\u001b[49m\n\u001b[1;32m    628\u001b[0m unembedded, idxs \u001b[38;5;241m=\u001b[39m chain_break_method(target_sampleset, chains)\n\u001b[1;32m    630\u001b[0m reserved \u001b[38;5;241m=\u001b[39m {\u001b[38;5;124m'\u001b[39m\u001b[38;5;124msample\u001b[39m\u001b[38;5;124m'\u001b[39m, \u001b[38;5;124m'\u001b[39m\u001b[38;5;124menergy\u001b[39m\u001b[38;5;124m'\u001b[39m}\n",
      "File \u001b[0;32m~/anaconda3/lib/python3.9/site-packages/dimod/sampleset.py:1121\u001b[0m, in \u001b[0;36mSampleSet.record\u001b[0;34m(self)\u001b[0m\n\u001b[1;32m   1105\u001b[0m \u001b[38;5;129m@property\u001b[39m\n\u001b[1;32m   1106\u001b[0m \u001b[38;5;28;01mdef\u001b[39;00m \u001b[38;5;21mrecord\u001b[39m(\u001b[38;5;28mself\u001b[39m):\n\u001b[1;32m   1107\u001b[0m     \u001b[38;5;124;03m\"\"\":obj:`numpy.recarray` containing the samples, energies, number of occurences, and other sample data.\u001b[39;00m\n\u001b[1;32m   1108\u001b[0m \n\u001b[1;32m   1109\u001b[0m \u001b[38;5;124;03m    Examples:\u001b[39;00m\n\u001b[0;32m   (...)\u001b[0m\n\u001b[1;32m   1119\u001b[0m \n\u001b[1;32m   1120\u001b[0m \u001b[38;5;124;03m    \"\"\"\u001b[39;00m\n\u001b[0;32m-> 1121\u001b[0m     \u001b[38;5;28;43mself\u001b[39;49m\u001b[38;5;241;43m.\u001b[39;49m\u001b[43mresolve\u001b[49m\u001b[43m(\u001b[49m\u001b[43m)\u001b[49m\n\u001b[1;32m   1122\u001b[0m     \u001b[38;5;28;01mreturn\u001b[39;00m \u001b[38;5;28mself\u001b[39m\u001b[38;5;241m.\u001b[39m_record\n",
      "File \u001b[0;32m~/anaconda3/lib/python3.9/site-packages/dimod/sampleset.py:1470\u001b[0m, in \u001b[0;36mSampleSet.resolve\u001b[0;34m(self)\u001b[0m\n\u001b[1;32m   1468\u001b[0m \u001b[38;5;66;03m# if it doesn't have the attribute then it is already resolved\u001b[39;00m\n\u001b[1;32m   1469\u001b[0m \u001b[38;5;28;01mif\u001b[39;00m \u001b[38;5;28mhasattr\u001b[39m(\u001b[38;5;28mself\u001b[39m, \u001b[38;5;124m'\u001b[39m\u001b[38;5;124m_future\u001b[39m\u001b[38;5;124m'\u001b[39m):\n\u001b[0;32m-> 1470\u001b[0m     samples \u001b[38;5;241m=\u001b[39m \u001b[38;5;28;43mself\u001b[39;49m\u001b[38;5;241;43m.\u001b[39;49m\u001b[43m_result_hook\u001b[49m\u001b[43m(\u001b[49m\u001b[38;5;28;43mself\u001b[39;49m\u001b[38;5;241;43m.\u001b[39;49m\u001b[43m_future\u001b[49m\u001b[43m)\u001b[49m\n\u001b[1;32m   1471\u001b[0m     \u001b[38;5;28mself\u001b[39m\u001b[38;5;241m.\u001b[39m\u001b[38;5;21m__init__\u001b[39m(samples\u001b[38;5;241m.\u001b[39mrecord, samples\u001b[38;5;241m.\u001b[39mvariables, samples\u001b[38;5;241m.\u001b[39minfo, samples\u001b[38;5;241m.\u001b[39mvartype)\n\u001b[1;32m   1472\u001b[0m     \u001b[38;5;28;01mdel\u001b[39;00m \u001b[38;5;28mself\u001b[39m\u001b[38;5;241m.\u001b[39m_future\n",
      "File \u001b[0;32m~/anaconda3/lib/python3.9/site-packages/dwave/system/samplers/dwave_sampler.py:440\u001b[0m, in \u001b[0;36mDWaveSampler.sample.<locals>._hook\u001b[0;34m(computation)\u001b[0m\n\u001b[1;32m    437\u001b[0m     \u001b[38;5;28;01mreturn\u001b[39;00m sampleset\n\u001b[1;32m    439\u001b[0m \u001b[38;5;28;01mtry\u001b[39;00m:\n\u001b[0;32m--> 440\u001b[0m     \u001b[38;5;28;01mreturn\u001b[39;00m \u001b[43mresolve\u001b[49m\u001b[43m(\u001b[49m\u001b[43mcomputation\u001b[49m\u001b[43m)\u001b[49m\n\u001b[1;32m    442\u001b[0m \u001b[38;5;28;01mexcept\u001b[39;00m (ProblemUploadError, RequestTimeout, PollingTimeout) \u001b[38;5;28;01mas\u001b[39;00m exc:\n\u001b[1;32m    443\u001b[0m     \u001b[38;5;28;01mif\u001b[39;00m \u001b[38;5;129;01mnot\u001b[39;00m \u001b[38;5;28mself\u001b[39m\u001b[38;5;241m.\u001b[39mfailover:\n",
      "File \u001b[0;32m~/anaconda3/lib/python3.9/site-packages/dwave/system/samplers/dwave_sampler.py:430\u001b[0m, in \u001b[0;36mDWaveSampler.sample.<locals>._hook.<locals>.resolve\u001b[0;34m(computation)\u001b[0m\n\u001b[1;32m    428\u001b[0m \u001b[38;5;28;01mdef\u001b[39;00m \u001b[38;5;21mresolve\u001b[39m(computation):\n\u001b[1;32m    429\u001b[0m     sampleset \u001b[38;5;241m=\u001b[39m computation\u001b[38;5;241m.\u001b[39msampleset\n\u001b[0;32m--> 430\u001b[0m     \u001b[43msampleset\u001b[49m\u001b[38;5;241;43m.\u001b[39;49m\u001b[43mresolve\u001b[49m\u001b[43m(\u001b[49m\u001b[43m)\u001b[49m\n\u001b[1;32m    432\u001b[0m     \u001b[38;5;28;01mif\u001b[39;00m warninghandler \u001b[38;5;129;01mis\u001b[39;00m \u001b[38;5;129;01mnot\u001b[39;00m \u001b[38;5;28;01mNone\u001b[39;00m:\n\u001b[1;32m    433\u001b[0m         warninghandler\u001b[38;5;241m.\u001b[39mtoo_few_samples(sampleset)\n",
      "File \u001b[0;32m~/anaconda3/lib/python3.9/site-packages/dimod/sampleset.py:1470\u001b[0m, in \u001b[0;36mSampleSet.resolve\u001b[0;34m(self)\u001b[0m\n\u001b[1;32m   1468\u001b[0m \u001b[38;5;66;03m# if it doesn't have the attribute then it is already resolved\u001b[39;00m\n\u001b[1;32m   1469\u001b[0m \u001b[38;5;28;01mif\u001b[39;00m \u001b[38;5;28mhasattr\u001b[39m(\u001b[38;5;28mself\u001b[39m, \u001b[38;5;124m'\u001b[39m\u001b[38;5;124m_future\u001b[39m\u001b[38;5;124m'\u001b[39m):\n\u001b[0;32m-> 1470\u001b[0m     samples \u001b[38;5;241m=\u001b[39m \u001b[38;5;28;43mself\u001b[39;49m\u001b[38;5;241;43m.\u001b[39;49m\u001b[43m_result_hook\u001b[49m\u001b[43m(\u001b[49m\u001b[38;5;28;43mself\u001b[39;49m\u001b[38;5;241;43m.\u001b[39;49m\u001b[43m_future\u001b[49m\u001b[43m)\u001b[49m\n\u001b[1;32m   1471\u001b[0m     \u001b[38;5;28mself\u001b[39m\u001b[38;5;241m.\u001b[39m\u001b[38;5;21m__init__\u001b[39m(samples\u001b[38;5;241m.\u001b[39mrecord, samples\u001b[38;5;241m.\u001b[39mvariables, samples\u001b[38;5;241m.\u001b[39minfo, samples\u001b[38;5;241m.\u001b[39mvartype)\n\u001b[1;32m   1472\u001b[0m     \u001b[38;5;28;01mdel\u001b[39;00m \u001b[38;5;28mself\u001b[39m\u001b[38;5;241m.\u001b[39m_future\n",
      "File \u001b[0;32m~/anaconda3/lib/python3.9/site-packages/dwave/cloud/computation.py:823\u001b[0m, in \u001b[0;36mFuture.sampleset.<locals>.<lambda>\u001b[0;34m(f)\u001b[0m\n\u001b[1;32m    818\u001b[0m \u001b[38;5;28;01mexcept\u001b[39;00m \u001b[38;5;167;01mImportError\u001b[39;00m:\n\u001b[1;32m    819\u001b[0m     \u001b[38;5;28;01mraise\u001b[39;00m \u001b[38;5;167;01mRuntimeError\u001b[39;00m(\u001b[38;5;124m\"\u001b[39m\u001b[38;5;124mCan\u001b[39m\u001b[38;5;124m'\u001b[39m\u001b[38;5;124mt construct SampleSet without dimod. \u001b[39m\u001b[38;5;124m\"\u001b[39m\n\u001b[1;32m    820\u001b[0m                        \u001b[38;5;124m\"\u001b[39m\u001b[38;5;124mRe-install the library with \u001b[39m\u001b[38;5;124m'\u001b[39m\u001b[38;5;124mbqm\u001b[39m\u001b[38;5;124m'\u001b[39m\u001b[38;5;124m support.\u001b[39m\u001b[38;5;124m\"\u001b[39m)\n\u001b[1;32m    822\u001b[0m \u001b[38;5;28mself\u001b[39m\u001b[38;5;241m.\u001b[39m_sampleset \u001b[38;5;241m=\u001b[39m sampleset \u001b[38;5;241m=\u001b[39m dimod\u001b[38;5;241m.\u001b[39mSampleSet\u001b[38;5;241m.\u001b[39mfrom_future(\n\u001b[0;32m--> 823\u001b[0m     \u001b[38;5;28mself\u001b[39m, \u001b[38;5;28;01mlambda\u001b[39;00m f: \u001b[43mf\u001b[49m\u001b[38;5;241;43m.\u001b[39;49m\u001b[43mwait_sampleset\u001b[49m\u001b[43m(\u001b[49m\u001b[43m)\u001b[49m)\n\u001b[1;32m    825\u001b[0m \u001b[38;5;66;03m# propagate id to sampleset as well\u001b[39;00m\n\u001b[1;32m    826\u001b[0m \u001b[38;5;66;03m# note: this requires dimod>=0.8.21 (before that version SampleSet\u001b[39;00m\n\u001b[1;32m    827\u001b[0m \u001b[38;5;66;03m# had slots set which prevented dynamic addition of attributes).\u001b[39;00m\n\u001b[1;32m    828\u001b[0m sampleset\u001b[38;5;241m.\u001b[39mwait_id \u001b[38;5;241m=\u001b[39m \u001b[38;5;28mself\u001b[39m\u001b[38;5;241m.\u001b[39mwait_id\n",
      "File \u001b[0;32m~/anaconda3/lib/python3.9/site-packages/dwave/cloud/computation.py:755\u001b[0m, in \u001b[0;36mFuture.wait_sampleset\u001b[0;34m(self)\u001b[0m\n\u001b[1;32m    752\u001b[0m \u001b[38;5;124;03m\"\"\"Blocking sampleset getter.\"\"\"\u001b[39;00m\n\u001b[1;32m    754\u001b[0m \u001b[38;5;66;03m# blocking result get\u001b[39;00m\n\u001b[0;32m--> 755\u001b[0m result \u001b[38;5;241m=\u001b[39m \u001b[38;5;28;43mself\u001b[39;49m\u001b[38;5;241;43m.\u001b[39;49m\u001b[43m_load_result\u001b[49m\u001b[43m(\u001b[49m\u001b[43m)\u001b[49m\n\u001b[1;32m    757\u001b[0m \u001b[38;5;66;03m# common problem info: id/label\u001b[39;00m\n\u001b[1;32m    758\u001b[0m problem_info \u001b[38;5;241m=\u001b[39m \u001b[38;5;28mdict\u001b[39m(problem_id\u001b[38;5;241m=\u001b[39m\u001b[38;5;28mself\u001b[39m\u001b[38;5;241m.\u001b[39mid)\n",
      "File \u001b[0;32m~/anaconda3/lib/python3.9/site-packages/dwave/cloud/computation.py:889\u001b[0m, in \u001b[0;36mFuture._load_result\u001b[0;34m(self)\u001b[0m\n\u001b[1;32m    886\u001b[0m \u001b[38;5;124;03m\"\"\"Get the result, waiting and decoding as needed.\"\"\"\u001b[39;00m\n\u001b[1;32m    887\u001b[0m \u001b[38;5;28;01mif\u001b[39;00m \u001b[38;5;28mself\u001b[39m\u001b[38;5;241m.\u001b[39m_result \u001b[38;5;129;01mis\u001b[39;00m \u001b[38;5;28;01mNone\u001b[39;00m:\n\u001b[1;32m    888\u001b[0m     \u001b[38;5;66;03m# Wait for the query response\u001b[39;00m\n\u001b[0;32m--> 889\u001b[0m     \u001b[38;5;28;43mself\u001b[39;49m\u001b[38;5;241;43m.\u001b[39;49m\u001b[43mwait\u001b[49m\u001b[43m(\u001b[49m\u001b[43mtimeout\u001b[49m\u001b[38;5;241;43m=\u001b[39;49m\u001b[38;5;28;43;01mNone\u001b[39;49;00m\u001b[43m)\u001b[49m\n\u001b[1;32m    891\u001b[0m     \u001b[38;5;66;03m# Check for other error conditions\u001b[39;00m\n\u001b[1;32m    892\u001b[0m     \u001b[38;5;28;01mif\u001b[39;00m \u001b[38;5;28mself\u001b[39m\u001b[38;5;241m.\u001b[39m_exception \u001b[38;5;129;01mis\u001b[39;00m \u001b[38;5;129;01mnot\u001b[39;00m \u001b[38;5;28;01mNone\u001b[39;00m:\n",
      "File \u001b[0;32m~/anaconda3/lib/python3.9/site-packages/dwave/cloud/computation.py:416\u001b[0m, in \u001b[0;36mFuture.wait\u001b[0;34m(self, timeout)\u001b[0m\n\u001b[1;32m    381\u001b[0m \u001b[38;5;28;01mdef\u001b[39;00m \u001b[38;5;21mwait\u001b[39m(\u001b[38;5;28mself\u001b[39m, timeout\u001b[38;5;241m=\u001b[39m\u001b[38;5;28;01mNone\u001b[39;00m):\n\u001b[1;32m    382\u001b[0m     \u001b[38;5;124;03m\"\"\"Wait for the solver to receive a response for a submitted problem.\u001b[39;00m\n\u001b[1;32m    383\u001b[0m \n\u001b[1;32m    384\u001b[0m \u001b[38;5;124;03m    Blocking call that waits for a :class:`Future` object to complete.\u001b[39;00m\n\u001b[0;32m   (...)\u001b[0m\n\u001b[1;32m    414\u001b[0m \u001b[38;5;124;03m        >>> client.close()         # doctest: +SKIP\u001b[39;00m\n\u001b[1;32m    415\u001b[0m \u001b[38;5;124;03m    \"\"\"\u001b[39;00m\n\u001b[0;32m--> 416\u001b[0m     \u001b[38;5;28;01mreturn\u001b[39;00m \u001b[38;5;28;43mself\u001b[39;49m\u001b[38;5;241;43m.\u001b[39;49m\u001b[43m_results_ready_event\u001b[49m\u001b[38;5;241;43m.\u001b[39;49m\u001b[43mwait\u001b[49m\u001b[43m(\u001b[49m\u001b[43mtimeout\u001b[49m\u001b[43m)\u001b[49m\n",
      "File \u001b[0;32m~/anaconda3/lib/python3.9/threading.py:574\u001b[0m, in \u001b[0;36mEvent.wait\u001b[0;34m(self, timeout)\u001b[0m\n\u001b[1;32m    572\u001b[0m signaled \u001b[38;5;241m=\u001b[39m \u001b[38;5;28mself\u001b[39m\u001b[38;5;241m.\u001b[39m_flag\n\u001b[1;32m    573\u001b[0m \u001b[38;5;28;01mif\u001b[39;00m \u001b[38;5;129;01mnot\u001b[39;00m signaled:\n\u001b[0;32m--> 574\u001b[0m     signaled \u001b[38;5;241m=\u001b[39m \u001b[38;5;28;43mself\u001b[39;49m\u001b[38;5;241;43m.\u001b[39;49m\u001b[43m_cond\u001b[49m\u001b[38;5;241;43m.\u001b[39;49m\u001b[43mwait\u001b[49m\u001b[43m(\u001b[49m\u001b[43mtimeout\u001b[49m\u001b[43m)\u001b[49m\n\u001b[1;32m    575\u001b[0m \u001b[38;5;28;01mreturn\u001b[39;00m signaled\n",
      "File \u001b[0;32m~/anaconda3/lib/python3.9/threading.py:312\u001b[0m, in \u001b[0;36mCondition.wait\u001b[0;34m(self, timeout)\u001b[0m\n\u001b[1;32m    310\u001b[0m \u001b[38;5;28;01mtry\u001b[39;00m:    \u001b[38;5;66;03m# restore state no matter what (e.g., KeyboardInterrupt)\u001b[39;00m\n\u001b[1;32m    311\u001b[0m     \u001b[38;5;28;01mif\u001b[39;00m timeout \u001b[38;5;129;01mis\u001b[39;00m \u001b[38;5;28;01mNone\u001b[39;00m:\n\u001b[0;32m--> 312\u001b[0m         \u001b[43mwaiter\u001b[49m\u001b[38;5;241;43m.\u001b[39;49m\u001b[43macquire\u001b[49m\u001b[43m(\u001b[49m\u001b[43m)\u001b[49m\n\u001b[1;32m    313\u001b[0m         gotit \u001b[38;5;241m=\u001b[39m \u001b[38;5;28;01mTrue\u001b[39;00m\n\u001b[1;32m    314\u001b[0m     \u001b[38;5;28;01melse\u001b[39;00m:\n",
      "\u001b[0;31mKeyboardInterrupt\u001b[0m: "
     ]
    }
   ],
   "source": [
    "evaluate_over_under()"
   ]
  },
  {
   "cell_type": "code",
   "execution_count": 63,
   "id": "22ee736e",
   "metadata": {
    "colab": {
     "base_uri": "https://localhost:8080/"
    },
    "executionInfo": {
     "elapsed": 984,
     "status": "ok",
     "timestamp": 1688848079866,
     "user": {
      "displayName": "Anibrata Pal",
      "userId": "16454467692217386609"
     },
     "user_tz": -330
    },
    "id": "22ee736e",
    "outputId": "d70287f7-78b0-492a-a827-00d1a2124442"
   },
   "outputs": [
    {
     "name": "stdout",
     "output_type": "stream",
     "text": [
      "Counter({1: 165473, -1: 165463})\n"
     ]
    }
   ],
   "source": [
    "print(Counter(y_pca))"
   ]
  },
  {
   "cell_type": "code",
   "execution_count": null,
   "id": "d9c55c4b",
   "metadata": {
    "id": "d9c55c4b"
   },
   "outputs": [],
   "source": []
  },
  {
   "cell_type": "code",
   "execution_count": null,
   "id": "bce895d2",
   "metadata": {
    "id": "bce895d2"
   },
   "outputs": [],
   "source": [
    "# (40073/585710)*100"
   ]
  },
  {
   "cell_type": "code",
   "execution_count": null,
   "id": "7f952620",
   "metadata": {
    "id": "7f952620"
   },
   "outputs": [],
   "source": [
    "# (292855/585710)*100"
   ]
  },
  {
   "cell_type": "code",
   "execution_count": 280,
   "id": "8d6ac80f",
   "metadata": {
    "executionInfo": {
     "elapsed": 3,
     "status": "ok",
     "timestamp": 1688847638112,
     "user": {
      "displayName": "Anibrata Pal",
      "userId": "16454467692217386609"
     },
     "user_tz": -330
    },
    "id": "8d6ac80f"
   },
   "outputs": [],
   "source": [
    "def reportResult(y, predictions, model, predict_type, train_time, predict_time):\n",
    "    print(\"Reporting Result ...\")\n",
    "    result_time = datetime.now().strftime(\"%Y%m%d%H%M%S\")\n",
    "    report = classification_report(y, predictions)\n",
    "    with open('../results/' + str(result_time) + '_' + str(model) + '_' + str(predict_type) + '_report.txt', 'a') as f:\n",
    "        f.write('Training time :' + str(train_time) + '\\n')\n",
    "        f.write(report)\n",
    "        f.write('Prediction time :' + str(predict_time) + '\\n')\n",
    "    f.close()\n",
    "    print(\"Saved...\")"
   ]
  },
  {
   "cell_type": "code",
   "execution_count": 281,
   "id": "9340ef3a",
   "metadata": {},
   "outputs": [
    {
     "name": "stdout",
     "output_type": "stream",
     "text": [
      "Reporting Result ...\n",
      "Saved...\n"
     ]
    }
   ],
   "source": [
    "reportResult(y_test, predictions, model, 'test', train_time, predict_time)"
   ]
  },
  {
   "cell_type": "code",
   "execution_count": null,
   "id": "0cbdbc82",
   "metadata": {
    "id": "0cbdbc82"
   },
   "outputs": [],
   "source": [
    "x_train, x_test, y_train, y_test = train_test_split(X_pca, y_pca, test_size=0.3, shuffle=True, random_state=32)"
   ]
  },
  {
   "cell_type": "code",
   "execution_count": null,
   "id": "cb2f6951",
   "metadata": {
    "id": "cb2f6951",
    "outputId": "bdd1052f-1713-469d-e2eb-e5cee83f75e9"
   },
   "outputs": [
    {
     "name": "stdout",
     "output_type": "stream",
     "text": [
      "Training QBOOST Model... \n",
      "QBoost training time in seconds : 57.322741361975204\n"
     ]
    }
   ],
   "source": [
    "model, train_time = trainQboost(x_train, y_train)"
   ]
  },
  {
   "cell_type": "code",
   "execution_count": null,
   "id": "e0814b1c",
   "metadata": {
    "id": "e0814b1c",
    "outputId": "893b1732-33ff-4bf1-a0ef-7184b31f36ad"
   },
   "outputs": [
    {
     "name": "stdout",
     "output_type": "stream",
     "text": [
      "Prediction on model : <qboost.qboost.QBoostClassifier object at 0x7ff6c18ec760>\n"
     ]
    }
   ],
   "source": [
    "predictions, predict_time = predictModel(model, x_train)"
   ]
  },
  {
   "cell_type": "code",
   "execution_count": null,
   "id": "890ee6af",
   "metadata": {
    "id": "890ee6af",
    "outputId": "b77ad0a7-3c61-4fbd-e519-d562b97fbd9a"
   },
   "outputs": [
    {
     "name": "stdout",
     "output_type": "stream",
     "text": [
      "Reporting Result ...\n",
      "Saved...\n"
     ]
    }
   ],
   "source": [
    "reportResult(y_train, predictions, str(model)[1:6], 'training', train_time, predict_time)"
   ]
  },
  {
   "cell_type": "code",
   "execution_count": null,
   "id": "44fa79fd",
   "metadata": {
    "id": "44fa79fd",
    "outputId": "70dc61f9-3bd7-4020-a809-54c60b59b889"
   },
   "outputs": [
    {
     "name": "stdout",
     "output_type": "stream",
     "text": [
      "Prediction on model : <qboost.qboost.QBoostClassifier object at 0x7ff6c18ec760>\n"
     ]
    }
   ],
   "source": [
    "predictions, predict_time = predictModel(model, x_test)"
   ]
  },
  {
   "cell_type": "code",
   "execution_count": null,
   "id": "719a9bdf",
   "metadata": {
    "id": "719a9bdf",
    "outputId": "b5e97117-40ec-4914-d545-62f921d5dc07"
   },
   "outputs": [
    {
     "name": "stdout",
     "output_type": "stream",
     "text": [
      "Reporting Result ...\n",
      "Saved...\n"
     ]
    }
   ],
   "source": [
    "reportResult(y_test, predictions, str(model)[1:4], 'test', train_time, predict_time)"
   ]
  },
  {
   "cell_type": "markdown",
   "id": "484fae99",
   "metadata": {
    "id": "484fae99"
   },
   "source": [
    "#### Size of Dataframe"
   ]
  },
  {
   "cell_type": "code",
   "execution_count": null,
   "id": "053e6aec",
   "metadata": {
    "colab": {
     "base_uri": "https://localhost:8080/"
    },
    "executionInfo": {
     "elapsed": 6,
     "status": "ok",
     "timestamp": 1688830382174,
     "user": {
      "displayName": "Anibrata Pal",
      "userId": "16454467692217386609"
     },
     "user_tz": -330
    },
    "id": "053e6aec",
    "outputId": "cfb0d0ce-22a2-45f3-f6df-7b04f2888348"
   },
   "outputs": [
    {
     "name": "stdout",
     "output_type": "stream",
     "text": [
      "45007312\n"
     ]
    }
   ],
   "source": [
    "print(sys.getsizeof(df))"
   ]
  },
  {
   "cell_type": "markdown",
   "id": "083e5a3a",
   "metadata": {
    "id": "083e5a3a"
   },
   "source": [
    "### PegaSos QSVC"
   ]
  },
  {
   "cell_type": "code",
   "execution_count": null,
   "id": "2e805922",
   "metadata": {
    "id": "2e805922"
   },
   "outputs": [],
   "source": [
    "scaled_X = MinMaxScaler(feature_range=(0, np.pi)).fit_transform(X)"
   ]
  },
  {
   "cell_type": "code",
   "execution_count": null,
   "id": "e222fb5e",
   "metadata": {
    "id": "e222fb5e"
   },
   "outputs": [],
   "source": [
    "n_components = 14  # Choose the desired number of components\n",
    "pca = PCA(n_components=n_components)\n",
    "X_pca = pca.fit_transform(scaled_X)"
   ]
  },
  {
   "cell_type": "code",
   "execution_count": null,
   "id": "xNLJIdjGIOyv",
   "metadata": {
    "id": "xNLJIdjGIOyv"
   },
   "outputs": [],
   "source": [
    "y_pca = y.values.ravel()"
   ]
  },
  {
   "cell_type": "code",
   "execution_count": null,
   "id": "1ba186b1",
   "metadata": {
    "id": "1ba186b1"
   },
   "outputs": [],
   "source": [
    "x_train, x_test, y_train, y_test = train_test_split(X_pca, y_pca, test_size=0.3, shuffle=True, random_state=32)"
   ]
  },
  {
   "cell_type": "code",
   "execution_count": null,
   "id": "8AfVz3JgIVWs",
   "metadata": {
    "id": "8AfVz3JgIVWs"
   },
   "outputs": [],
   "source": [
    "data_dimension = x_train.shape[1]"
   ]
  },
  {
   "cell_type": "code",
   "execution_count": null,
   "id": "acdf17c7",
   "metadata": {
    "id": "acdf17c7"
   },
   "outputs": [],
   "source": [
    "# Train PegaSOS QSVC\n",
    "def trainPQSVC(X, y, data_dimension):\n",
    "    print('Training PegaSOS QSVC Model... ')\n",
    "    # Number of qubits is equal to the number of features\n",
    "    num_qubits = data_dimension  # Test with high data dimension to check if this works\n",
    "    # Number of steps performed during the training procedure\n",
    "    tau = 100  # Test with other number of steps to check difference in data\n",
    "    # Regularization parameter\n",
    "    C = 1000\n",
    "\n",
    "    # Change the data for PegaSoS QSVC\n",
    "    # X = MinMaxScaler(feature_range=(0, np.pi)).fit_transform(X)\n",
    "    # print(len(X))\n",
    "    # print(len(y))\n",
    "\n",
    "    # Split dataset into Training and Testing Data\n",
    "    # x_train, x_test, y_train, y_test = train_test_split(X, y, test_size=0.3, shuffle=True, random_state=32)\n",
    "\n",
    "    # Define feature maps and kernel\n",
    "    feature_map = ZFeatureMap(feature_dimension=num_qubits, reps=2)\n",
    "    qkernel = FidelityQuantumKernel(feature_map=feature_map)\n",
    "\n",
    "    # algorithm_globals.random_seed = 12345  # Already declared in the global variables\n",
    "    # Define the Pegasos QSVC classifier\n",
    "    pegasos_qsvc = PegasosQSVC(quantum_kernel=qkernel, C=C, num_steps=tau)\n",
    "    # training - fit classifier to data\n",
    "    start = timer()\n",
    "    pegasos_qsvc.fit(X, y)\n",
    "    end = timer()\n",
    "    train_time = end - start\n",
    "\n",
    "    return pegasos_qsvc, train_time"
   ]
  },
  {
   "cell_type": "code",
   "execution_count": null,
   "id": "ac04a4aa",
   "metadata": {
    "colab": {
     "base_uri": "https://localhost:8080/"
    },
    "id": "ac04a4aa",
    "outputId": "c5b765c6-98c2-4195-a178-7d18cb993f3e"
   },
   "outputs": [
    {
     "name": "stdout",
     "output_type": "stream",
     "text": [
      "Training PegaSOS QSVC Model... \n"
     ]
    }
   ],
   "source": [
    "model, train_time = trainPQSVC(x_train, y_train, x_train.shape[1])\n",
    "predictions, predict_time = predictModel(model, x_train)\n",
    "reportResult(y_train, predictions, str(model)[1:6], 'training', train_time, predict_time)\n",
    "predictions, predict_time = predictModel(model, x_test)\n",
    "reportResult(y_test, predictions, str(model)[1:6], 'testing', train_time, predict_time)"
   ]
  },
  {
   "cell_type": "code",
   "execution_count": null,
   "id": "d054b40c",
   "metadata": {
    "id": "d054b40c"
   },
   "outputs": [],
   "source": [
    "predictions, predict_time = predictModel(model, x_train)"
   ]
  },
  {
   "cell_type": "code",
   "execution_count": null,
   "id": "467e7771",
   "metadata": {
    "id": "467e7771"
   },
   "outputs": [],
   "source": [
    "reportResult(y_train, predictions, str(model)[1:6], 'training', train_time, predict_time)"
   ]
  },
  {
   "cell_type": "code",
   "execution_count": null,
   "id": "b9831d54",
   "metadata": {
    "id": "b9831d54"
   },
   "outputs": [],
   "source": [
    "predictions, predict_time = predictModel(model, x_test)"
   ]
  },
  {
   "cell_type": "code",
   "execution_count": null,
   "id": "59dc25f9",
   "metadata": {
    "id": "59dc25f9"
   },
   "outputs": [],
   "source": [
    "reportResult(y_train, predictions, str(model)[1:6], 'training', train_time, predict_time)"
   ]
  },
  {
   "cell_type": "markdown",
   "id": "86648d20",
   "metadata": {
    "id": "86648d20"
   },
   "source": [
    "### VQC"
   ]
  },
  {
   "cell_type": "code",
   "execution_count": 54,
   "id": "hB8p7bFbI1Dd",
   "metadata": {
    "executionInfo": {
     "elapsed": 753,
     "status": "ok",
     "timestamp": 1688847679591,
     "user": {
      "displayName": "Anibrata Pal",
      "userId": "16454467692217386609"
     },
     "user_tz": -330
    },
    "id": "hB8p7bFbI1Dd"
   },
   "outputs": [],
   "source": [
    "# Qiskit globals random seed\n",
    "algorithm_globals.random_seed = 42\n",
    "\n",
    "# Create empty array for callback to store evaluations of the objective function as global variable\n",
    "objective_func_vals = []"
   ]
  },
  {
   "cell_type": "code",
   "execution_count": 55,
   "id": "cO51LAbJIuRt",
   "metadata": {
    "executionInfo": {
     "elapsed": 823,
     "status": "ok",
     "timestamp": 1688847684165,
     "user": {
      "displayName": "Anibrata Pal",
      "userId": "16454467692217386609"
     },
     "user_tz": -330
    },
    "id": "cO51LAbJIuRt"
   },
   "outputs": [],
   "source": [
    "# Callback function that draws a live plot when the .fit() method is called\n",
    "def callback_graph(weights, obj_func_eval):\n",
    "    clear_output(wait=True)\n",
    "    objective_func_vals.append(obj_func_eval)\n",
    "    plt.title(\"Objective function value against iteration\")\n",
    "    plt.xlabel(\"Iteration\")\n",
    "    plt.ylabel(\"Objective function value\")\n",
    "    plt.plot(range(len(objective_func_vals)), objective_func_vals)"
   ]
  },
  {
   "cell_type": "code",
   "execution_count": 56,
   "id": "02e7fd4f",
   "metadata": {
    "executionInfo": {
     "elapsed": 34,
     "status": "ok",
     "timestamp": 1688847689252,
     "user": {
      "displayName": "Anibrata Pal",
      "userId": "16454467692217386609"
     },
     "user_tz": -330
    },
    "id": "02e7fd4f"
   },
   "outputs": [],
   "source": [
    "# Declare VQC\n",
    "def vqc_nat(feature_map, ansatz):\n",
    "    return VQC(\n",
    "        feature_map=feature_map,\n",
    "        ansatz=ansatz,\n",
    "        loss=\"cross_entropy\",\n",
    "        optimizer=COBYLA(maxiter=30),\n",
    "        callback=callback_graph,\n",
    "    )"
   ]
  },
  {
   "cell_type": "code",
   "execution_count": 57,
   "id": "ffdd6e57",
   "metadata": {
    "executionInfo": {
     "elapsed": 60,
     "status": "ok",
     "timestamp": 1688847693590,
     "user": {
      "displayName": "Anibrata Pal",
      "userId": "16454467692217386609"
     },
     "user_tz": -330
    },
    "id": "ffdd6e57"
   },
   "outputs": [],
   "source": [
    "# Training VQC\n",
    "def trainVQC(X, y, data_dimension):\n",
    "    print('Training VQC Model... ')\n",
    "    feature_map = ZZFeatureMap(data_dimension, reps=1)\n",
    "    ansatz = RealAmplitudes(data_dimension, reps=3)\n",
    "    vqc = vqc_nat(feature_map, ansatz)\n",
    "    start = timer()\n",
    "    # fit classifier to data\n",
    "    vqc.fit(X, y)\n",
    "    end = timer()\n",
    "    train_time = end - start\n",
    "    return vqc, train_time"
   ]
  },
  {
   "cell_type": "code",
   "execution_count": 65,
   "id": "fff6411a",
   "metadata": {
    "executionInfo": {
     "elapsed": 907,
     "status": "ok",
     "timestamp": 1688848114459,
     "user": {
      "displayName": "Anibrata Pal",
      "userId": "16454467692217386609"
     },
     "user_tz": -330
    },
    "id": "fff6411a"
   },
   "outputs": [],
   "source": [
    "x_train, x_test, y_train, y_test = train_test_split(X_pca, y_pca, test_size=0.3, shuffle=True, random_state=32)"
   ]
  },
  {
   "cell_type": "code",
   "execution_count": 66,
   "id": "c-H9Big-JVq1",
   "metadata": {
    "executionInfo": {
     "elapsed": 3,
     "status": "ok",
     "timestamp": 1688848117434,
     "user": {
      "displayName": "Anibrata Pal",
      "userId": "16454467692217386609"
     },
     "user_tz": -330
    },
    "id": "c-H9Big-JVq1"
   },
   "outputs": [],
   "source": [
    "data_dimension = x_train.shape[1]"
   ]
  },
  {
   "cell_type": "code",
   "execution_count": 73,
   "id": "iI7dh7dyJbC3",
   "metadata": {
    "colab": {
     "base_uri": "https://localhost:8080/"
    },
    "executionInfo": {
     "elapsed": 831,
     "status": "ok",
     "timestamp": 1688850097748,
     "user": {
      "displayName": "Anibrata Pal",
      "userId": "16454467692217386609"
     },
     "user_tz": -330
    },
    "id": "iI7dh7dyJbC3",
    "outputId": "097c6054-4626-4eaa-b057-848f3d0533b6"
   },
   "outputs": [
    {
     "data": {
      "text/plain": [
       "14"
      ]
     },
     "execution_count": 73,
     "metadata": {},
     "output_type": "execute_result"
    }
   ],
   "source": [
    "data_dimension"
   ]
  },
  {
   "cell_type": "code",
   "execution_count": null,
   "id": "db69da0d",
   "metadata": {
    "colab": {
     "base_uri": "https://localhost:8080/"
    },
    "id": "db69da0d",
    "outputId": "49c4599e-f0bc-4334-e754-eb6acd1c2c22"
   },
   "outputs": [
    {
     "name": "stdout",
     "output_type": "stream",
     "text": [
      "Training VQC Model... \n"
     ]
    },
    {
     "name": "stderr",
     "output_type": "stream",
     "text": [
      "/usr/local/lib/python3.10/dist-packages/sklearn/preprocessing/_encoders.py:868: FutureWarning: `sparse` was renamed to `sparse_output` in version 1.2 and will be removed in 1.4. `sparse_output` is ignored unless you leave `sparse` to its default value.\n",
      "  warnings.warn(\n"
     ]
    }
   ],
   "source": [
    "model, train_time = trainVQC(x_train, y_train, data_dimension)\n",
    "predictions, predict_time = predictModel(model, x_train)\n",
    "reportResult(y_train, predictions, str(model)[1:6], 'training', train_time, predict_time)\n",
    "predictions, predict_time = predictModel(model, x_test)\n",
    "reportResult(y_test, predictions, str(model)[1:6], 'testing', train_time, predict_time)"
   ]
  },
  {
   "cell_type": "code",
   "execution_count": null,
   "id": "sC63ti7lJriH",
   "metadata": {
    "id": "sC63ti7lJriH"
   },
   "outputs": [],
   "source": []
  },
  {
   "cell_type": "code",
   "execution_count": 72,
   "id": "23TOba33L4qf",
   "metadata": {
    "colab": {
     "base_uri": "https://localhost:8080/"
    },
    "executionInfo": {
     "elapsed": 842,
     "status": "ok",
     "timestamp": 1688850083409,
     "user": {
      "displayName": "Anibrata Pal",
      "userId": "16454467692217386609"
     },
     "user_tz": -330
    },
    "id": "23TOba33L4qf",
    "outputId": "67980776-3aa4-44c3-c288-07f99c1641c8"
   },
   "outputs": [
    {
     "name": "stdout",
     "output_type": "stream",
     "text": [
      "Sat Jul  8 21:01:22 2023       \n",
      "+-----------------------------------------------------------------------------+\n",
      "| NVIDIA-SMI 525.85.12    Driver Version: 525.85.12    CUDA Version: 12.0     |\n",
      "|-------------------------------+----------------------+----------------------+\n",
      "| GPU  Name        Persistence-M| Bus-Id        Disp.A | Volatile Uncorr. ECC |\n",
      "| Fan  Temp  Perf  Pwr:Usage/Cap|         Memory-Usage | GPU-Util  Compute M. |\n",
      "|                               |                      |               MIG M. |\n",
      "|===============================+======================+======================|\n",
      "|   0  NVIDIA A100-SXM...  Off  | 00000000:00:04.0 Off |                    0 |\n",
      "| N/A   33C    P0    45W / 400W |      0MiB / 40960MiB |      0%      Default |\n",
      "|                               |                      |             Disabled |\n",
      "+-------------------------------+----------------------+----------------------+\n",
      "                                                                               \n",
      "+-----------------------------------------------------------------------------+\n",
      "| Processes:                                                                  |\n",
      "|  GPU   GI   CI        PID   Type   Process name                  GPU Memory |\n",
      "|        ID   ID                                                   Usage      |\n",
      "|=============================================================================|\n",
      "|  No running processes found                                                 |\n",
      "+-----------------------------------------------------------------------------+\n"
     ]
    }
   ],
   "source": [
    "gpu_info = !nvidia-smi\n",
    "gpu_info = '\\n'.join(gpu_info)\n",
    "if gpu_info.find('failed') >= 0:\n",
    "  print('Not connected to a GPU')\n",
    "else:\n",
    "  print(gpu_info)"
   ]
  },
  {
   "cell_type": "code",
   "execution_count": null,
   "id": "pQX5fhcqJrq1",
   "metadata": {
    "id": "pQX5fhcqJrq1"
   },
   "outputs": [],
   "source": []
  },
  {
   "cell_type": "code",
   "execution_count": null,
   "id": "1sqtMpe7JsQ4",
   "metadata": {
    "id": "1sqtMpe7JsQ4"
   },
   "outputs": [],
   "source": []
  },
  {
   "cell_type": "markdown",
   "id": "5943f00f",
   "metadata": {
    "id": "5943f00f"
   },
   "source": [
    "## The part below is for scratch work"
   ]
  },
  {
   "cell_type": "markdown",
   "id": "84a6d961",
   "metadata": {
    "id": "84a6d961"
   },
   "source": [
    "### Correlation Matrix study"
   ]
  },
  {
   "cell_type": "code",
   "execution_count": null,
   "id": "68ccbd06",
   "metadata": {
    "id": "68ccbd06"
   },
   "outputs": [],
   "source": [
    "correlation_matrix = df.corr()"
   ]
  },
  {
   "cell_type": "code",
   "execution_count": null,
   "id": "aa3523cc",
   "metadata": {
    "id": "aa3523cc",
    "outputId": "7ecb48c3-288f-407d-9c89-ca58b9ebb110"
   },
   "outputs": [
    {
     "data": {
      "text/html": [
       "<div>\n",
       "<style scoped>\n",
       "    .dataframe tbody tr th:only-of-type {\n",
       "        vertical-align: middle;\n",
       "    }\n",
       "\n",
       "    .dataframe tbody tr th {\n",
       "        vertical-align: top;\n",
       "    }\n",
       "\n",
       "    .dataframe thead th {\n",
       "        text-align: right;\n",
       "    }\n",
       "</style>\n",
       "<table border=\"1\" class=\"dataframe\">\n",
       "  <thead>\n",
       "    <tr style=\"text-align: right;\">\n",
       "      <th></th>\n",
       "      <th>tcp.time_delta</th>\n",
       "      <th>tcp.len</th>\n",
       "      <th>mqtt.conack.val</th>\n",
       "      <th>mqtt.conflag.cleansess</th>\n",
       "      <th>mqtt.conflag.passwd</th>\n",
       "      <th>mqtt.conflag.uname</th>\n",
       "      <th>mqtt.dupflag</th>\n",
       "      <th>mqtt.kalive</th>\n",
       "      <th>mqtt.len</th>\n",
       "      <th>mqtt.msgid</th>\n",
       "      <th>mqtt.msgtype</th>\n",
       "      <th>mqtt.proto_len</th>\n",
       "      <th>mqtt.qos</th>\n",
       "      <th>mqtt.retain</th>\n",
       "      <th>mqtt.ver</th>\n",
       "      <th>target</th>\n",
       "    </tr>\n",
       "  </thead>\n",
       "  <tbody>\n",
       "    <tr>\n",
       "      <th>tcp.time_delta</th>\n",
       "      <td>1.000000</td>\n",
       "      <td>-0.006839</td>\n",
       "      <td>-0.006237</td>\n",
       "      <td>-0.009574</td>\n",
       "      <td>-0.006284</td>\n",
       "      <td>-0.006293</td>\n",
       "      <td>-0.018793</td>\n",
       "      <td>-0.005319</td>\n",
       "      <td>-0.036893</td>\n",
       "      <td>-0.048444</td>\n",
       "      <td>0.282967</td>\n",
       "      <td>-0.009574</td>\n",
       "      <td>-0.038094</td>\n",
       "      <td>-0.001821</td>\n",
       "      <td>-0.009574</td>\n",
       "      <td>-0.091051</td>\n",
       "    </tr>\n",
       "    <tr>\n",
       "      <th>tcp.len</th>\n",
       "      <td>-0.006839</td>\n",
       "      <td>1.000000</td>\n",
       "      <td>-0.010344</td>\n",
       "      <td>-0.013420</td>\n",
       "      <td>-0.008602</td>\n",
       "      <td>-0.008615</td>\n",
       "      <td>0.159563</td>\n",
       "      <td>-0.008798</td>\n",
       "      <td>0.274388</td>\n",
       "      <td>0.167136</td>\n",
       "      <td>0.085966</td>\n",
       "      <td>-0.013420</td>\n",
       "      <td>0.271450</td>\n",
       "      <td>0.008837</td>\n",
       "      <td>-0.013420</td>\n",
       "      <td>0.153134</td>\n",
       "    </tr>\n",
       "    <tr>\n",
       "      <th>mqtt.conack.val</th>\n",
       "      <td>-0.006237</td>\n",
       "      <td>-0.010344</td>\n",
       "      <td>1.000000</td>\n",
       "      <td>-0.006589</td>\n",
       "      <td>-0.004325</td>\n",
       "      <td>-0.004331</td>\n",
       "      <td>-0.016114</td>\n",
       "      <td>-0.003661</td>\n",
       "      <td>-0.031773</td>\n",
       "      <td>-0.034952</td>\n",
       "      <td>-0.001580</td>\n",
       "      <td>-0.006589</td>\n",
       "      <td>-0.029208</td>\n",
       "      <td>-0.001259</td>\n",
       "      <td>-0.006589</td>\n",
       "      <td>0.065829</td>\n",
       "    </tr>\n",
       "    <tr>\n",
       "      <th>mqtt.conflag.cleansess</th>\n",
       "      <td>-0.009574</td>\n",
       "      <td>-0.013420</td>\n",
       "      <td>-0.006589</td>\n",
       "      <td>1.000000</td>\n",
       "      <td>0.656374</td>\n",
       "      <td>0.657300</td>\n",
       "      <td>-0.024498</td>\n",
       "      <td>0.555609</td>\n",
       "      <td>0.001759</td>\n",
       "      <td>-0.053137</td>\n",
       "      <td>-0.056412</td>\n",
       "      <td>1.000000</td>\n",
       "      <td>-0.044405</td>\n",
       "      <td>-0.001914</td>\n",
       "      <td>1.000000</td>\n",
       "      <td>0.100080</td>\n",
       "    </tr>\n",
       "    <tr>\n",
       "      <th>mqtt.conflag.passwd</th>\n",
       "      <td>-0.006284</td>\n",
       "      <td>-0.008602</td>\n",
       "      <td>-0.004325</td>\n",
       "      <td>0.656374</td>\n",
       "      <td>1.000000</td>\n",
       "      <td>0.998590</td>\n",
       "      <td>-0.016080</td>\n",
       "      <td>-0.002566</td>\n",
       "      <td>-0.005277</td>\n",
       "      <td>-0.034878</td>\n",
       "      <td>-0.037027</td>\n",
       "      <td>0.656374</td>\n",
       "      <td>-0.029146</td>\n",
       "      <td>-0.001256</td>\n",
       "      <td>0.656374</td>\n",
       "      <td>0.065690</td>\n",
       "    </tr>\n",
       "    <tr>\n",
       "      <th>mqtt.conflag.uname</th>\n",
       "      <td>-0.006293</td>\n",
       "      <td>-0.008615</td>\n",
       "      <td>-0.004331</td>\n",
       "      <td>0.657300</td>\n",
       "      <td>0.998590</td>\n",
       "      <td>1.000000</td>\n",
       "      <td>-0.016102</td>\n",
       "      <td>-0.002569</td>\n",
       "      <td>-0.005299</td>\n",
       "      <td>-0.034927</td>\n",
       "      <td>-0.037080</td>\n",
       "      <td>0.657300</td>\n",
       "      <td>-0.029188</td>\n",
       "      <td>-0.001258</td>\n",
       "      <td>0.657300</td>\n",
       "      <td>0.065783</td>\n",
       "    </tr>\n",
       "    <tr>\n",
       "      <th>mqtt.dupflag</th>\n",
       "      <td>-0.018793</td>\n",
       "      <td>0.159563</td>\n",
       "      <td>-0.016114</td>\n",
       "      <td>-0.024498</td>\n",
       "      <td>-0.016080</td>\n",
       "      <td>-0.016102</td>\n",
       "      <td>1.000000</td>\n",
       "      <td>-0.013611</td>\n",
       "      <td>0.545516</td>\n",
       "      <td>0.388063</td>\n",
       "      <td>0.126216</td>\n",
       "      <td>-0.024498</td>\n",
       "      <td>0.551688</td>\n",
       "      <td>-0.004681</td>\n",
       "      <td>-0.024498</td>\n",
       "      <td>0.244767</td>\n",
       "    </tr>\n",
       "    <tr>\n",
       "      <th>mqtt.kalive</th>\n",
       "      <td>-0.005319</td>\n",
       "      <td>-0.008798</td>\n",
       "      <td>-0.003661</td>\n",
       "      <td>0.555609</td>\n",
       "      <td>-0.002566</td>\n",
       "      <td>-0.002569</td>\n",
       "      <td>-0.013611</td>\n",
       "      <td>1.000000</td>\n",
       "      <td>-0.001531</td>\n",
       "      <td>-0.029524</td>\n",
       "      <td>-0.031343</td>\n",
       "      <td>0.555609</td>\n",
       "      <td>-0.024672</td>\n",
       "      <td>-0.001063</td>\n",
       "      <td>0.555609</td>\n",
       "      <td>0.055605</td>\n",
       "    </tr>\n",
       "    <tr>\n",
       "      <th>mqtt.len</th>\n",
       "      <td>-0.036893</td>\n",
       "      <td>0.274388</td>\n",
       "      <td>-0.031773</td>\n",
       "      <td>0.001759</td>\n",
       "      <td>-0.005277</td>\n",
       "      <td>-0.005299</td>\n",
       "      <td>0.545516</td>\n",
       "      <td>-0.001531</td>\n",
       "      <td>1.000000</td>\n",
       "      <td>0.595785</td>\n",
       "      <td>0.261949</td>\n",
       "      <td>0.001759</td>\n",
       "      <td>0.988156</td>\n",
       "      <td>0.002314</td>\n",
       "      <td>0.001759</td>\n",
       "      <td>0.409264</td>\n",
       "    </tr>\n",
       "    <tr>\n",
       "      <th>mqtt.msgid</th>\n",
       "      <td>-0.048444</td>\n",
       "      <td>0.167136</td>\n",
       "      <td>-0.034952</td>\n",
       "      <td>-0.053137</td>\n",
       "      <td>-0.034878</td>\n",
       "      <td>-0.034927</td>\n",
       "      <td>0.388063</td>\n",
       "      <td>-0.029524</td>\n",
       "      <td>0.595785</td>\n",
       "      <td>1.000000</td>\n",
       "      <td>0.390695</td>\n",
       "      <td>-0.053137</td>\n",
       "      <td>0.612174</td>\n",
       "      <td>-0.010154</td>\n",
       "      <td>-0.053137</td>\n",
       "      <td>0.530914</td>\n",
       "    </tr>\n",
       "    <tr>\n",
       "      <th>mqtt.msgtype</th>\n",
       "      <td>0.282967</td>\n",
       "      <td>0.085966</td>\n",
       "      <td>-0.001580</td>\n",
       "      <td>-0.056412</td>\n",
       "      <td>-0.037027</td>\n",
       "      <td>-0.037080</td>\n",
       "      <td>0.126216</td>\n",
       "      <td>-0.031343</td>\n",
       "      <td>0.261949</td>\n",
       "      <td>0.390695</td>\n",
       "      <td>1.000000</td>\n",
       "      <td>-0.056412</td>\n",
       "      <td>0.228781</td>\n",
       "      <td>0.009862</td>\n",
       "      <td>-0.056412</td>\n",
       "      <td>-0.004340</td>\n",
       "    </tr>\n",
       "    <tr>\n",
       "      <th>mqtt.proto_len</th>\n",
       "      <td>-0.009574</td>\n",
       "      <td>-0.013420</td>\n",
       "      <td>-0.006589</td>\n",
       "      <td>1.000000</td>\n",
       "      <td>0.656374</td>\n",
       "      <td>0.657300</td>\n",
       "      <td>-0.024498</td>\n",
       "      <td>0.555609</td>\n",
       "      <td>0.001759</td>\n",
       "      <td>-0.053137</td>\n",
       "      <td>-0.056412</td>\n",
       "      <td>1.000000</td>\n",
       "      <td>-0.044405</td>\n",
       "      <td>-0.001914</td>\n",
       "      <td>1.000000</td>\n",
       "      <td>0.100080</td>\n",
       "    </tr>\n",
       "    <tr>\n",
       "      <th>mqtt.qos</th>\n",
       "      <td>-0.038094</td>\n",
       "      <td>0.271450</td>\n",
       "      <td>-0.029208</td>\n",
       "      <td>-0.044405</td>\n",
       "      <td>-0.029146</td>\n",
       "      <td>-0.029188</td>\n",
       "      <td>0.551688</td>\n",
       "      <td>-0.024672</td>\n",
       "      <td>0.988156</td>\n",
       "      <td>0.612174</td>\n",
       "      <td>0.228781</td>\n",
       "      <td>-0.044405</td>\n",
       "      <td>1.000000</td>\n",
       "      <td>-0.008485</td>\n",
       "      <td>-0.044405</td>\n",
       "      <td>0.443668</td>\n",
       "    </tr>\n",
       "    <tr>\n",
       "      <th>mqtt.retain</th>\n",
       "      <td>-0.001821</td>\n",
       "      <td>0.008837</td>\n",
       "      <td>-0.001259</td>\n",
       "      <td>-0.001914</td>\n",
       "      <td>-0.001256</td>\n",
       "      <td>-0.001258</td>\n",
       "      <td>-0.004681</td>\n",
       "      <td>-0.001063</td>\n",
       "      <td>0.002314</td>\n",
       "      <td>-0.010154</td>\n",
       "      <td>0.009862</td>\n",
       "      <td>-0.001914</td>\n",
       "      <td>-0.008485</td>\n",
       "      <td>1.000000</td>\n",
       "      <td>-0.001914</td>\n",
       "      <td>0.019124</td>\n",
       "    </tr>\n",
       "    <tr>\n",
       "      <th>mqtt.ver</th>\n",
       "      <td>-0.009574</td>\n",
       "      <td>-0.013420</td>\n",
       "      <td>-0.006589</td>\n",
       "      <td>1.000000</td>\n",
       "      <td>0.656374</td>\n",
       "      <td>0.657300</td>\n",
       "      <td>-0.024498</td>\n",
       "      <td>0.555609</td>\n",
       "      <td>0.001759</td>\n",
       "      <td>-0.053137</td>\n",
       "      <td>-0.056412</td>\n",
       "      <td>1.000000</td>\n",
       "      <td>-0.044405</td>\n",
       "      <td>-0.001914</td>\n",
       "      <td>1.000000</td>\n",
       "      <td>0.100080</td>\n",
       "    </tr>\n",
       "    <tr>\n",
       "      <th>target</th>\n",
       "      <td>-0.091051</td>\n",
       "      <td>0.153134</td>\n",
       "      <td>0.065829</td>\n",
       "      <td>0.100080</td>\n",
       "      <td>0.065690</td>\n",
       "      <td>0.065783</td>\n",
       "      <td>0.244767</td>\n",
       "      <td>0.055605</td>\n",
       "      <td>0.409264</td>\n",
       "      <td>0.530914</td>\n",
       "      <td>-0.004340</td>\n",
       "      <td>0.100080</td>\n",
       "      <td>0.443668</td>\n",
       "      <td>0.019124</td>\n",
       "      <td>0.100080</td>\n",
       "      <td>1.000000</td>\n",
       "    </tr>\n",
       "  </tbody>\n",
       "</table>\n",
       "</div>"
      ],
      "text/plain": [
       "                        tcp.time_delta   tcp.len  mqtt.conack.val  \\\n",
       "tcp.time_delta                1.000000 -0.006839        -0.006237   \n",
       "tcp.len                      -0.006839  1.000000        -0.010344   \n",
       "mqtt.conack.val              -0.006237 -0.010344         1.000000   \n",
       "mqtt.conflag.cleansess       -0.009574 -0.013420        -0.006589   \n",
       "mqtt.conflag.passwd          -0.006284 -0.008602        -0.004325   \n",
       "mqtt.conflag.uname           -0.006293 -0.008615        -0.004331   \n",
       "mqtt.dupflag                 -0.018793  0.159563        -0.016114   \n",
       "mqtt.kalive                  -0.005319 -0.008798        -0.003661   \n",
       "mqtt.len                     -0.036893  0.274388        -0.031773   \n",
       "mqtt.msgid                   -0.048444  0.167136        -0.034952   \n",
       "mqtt.msgtype                  0.282967  0.085966        -0.001580   \n",
       "mqtt.proto_len               -0.009574 -0.013420        -0.006589   \n",
       "mqtt.qos                     -0.038094  0.271450        -0.029208   \n",
       "mqtt.retain                  -0.001821  0.008837        -0.001259   \n",
       "mqtt.ver                     -0.009574 -0.013420        -0.006589   \n",
       "target                       -0.091051  0.153134         0.065829   \n",
       "\n",
       "                        mqtt.conflag.cleansess  mqtt.conflag.passwd  \\\n",
       "tcp.time_delta                       -0.009574            -0.006284   \n",
       "tcp.len                              -0.013420            -0.008602   \n",
       "mqtt.conack.val                      -0.006589            -0.004325   \n",
       "mqtt.conflag.cleansess                1.000000             0.656374   \n",
       "mqtt.conflag.passwd                   0.656374             1.000000   \n",
       "mqtt.conflag.uname                    0.657300             0.998590   \n",
       "mqtt.dupflag                         -0.024498            -0.016080   \n",
       "mqtt.kalive                           0.555609            -0.002566   \n",
       "mqtt.len                              0.001759            -0.005277   \n",
       "mqtt.msgid                           -0.053137            -0.034878   \n",
       "mqtt.msgtype                         -0.056412            -0.037027   \n",
       "mqtt.proto_len                        1.000000             0.656374   \n",
       "mqtt.qos                             -0.044405            -0.029146   \n",
       "mqtt.retain                          -0.001914            -0.001256   \n",
       "mqtt.ver                              1.000000             0.656374   \n",
       "target                                0.100080             0.065690   \n",
       "\n",
       "                        mqtt.conflag.uname  mqtt.dupflag  mqtt.kalive  \\\n",
       "tcp.time_delta                   -0.006293     -0.018793    -0.005319   \n",
       "tcp.len                          -0.008615      0.159563    -0.008798   \n",
       "mqtt.conack.val                  -0.004331     -0.016114    -0.003661   \n",
       "mqtt.conflag.cleansess            0.657300     -0.024498     0.555609   \n",
       "mqtt.conflag.passwd               0.998590     -0.016080    -0.002566   \n",
       "mqtt.conflag.uname                1.000000     -0.016102    -0.002569   \n",
       "mqtt.dupflag                     -0.016102      1.000000    -0.013611   \n",
       "mqtt.kalive                      -0.002569     -0.013611     1.000000   \n",
       "mqtt.len                         -0.005299      0.545516    -0.001531   \n",
       "mqtt.msgid                       -0.034927      0.388063    -0.029524   \n",
       "mqtt.msgtype                     -0.037080      0.126216    -0.031343   \n",
       "mqtt.proto_len                    0.657300     -0.024498     0.555609   \n",
       "mqtt.qos                         -0.029188      0.551688    -0.024672   \n",
       "mqtt.retain                      -0.001258     -0.004681    -0.001063   \n",
       "mqtt.ver                          0.657300     -0.024498     0.555609   \n",
       "target                            0.065783      0.244767     0.055605   \n",
       "\n",
       "                        mqtt.len  mqtt.msgid  mqtt.msgtype  mqtt.proto_len  \\\n",
       "tcp.time_delta         -0.036893   -0.048444      0.282967       -0.009574   \n",
       "tcp.len                 0.274388    0.167136      0.085966       -0.013420   \n",
       "mqtt.conack.val        -0.031773   -0.034952     -0.001580       -0.006589   \n",
       "mqtt.conflag.cleansess  0.001759   -0.053137     -0.056412        1.000000   \n",
       "mqtt.conflag.passwd    -0.005277   -0.034878     -0.037027        0.656374   \n",
       "mqtt.conflag.uname     -0.005299   -0.034927     -0.037080        0.657300   \n",
       "mqtt.dupflag            0.545516    0.388063      0.126216       -0.024498   \n",
       "mqtt.kalive            -0.001531   -0.029524     -0.031343        0.555609   \n",
       "mqtt.len                1.000000    0.595785      0.261949        0.001759   \n",
       "mqtt.msgid              0.595785    1.000000      0.390695       -0.053137   \n",
       "mqtt.msgtype            0.261949    0.390695      1.000000       -0.056412   \n",
       "mqtt.proto_len          0.001759   -0.053137     -0.056412        1.000000   \n",
       "mqtt.qos                0.988156    0.612174      0.228781       -0.044405   \n",
       "mqtt.retain             0.002314   -0.010154      0.009862       -0.001914   \n",
       "mqtt.ver                0.001759   -0.053137     -0.056412        1.000000   \n",
       "target                  0.409264    0.530914     -0.004340        0.100080   \n",
       "\n",
       "                        mqtt.qos  mqtt.retain  mqtt.ver    target  \n",
       "tcp.time_delta         -0.038094    -0.001821 -0.009574 -0.091051  \n",
       "tcp.len                 0.271450     0.008837 -0.013420  0.153134  \n",
       "mqtt.conack.val        -0.029208    -0.001259 -0.006589  0.065829  \n",
       "mqtt.conflag.cleansess -0.044405    -0.001914  1.000000  0.100080  \n",
       "mqtt.conflag.passwd    -0.029146    -0.001256  0.656374  0.065690  \n",
       "mqtt.conflag.uname     -0.029188    -0.001258  0.657300  0.065783  \n",
       "mqtt.dupflag            0.551688    -0.004681 -0.024498  0.244767  \n",
       "mqtt.kalive            -0.024672    -0.001063  0.555609  0.055605  \n",
       "mqtt.len                0.988156     0.002314  0.001759  0.409264  \n",
       "mqtt.msgid              0.612174    -0.010154 -0.053137  0.530914  \n",
       "mqtt.msgtype            0.228781     0.009862 -0.056412 -0.004340  \n",
       "mqtt.proto_len         -0.044405    -0.001914  1.000000  0.100080  \n",
       "mqtt.qos                1.000000    -0.008485 -0.044405  0.443668  \n",
       "mqtt.retain            -0.008485     1.000000 -0.001914  0.019124  \n",
       "mqtt.ver               -0.044405    -0.001914  1.000000  0.100080  \n",
       "target                  0.443668     0.019124  0.100080  1.000000  "
      ]
     },
     "execution_count": 186,
     "metadata": {},
     "output_type": "execute_result"
    }
   ],
   "source": [
    "correlation_matrix"
   ]
  },
  {
   "cell_type": "code",
   "execution_count": null,
   "id": "a0488175",
   "metadata": {
    "id": "a0488175"
   },
   "outputs": [],
   "source": [
    "cm = correlation_matrix"
   ]
  },
  {
   "cell_type": "code",
   "execution_count": null,
   "id": "3986beb9",
   "metadata": {
    "id": "3986beb9"
   },
   "outputs": [],
   "source": [
    "cm"
   ]
  },
  {
   "cell_type": "code",
   "execution_count": null,
   "id": "7fc3d392",
   "metadata": {
    "id": "7fc3d392"
   },
   "outputs": [],
   "source": [
    "# plt.figure(figsize=(10, 8))\n",
    "# sns.heatmap(correlation_matrix, annot=True, cmap='coolwarm')\n",
    "# plt.title('Correlation Matrix')\n",
    "# plt.show()"
   ]
  },
  {
   "cell_type": "code",
   "execution_count": null,
   "id": "f4130a38",
   "metadata": {
    "id": "f4130a38"
   },
   "outputs": [],
   "source": [
    "single_feature_correlation = correlation_matrix['target']"
   ]
  },
  {
   "cell_type": "code",
   "execution_count": null,
   "id": "111baebc",
   "metadata": {
    "id": "111baebc",
    "outputId": "5ba8d0c0-8b4f-4f37-cdd5-ea14e316bbbe"
   },
   "outputs": [
    {
     "data": {
      "text/plain": [
       "tcp.time_delta           -0.091051\n",
       "tcp.len                   0.153134\n",
       "mqtt.conack.val           0.065829\n",
       "mqtt.conflag.cleansess    0.100080\n",
       "mqtt.conflag.passwd       0.065690\n",
       "mqtt.conflag.uname        0.065783\n",
       "mqtt.dupflag              0.244767\n",
       "mqtt.kalive               0.055605\n",
       "mqtt.len                  0.409264\n",
       "mqtt.msgid                0.530914\n",
       "mqtt.msgtype             -0.004340\n",
       "mqtt.proto_len            0.100080\n",
       "mqtt.qos                  0.443668\n",
       "mqtt.retain               0.019124\n",
       "mqtt.ver                  0.100080\n",
       "target                    1.000000\n",
       "Name: target, dtype: float64"
      ]
     },
     "execution_count": 189,
     "metadata": {},
     "output_type": "execute_result"
    }
   ],
   "source": [
    "single_feature_correlation"
   ]
  },
  {
   "cell_type": "code",
   "execution_count": null,
   "id": "c5b7dc4c",
   "metadata": {
    "id": "c5b7dc4c"
   },
   "outputs": [],
   "source": [
    "# Select NaN values\n",
    "nan_values = single_feature_correlation[single_feature_correlation.isnull()]"
   ]
  },
  {
   "cell_type": "code",
   "execution_count": null,
   "id": "9e7842d4",
   "metadata": {
    "id": "9e7842d4"
   },
   "outputs": [],
   "source": [
    "nan_values"
   ]
  },
  {
   "cell_type": "code",
   "execution_count": null,
   "id": "80eafa18",
   "metadata": {
    "id": "80eafa18"
   },
   "outputs": [],
   "source": [
    "X['Flow_Byts/s']"
   ]
  }
 ],
 "metadata": {
  "accelerator": "GPU",
  "colab": {
   "gpuType": "A100",
   "provenance": []
  },
  "kernelspec": {
   "display_name": "Python 3 (ipykernel)",
   "language": "python",
   "name": "python3"
  },
  "language_info": {
   "codemirror_mode": {
    "name": "ipython",
    "version": 3
   },
   "file_extension": ".py",
   "mimetype": "text/x-python",
   "name": "python",
   "nbconvert_exporter": "python",
   "pygments_lexer": "ipython3",
   "version": "3.9.12"
  }
 },
 "nbformat": 4,
 "nbformat_minor": 5
}
